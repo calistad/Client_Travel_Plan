{
 "cells": [
  {
   "cell_type": "code",
   "execution_count": 105,
   "id": "6adb48e1-7c65-4ec7-a43f-d2321c108297",
   "metadata": {},
   "outputs": [],
   "source": [
    "# Import libraries.\n",
    "import pandas as pd\n",
    "import numpy as np\n",
    "import seaborn as sns\n",
    "import matplotlib.pyplot as plt\n",
    "\n",
    "from sklearn.preprocessing import OrdinalEncoder, StandardScaler\n",
    "from sklearn.linear_model import LinearRegression, Ridge, Lasso\n",
    "from sklearn.ensemble import RandomForestRegressor,VotingRegressor,GradientBoostingRegressor,AdaBoostRegressor\n",
    "from sklearn.model_selection import train_test_split, cross_val_score, RandomizedSearchCV\n",
    "from sklearn.metrics import mean_squared_error as MSE\n",
    "\n",
    "from statsmodels.formula.api import ols\n",
    "from scipy import stats\n",
    "import statsmodels.api as sm\n",
    "import eli5\n",
    "\n",
    "import warnings \n",
    "warnings.filterwarnings('ignore')"
   ]
  },
  {
   "cell_type": "code",
   "execution_count": 2,
   "id": "d42fa9cf-60cf-4002-b7f9-ea768fd7de74",
   "metadata": {},
   "outputs": [],
   "source": [
    "df = pd.read_csv('Resources/airbnb_la.csv')"
   ]
  },
  {
   "cell_type": "code",
   "execution_count": 3,
   "id": "888a889f-6651-4fa1-a357-234f22ce2e37",
   "metadata": {},
   "outputs": [
    {
     "data": {
      "text/plain": [
       "(31253, 95)"
      ]
     },
     "execution_count": 3,
     "metadata": {},
     "output_type": "execute_result"
    }
   ],
   "source": [
    "# Total number of rows and columns.\n",
    "df.shape"
   ]
  },
  {
   "cell_type": "code",
   "execution_count": 4,
   "id": "1ab3f53b-e3e9-4eea-8b29-ece209c5c553",
   "metadata": {},
   "outputs": [
    {
     "data": {
      "text/html": [
       "<div>\n",
       "<style scoped>\n",
       "    .dataframe tbody tr th:only-of-type {\n",
       "        vertical-align: middle;\n",
       "    }\n",
       "\n",
       "    .dataframe tbody tr th {\n",
       "        vertical-align: top;\n",
       "    }\n",
       "\n",
       "    .dataframe thead th {\n",
       "        text-align: right;\n",
       "    }\n",
       "</style>\n",
       "<table border=\"1\" class=\"dataframe\">\n",
       "  <thead>\n",
       "    <tr style=\"text-align: right;\">\n",
       "      <th></th>\n",
       "      <th>id</th>\n",
       "      <th>listing_url</th>\n",
       "      <th>scrape_id</th>\n",
       "      <th>last_scraped</th>\n",
       "      <th>name</th>\n",
       "      <th>summary</th>\n",
       "      <th>space</th>\n",
       "      <th>description</th>\n",
       "      <th>experiences_offered</th>\n",
       "      <th>neighborhood_overview</th>\n",
       "      <th>notes</th>\n",
       "      <th>transit</th>\n",
       "      <th>access</th>\n",
       "      <th>interaction</th>\n",
       "      <th>house_rules</th>\n",
       "      <th>thumbnail_url</th>\n",
       "      <th>medium_url</th>\n",
       "      <th>picture_url</th>\n",
       "      <th>xl_picture_url</th>\n",
       "      <th>host_id</th>\n",
       "      <th>host_url</th>\n",
       "      <th>host_name</th>\n",
       "      <th>host_since</th>\n",
       "      <th>host_location</th>\n",
       "      <th>host_about</th>\n",
       "      <th>host_response_time</th>\n",
       "      <th>host_response_rate</th>\n",
       "      <th>host_acceptance_rate</th>\n",
       "      <th>host_is_superhost</th>\n",
       "      <th>host_thumbnail_url</th>\n",
       "      <th>host_picture_url</th>\n",
       "      <th>host_neighbourhood</th>\n",
       "      <th>host_listings_count</th>\n",
       "      <th>host_total_listings_count</th>\n",
       "      <th>host_verifications</th>\n",
       "      <th>host_has_profile_pic</th>\n",
       "      <th>host_identity_verified</th>\n",
       "      <th>street</th>\n",
       "      <th>neighbourhood</th>\n",
       "      <th>neighbourhood_cleansed</th>\n",
       "      <th>neighbourhood_group_cleansed</th>\n",
       "      <th>city</th>\n",
       "      <th>state</th>\n",
       "      <th>zipcode</th>\n",
       "      <th>market</th>\n",
       "      <th>smart_location</th>\n",
       "      <th>country_code</th>\n",
       "      <th>country</th>\n",
       "      <th>latitude</th>\n",
       "      <th>longitude</th>\n",
       "      <th>is_location_exact</th>\n",
       "      <th>property_type</th>\n",
       "      <th>room_type</th>\n",
       "      <th>accommodates</th>\n",
       "      <th>bathrooms</th>\n",
       "      <th>bedrooms</th>\n",
       "      <th>beds</th>\n",
       "      <th>bed_type</th>\n",
       "      <th>amenities</th>\n",
       "      <th>square_feet</th>\n",
       "      <th>price</th>\n",
       "      <th>weekly_price</th>\n",
       "      <th>monthly_price</th>\n",
       "      <th>security_deposit</th>\n",
       "      <th>cleaning_fee</th>\n",
       "      <th>guests_included</th>\n",
       "      <th>extra_people</th>\n",
       "      <th>minimum_nights</th>\n",
       "      <th>maximum_nights</th>\n",
       "      <th>calendar_updated</th>\n",
       "      <th>has_availability</th>\n",
       "      <th>availability_30</th>\n",
       "      <th>availability_60</th>\n",
       "      <th>availability_90</th>\n",
       "      <th>availability_365</th>\n",
       "      <th>calendar_last_scraped</th>\n",
       "      <th>number_of_reviews</th>\n",
       "      <th>first_review</th>\n",
       "      <th>last_review</th>\n",
       "      <th>review_scores_rating</th>\n",
       "      <th>review_scores_accuracy</th>\n",
       "      <th>review_scores_cleanliness</th>\n",
       "      <th>review_scores_checkin</th>\n",
       "      <th>review_scores_communication</th>\n",
       "      <th>review_scores_location</th>\n",
       "      <th>review_scores_value</th>\n",
       "      <th>requires_license</th>\n",
       "      <th>license</th>\n",
       "      <th>jurisdiction_names</th>\n",
       "      <th>instant_bookable</th>\n",
       "      <th>cancellation_policy</th>\n",
       "      <th>require_guest_profile_picture</th>\n",
       "      <th>require_guest_phone_verification</th>\n",
       "      <th>calculated_host_listings_count</th>\n",
       "      <th>reviews_per_month</th>\n",
       "    </tr>\n",
       "  </thead>\n",
       "  <tbody>\n",
       "    <tr>\n",
       "      <th>0</th>\n",
       "      <td>16228948</td>\n",
       "      <td>https://www.airbnb.com/rooms/16228948</td>\n",
       "      <td>20170502172350</td>\n",
       "      <td>2017-05-03</td>\n",
       "      <td>Robert Ranch in Los Angeles for filming/wedding</td>\n",
       "      <td>Stunning Ranch Estate situated on 20 acres and...</td>\n",
       "      <td>NaN</td>\n",
       "      <td>Stunning Ranch Estate situated on 20 acres and...</td>\n",
       "      <td>none</td>\n",
       "      <td>NaN</td>\n",
       "      <td>NaN</td>\n",
       "      <td>NaN</td>\n",
       "      <td>NaN</td>\n",
       "      <td>NaN</td>\n",
       "      <td>- No noise/music outside allowed after 10 pm. ...</td>\n",
       "      <td>NaN</td>\n",
       "      <td>NaN</td>\n",
       "      <td>https://a0.muscache.com/im/pictures/dd850460-4...</td>\n",
       "      <td>NaN</td>\n",
       "      <td>54345288</td>\n",
       "      <td>https://www.airbnb.com/users/show/54345288</td>\n",
       "      <td>Robert</td>\n",
       "      <td>2016-01-12</td>\n",
       "      <td>Los Angeles, California, United States</td>\n",
       "      <td>Thank You for considering my house for your ne...</td>\n",
       "      <td>a few days or more</td>\n",
       "      <td>25%</td>\n",
       "      <td>NaN</td>\n",
       "      <td>f</td>\n",
       "      <td>https://a0.muscache.com/im/pictures/1977b9db-1...</td>\n",
       "      <td>https://a0.muscache.com/im/pictures/1977b9db-1...</td>\n",
       "      <td>NaN</td>\n",
       "      <td>1.0</td>\n",
       "      <td>1.0</td>\n",
       "      <td>['email', 'phone', 'reviews']</td>\n",
       "      <td>t</td>\n",
       "      <td>f</td>\n",
       "      <td>Acton, CA 93510, United States</td>\n",
       "      <td>NaN</td>\n",
       "      <td>Acton</td>\n",
       "      <td>NaN</td>\n",
       "      <td>Acton</td>\n",
       "      <td>CA</td>\n",
       "      <td>93510</td>\n",
       "      <td>Other (Domestic)</td>\n",
       "      <td>Acton, CA</td>\n",
       "      <td>US</td>\n",
       "      <td>United States</td>\n",
       "      <td>34.530350</td>\n",
       "      <td>-118.227088</td>\n",
       "      <td>t</td>\n",
       "      <td>House</td>\n",
       "      <td>Entire home/apt</td>\n",
       "      <td>10</td>\n",
       "      <td>7.0</td>\n",
       "      <td>5.0</td>\n",
       "      <td>5.0</td>\n",
       "      <td>Real Bed</td>\n",
       "      <td>{\"Wireless Internet\",\"Air conditioning\",Pool,K...</td>\n",
       "      <td>NaN</td>\n",
       "      <td>$3,000.00</td>\n",
       "      <td>NaN</td>\n",
       "      <td>NaN</td>\n",
       "      <td>$2,000.00</td>\n",
       "      <td>$200.00</td>\n",
       "      <td>1</td>\n",
       "      <td>$0.00</td>\n",
       "      <td>1</td>\n",
       "      <td>1125</td>\n",
       "      <td>5 months ago</td>\n",
       "      <td>NaN</td>\n",
       "      <td>27</td>\n",
       "      <td>53</td>\n",
       "      <td>82</td>\n",
       "      <td>352</td>\n",
       "      <td>2017-05-03</td>\n",
       "      <td>0</td>\n",
       "      <td>NaN</td>\n",
       "      <td>NaN</td>\n",
       "      <td>NaN</td>\n",
       "      <td>NaN</td>\n",
       "      <td>NaN</td>\n",
       "      <td>NaN</td>\n",
       "      <td>NaN</td>\n",
       "      <td>NaN</td>\n",
       "      <td>NaN</td>\n",
       "      <td>f</td>\n",
       "      <td>NaN</td>\n",
       "      <td>NaN</td>\n",
       "      <td>t</td>\n",
       "      <td>strict</td>\n",
       "      <td>f</td>\n",
       "      <td>f</td>\n",
       "      <td>1</td>\n",
       "      <td>NaN</td>\n",
       "    </tr>\n",
       "    <tr>\n",
       "      <th>1</th>\n",
       "      <td>8909380</td>\n",
       "      <td>https://www.airbnb.com/rooms/8909380</td>\n",
       "      <td>20170502172350</td>\n",
       "      <td>2017-05-03</td>\n",
       "      <td>Nice quiet private ranch house</td>\n",
       "      <td>NaN</td>\n",
       "      <td>Very private and quite . Hiking horse riding a...</td>\n",
       "      <td>Very private and quite . Hiking horse riding a...</td>\n",
       "      <td>none</td>\n",
       "      <td>I'm in the country what's not to love about that</td>\n",
       "      <td>NaN</td>\n",
       "      <td>The train station is only one mile away</td>\n",
       "      <td>Whole house</td>\n",
       "      <td>As much or as little as they want</td>\n",
       "      <td>NaN</td>\n",
       "      <td>https://a0.muscache.com/im/pictures/38165109-1...</td>\n",
       "      <td>https://a0.muscache.com/im/pictures/38165109-1...</td>\n",
       "      <td>https://a0.muscache.com/im/pictures/38165109-1...</td>\n",
       "      <td>https://a0.muscache.com/im/pictures/38165109-1...</td>\n",
       "      <td>44800067</td>\n",
       "      <td>https://www.airbnb.com/users/show/44800067</td>\n",
       "      <td>Kevin</td>\n",
       "      <td>2015-09-22</td>\n",
       "      <td>Acton, California, United States</td>\n",
       "      <td>NaN</td>\n",
       "      <td>within an hour</td>\n",
       "      <td>100%</td>\n",
       "      <td>NaN</td>\n",
       "      <td>t</td>\n",
       "      <td>https://a0.muscache.com/im/pictures/287ea76c-1...</td>\n",
       "      <td>https://a0.muscache.com/im/pictures/287ea76c-1...</td>\n",
       "      <td>NaN</td>\n",
       "      <td>1.0</td>\n",
       "      <td>1.0</td>\n",
       "      <td>['email', 'phone', 'reviews']</td>\n",
       "      <td>t</td>\n",
       "      <td>f</td>\n",
       "      <td>Palmdale, CA 93550, United States</td>\n",
       "      <td>NaN</td>\n",
       "      <td>Acton</td>\n",
       "      <td>NaN</td>\n",
       "      <td>Palmdale</td>\n",
       "      <td>CA</td>\n",
       "      <td>93550</td>\n",
       "      <td>Other (Domestic)</td>\n",
       "      <td>Palmdale, CA</td>\n",
       "      <td>US</td>\n",
       "      <td>United States</td>\n",
       "      <td>34.485431</td>\n",
       "      <td>-118.125380</td>\n",
       "      <td>f</td>\n",
       "      <td>House</td>\n",
       "      <td>Private room</td>\n",
       "      <td>2</td>\n",
       "      <td>1.0</td>\n",
       "      <td>1.0</td>\n",
       "      <td>1.0</td>\n",
       "      <td>Real Bed</td>\n",
       "      <td>{}</td>\n",
       "      <td>NaN</td>\n",
       "      <td>$50.00</td>\n",
       "      <td>NaN</td>\n",
       "      <td>NaN</td>\n",
       "      <td>NaN</td>\n",
       "      <td>NaN</td>\n",
       "      <td>1</td>\n",
       "      <td>$0.00</td>\n",
       "      <td>1</td>\n",
       "      <td>1125</td>\n",
       "      <td>2 months ago</td>\n",
       "      <td>NaN</td>\n",
       "      <td>29</td>\n",
       "      <td>45</td>\n",
       "      <td>75</td>\n",
       "      <td>350</td>\n",
       "      <td>2017-05-03</td>\n",
       "      <td>33</td>\n",
       "      <td>2015-12-04</td>\n",
       "      <td>2017-04-22</td>\n",
       "      <td>93.0</td>\n",
       "      <td>10.0</td>\n",
       "      <td>10.0</td>\n",
       "      <td>10.0</td>\n",
       "      <td>10.0</td>\n",
       "      <td>9.0</td>\n",
       "      <td>9.0</td>\n",
       "      <td>f</td>\n",
       "      <td>NaN</td>\n",
       "      <td>NaN</td>\n",
       "      <td>f</td>\n",
       "      <td>flexible</td>\n",
       "      <td>f</td>\n",
       "      <td>f</td>\n",
       "      <td>1</td>\n",
       "      <td>1.91</td>\n",
       "    </tr>\n",
       "    <tr>\n",
       "      <th>2</th>\n",
       "      <td>14078522</td>\n",
       "      <td>https://www.airbnb.com/rooms/14078522</td>\n",
       "      <td>20170502172350</td>\n",
       "      <td>2017-05-03</td>\n",
       "      <td>Room w/private bath on Small Ranch</td>\n",
       "      <td>My place is close to Six Flags Magic Mountain ...</td>\n",
       "      <td>Room with queen bed and private bath</td>\n",
       "      <td>My place is close to Six Flags Magic Mountain ...</td>\n",
       "      <td>none</td>\n",
       "      <td>Horse area. Trails for hiking and riding. Quie...</td>\n",
       "      <td>Overnight stalls for horses and arena availabl...</td>\n",
       "      <td>Just 4 miles from Metro commuter Train station</td>\n",
       "      <td>Private Bath. Access to kitchen and refrigerat...</td>\n",
       "      <td>NaN</td>\n",
       "      <td>NaN</td>\n",
       "      <td>https://a0.muscache.com/im/pictures/df7f56e6-7...</td>\n",
       "      <td>https://a0.muscache.com/im/pictures/df7f56e6-7...</td>\n",
       "      <td>https://a0.muscache.com/im/pictures/df7f56e6-7...</td>\n",
       "      <td>https://a0.muscache.com/im/pictures/df7f56e6-7...</td>\n",
       "      <td>84615808</td>\n",
       "      <td>https://www.airbnb.com/users/show/84615808</td>\n",
       "      <td>Kirsten</td>\n",
       "      <td>2016-07-19</td>\n",
       "      <td>Palmdale, California, United States</td>\n",
       "      <td>NaN</td>\n",
       "      <td>within an hour</td>\n",
       "      <td>100%</td>\n",
       "      <td>NaN</td>\n",
       "      <td>t</td>\n",
       "      <td>https://a0.muscache.com/im/pictures/e2731361-7...</td>\n",
       "      <td>https://a0.muscache.com/im/pictures/e2731361-7...</td>\n",
       "      <td>NaN</td>\n",
       "      <td>1.0</td>\n",
       "      <td>1.0</td>\n",
       "      <td>['email', 'phone', 'facebook', 'reviews', 'jum...</td>\n",
       "      <td>t</td>\n",
       "      <td>t</td>\n",
       "      <td>Acton, CA 93510, United States</td>\n",
       "      <td>NaN</td>\n",
       "      <td>Acton</td>\n",
       "      <td>NaN</td>\n",
       "      <td>Acton</td>\n",
       "      <td>CA</td>\n",
       "      <td>93510</td>\n",
       "      <td>Other (Domestic)</td>\n",
       "      <td>Acton, CA</td>\n",
       "      <td>US</td>\n",
       "      <td>United States</td>\n",
       "      <td>34.510130</td>\n",
       "      <td>-118.212407</td>\n",
       "      <td>t</td>\n",
       "      <td>House</td>\n",
       "      <td>Private room</td>\n",
       "      <td>2</td>\n",
       "      <td>1.0</td>\n",
       "      <td>1.0</td>\n",
       "      <td>1.0</td>\n",
       "      <td>Real Bed</td>\n",
       "      <td>{\"Wireless Internet\",\"Air conditioning\",\"Wheel...</td>\n",
       "      <td>NaN</td>\n",
       "      <td>$55.00</td>\n",
       "      <td>NaN</td>\n",
       "      <td>NaN</td>\n",
       "      <td>NaN</td>\n",
       "      <td>NaN</td>\n",
       "      <td>1</td>\n",
       "      <td>$10.00</td>\n",
       "      <td>1</td>\n",
       "      <td>1125</td>\n",
       "      <td>2 weeks ago</td>\n",
       "      <td>NaN</td>\n",
       "      <td>18</td>\n",
       "      <td>43</td>\n",
       "      <td>73</td>\n",
       "      <td>348</td>\n",
       "      <td>2017-05-03</td>\n",
       "      <td>14</td>\n",
       "      <td>2016-09-02</td>\n",
       "      <td>2017-04-29</td>\n",
       "      <td>100.0</td>\n",
       "      <td>10.0</td>\n",
       "      <td>10.0</td>\n",
       "      <td>10.0</td>\n",
       "      <td>10.0</td>\n",
       "      <td>10.0</td>\n",
       "      <td>10.0</td>\n",
       "      <td>f</td>\n",
       "      <td>NaN</td>\n",
       "      <td>NaN</td>\n",
       "      <td>f</td>\n",
       "      <td>flexible</td>\n",
       "      <td>f</td>\n",
       "      <td>f</td>\n",
       "      <td>1</td>\n",
       "      <td>1.72</td>\n",
       "    </tr>\n",
       "    <tr>\n",
       "      <th>3</th>\n",
       "      <td>13006928</td>\n",
       "      <td>https://www.airbnb.com/rooms/13006928</td>\n",
       "      <td>20170502172350</td>\n",
       "      <td>2017-05-03</td>\n",
       "      <td>Miller Ranch Bunkhouse</td>\n",
       "      <td>Our place is close to great views, equestrian ...</td>\n",
       "      <td>Please know that we live on a dirt road but it...</td>\n",
       "      <td>Our place is close to great views, equestrian ...</td>\n",
       "      <td>none</td>\n",
       "      <td>NaN</td>\n",
       "      <td>We do have 2 dogs but they stay completely on ...</td>\n",
       "      <td>NaN</td>\n",
       "      <td>We live on 5 acres and Our Bunkhouse is a sepa...</td>\n",
       "      <td>We love to interact with our guests but also r...</td>\n",
       "      <td>NaN</td>\n",
       "      <td>https://a0.muscache.com/im/pictures/2b5214b8-2...</td>\n",
       "      <td>https://a0.muscache.com/im/pictures/2b5214b8-2...</td>\n",
       "      <td>https://a0.muscache.com/im/pictures/2b5214b8-2...</td>\n",
       "      <td>https://a0.muscache.com/im/pictures/2b5214b8-2...</td>\n",
       "      <td>71743973</td>\n",
       "      <td>https://www.airbnb.com/users/show/71743973</td>\n",
       "      <td>Beverly</td>\n",
       "      <td>2016-05-12</td>\n",
       "      <td>US</td>\n",
       "      <td>NaN</td>\n",
       "      <td>within an hour</td>\n",
       "      <td>100%</td>\n",
       "      <td>NaN</td>\n",
       "      <td>t</td>\n",
       "      <td>https://a0.muscache.com/im/pictures/5e68ffdf-6...</td>\n",
       "      <td>https://a0.muscache.com/im/pictures/5e68ffdf-6...</td>\n",
       "      <td>NaN</td>\n",
       "      <td>1.0</td>\n",
       "      <td>1.0</td>\n",
       "      <td>['email', 'phone', 'reviews']</td>\n",
       "      <td>t</td>\n",
       "      <td>f</td>\n",
       "      <td>Acton, CA 93510, United States</td>\n",
       "      <td>NaN</td>\n",
       "      <td>Acton</td>\n",
       "      <td>NaN</td>\n",
       "      <td>Acton</td>\n",
       "      <td>CA</td>\n",
       "      <td>93510</td>\n",
       "      <td>Other (Domestic)</td>\n",
       "      <td>Acton, CA</td>\n",
       "      <td>US</td>\n",
       "      <td>United States</td>\n",
       "      <td>34.515486</td>\n",
       "      <td>-118.230742</td>\n",
       "      <td>t</td>\n",
       "      <td>Other</td>\n",
       "      <td>Entire home/apt</td>\n",
       "      <td>6</td>\n",
       "      <td>1.0</td>\n",
       "      <td>1.0</td>\n",
       "      <td>3.0</td>\n",
       "      <td>Real Bed</td>\n",
       "      <td>{TV,\"Wireless Internet\",\"Air conditioning\",Poo...</td>\n",
       "      <td>NaN</td>\n",
       "      <td>$150.00</td>\n",
       "      <td>NaN</td>\n",
       "      <td>NaN</td>\n",
       "      <td>NaN</td>\n",
       "      <td>$35.00</td>\n",
       "      <td>1</td>\n",
       "      <td>$0.00</td>\n",
       "      <td>1</td>\n",
       "      <td>2</td>\n",
       "      <td>5 days ago</td>\n",
       "      <td>NaN</td>\n",
       "      <td>3</td>\n",
       "      <td>17</td>\n",
       "      <td>30</td>\n",
       "      <td>87</td>\n",
       "      <td>2017-05-03</td>\n",
       "      <td>22</td>\n",
       "      <td>2016-06-27</td>\n",
       "      <td>2017-04-30</td>\n",
       "      <td>100.0</td>\n",
       "      <td>10.0</td>\n",
       "      <td>10.0</td>\n",
       "      <td>10.0</td>\n",
       "      <td>10.0</td>\n",
       "      <td>10.0</td>\n",
       "      <td>10.0</td>\n",
       "      <td>f</td>\n",
       "      <td>NaN</td>\n",
       "      <td>NaN</td>\n",
       "      <td>t</td>\n",
       "      <td>flexible</td>\n",
       "      <td>f</td>\n",
       "      <td>f</td>\n",
       "      <td>1</td>\n",
       "      <td>2.12</td>\n",
       "    </tr>\n",
       "    <tr>\n",
       "      <th>4</th>\n",
       "      <td>7898757</td>\n",
       "      <td>https://www.airbnb.com/rooms/7898757</td>\n",
       "      <td>20170502172350</td>\n",
       "      <td>2017-05-03</td>\n",
       "      <td>Studio with full bathroom</td>\n",
       "      <td>Fully furnished studio only a 10 min drive fro...</td>\n",
       "      <td>NaN</td>\n",
       "      <td>Fully furnished studio only a 10 min drive fro...</td>\n",
       "      <td>none</td>\n",
       "      <td>NaN</td>\n",
       "      <td>NaN</td>\n",
       "      <td>NaN</td>\n",
       "      <td>NaN</td>\n",
       "      <td>NaN</td>\n",
       "      <td>NaN</td>\n",
       "      <td>https://a0.muscache.com/im/pictures/100627966/...</td>\n",
       "      <td>https://a0.muscache.com/im/pictures/100627966/...</td>\n",
       "      <td>https://a0.muscache.com/im/pictures/100627966/...</td>\n",
       "      <td>https://a0.muscache.com/im/pictures/100627966/...</td>\n",
       "      <td>41646908</td>\n",
       "      <td>https://www.airbnb.com/users/show/41646908</td>\n",
       "      <td>Ian</td>\n",
       "      <td>2015-08-16</td>\n",
       "      <td>US</td>\n",
       "      <td>NaN</td>\n",
       "      <td>NaN</td>\n",
       "      <td>NaN</td>\n",
       "      <td>NaN</td>\n",
       "      <td>f</td>\n",
       "      <td>https://a0.muscache.com/im/users/41646908/prof...</td>\n",
       "      <td>https://a0.muscache.com/im/users/41646908/prof...</td>\n",
       "      <td>West Adams</td>\n",
       "      <td>1.0</td>\n",
       "      <td>1.0</td>\n",
       "      <td>['email', 'phone', 'reviews', 'jumio']</td>\n",
       "      <td>t</td>\n",
       "      <td>t</td>\n",
       "      <td>West Adams, Los Angeles, CA 90007, United States</td>\n",
       "      <td>West Adams</td>\n",
       "      <td>Adams-Normandie</td>\n",
       "      <td>NaN</td>\n",
       "      <td>Los Angeles</td>\n",
       "      <td>CA</td>\n",
       "      <td>90007</td>\n",
       "      <td>Los Angeles</td>\n",
       "      <td>Los Angeles, CA</td>\n",
       "      <td>US</td>\n",
       "      <td>United States</td>\n",
       "      <td>34.031419</td>\n",
       "      <td>-118.299016</td>\n",
       "      <td>t</td>\n",
       "      <td>Apartment</td>\n",
       "      <td>Private room</td>\n",
       "      <td>1</td>\n",
       "      <td>1.0</td>\n",
       "      <td>1.0</td>\n",
       "      <td>1.0</td>\n",
       "      <td>Real Bed</td>\n",
       "      <td>{Internet,\"Wireless Internet\",Kitchen,\"Free pa...</td>\n",
       "      <td>NaN</td>\n",
       "      <td>$30.00</td>\n",
       "      <td>NaN</td>\n",
       "      <td>NaN</td>\n",
       "      <td>NaN</td>\n",
       "      <td>$5.00</td>\n",
       "      <td>1</td>\n",
       "      <td>$10.00</td>\n",
       "      <td>1</td>\n",
       "      <td>90</td>\n",
       "      <td>15 months ago</td>\n",
       "      <td>NaN</td>\n",
       "      <td>0</td>\n",
       "      <td>0</td>\n",
       "      <td>0</td>\n",
       "      <td>0</td>\n",
       "      <td>2017-05-03</td>\n",
       "      <td>3</td>\n",
       "      <td>2015-12-14</td>\n",
       "      <td>2015-12-26</td>\n",
       "      <td>93.0</td>\n",
       "      <td>10.0</td>\n",
       "      <td>9.0</td>\n",
       "      <td>10.0</td>\n",
       "      <td>10.0</td>\n",
       "      <td>9.0</td>\n",
       "      <td>10.0</td>\n",
       "      <td>f</td>\n",
       "      <td>NaN</td>\n",
       "      <td>City of Los Angeles, CA</td>\n",
       "      <td>f</td>\n",
       "      <td>flexible</td>\n",
       "      <td>f</td>\n",
       "      <td>f</td>\n",
       "      <td>1</td>\n",
       "      <td>0.18</td>\n",
       "    </tr>\n",
       "  </tbody>\n",
       "</table>\n",
       "</div>"
      ],
      "text/plain": [
       "         id                            listing_url       scrape_id  \\\n",
       "0  16228948  https://www.airbnb.com/rooms/16228948  20170502172350   \n",
       "1   8909380   https://www.airbnb.com/rooms/8909380  20170502172350   \n",
       "2  14078522  https://www.airbnb.com/rooms/14078522  20170502172350   \n",
       "3  13006928  https://www.airbnb.com/rooms/13006928  20170502172350   \n",
       "4   7898757   https://www.airbnb.com/rooms/7898757  20170502172350   \n",
       "\n",
       "  last_scraped                                             name  \\\n",
       "0   2017-05-03  Robert Ranch in Los Angeles for filming/wedding   \n",
       "1   2017-05-03                   Nice quiet private ranch house   \n",
       "2   2017-05-03               Room w/private bath on Small Ranch   \n",
       "3   2017-05-03                           Miller Ranch Bunkhouse   \n",
       "4   2017-05-03                        Studio with full bathroom   \n",
       "\n",
       "                                             summary  \\\n",
       "0  Stunning Ranch Estate situated on 20 acres and...   \n",
       "1                                                NaN   \n",
       "2  My place is close to Six Flags Magic Mountain ...   \n",
       "3  Our place is close to great views, equestrian ...   \n",
       "4  Fully furnished studio only a 10 min drive fro...   \n",
       "\n",
       "                                               space  \\\n",
       "0                                                NaN   \n",
       "1  Very private and quite . Hiking horse riding a...   \n",
       "2               Room with queen bed and private bath   \n",
       "3  Please know that we live on a dirt road but it...   \n",
       "4                                                NaN   \n",
       "\n",
       "                                         description experiences_offered  \\\n",
       "0  Stunning Ranch Estate situated on 20 acres and...                none   \n",
       "1  Very private and quite . Hiking horse riding a...                none   \n",
       "2  My place is close to Six Flags Magic Mountain ...                none   \n",
       "3  Our place is close to great views, equestrian ...                none   \n",
       "4  Fully furnished studio only a 10 min drive fro...                none   \n",
       "\n",
       "                               neighborhood_overview  \\\n",
       "0                                                NaN   \n",
       "1   I'm in the country what's not to love about that   \n",
       "2  Horse area. Trails for hiking and riding. Quie...   \n",
       "3                                                NaN   \n",
       "4                                                NaN   \n",
       "\n",
       "                                               notes  \\\n",
       "0                                                NaN   \n",
       "1                                                NaN   \n",
       "2  Overnight stalls for horses and arena availabl...   \n",
       "3  We do have 2 dogs but they stay completely on ...   \n",
       "4                                                NaN   \n",
       "\n",
       "                                          transit  \\\n",
       "0                                             NaN   \n",
       "1         The train station is only one mile away   \n",
       "2  Just 4 miles from Metro commuter Train station   \n",
       "3                                             NaN   \n",
       "4                                             NaN   \n",
       "\n",
       "                                              access  \\\n",
       "0                                                NaN   \n",
       "1                                        Whole house   \n",
       "2  Private Bath. Access to kitchen and refrigerat...   \n",
       "3  We live on 5 acres and Our Bunkhouse is a sepa...   \n",
       "4                                                NaN   \n",
       "\n",
       "                                         interaction  \\\n",
       "0                                                NaN   \n",
       "1                  As much or as little as they want   \n",
       "2                                                NaN   \n",
       "3  We love to interact with our guests but also r...   \n",
       "4                                                NaN   \n",
       "\n",
       "                                         house_rules  \\\n",
       "0  - No noise/music outside allowed after 10 pm. ...   \n",
       "1                                                NaN   \n",
       "2                                                NaN   \n",
       "3                                                NaN   \n",
       "4                                                NaN   \n",
       "\n",
       "                                       thumbnail_url  \\\n",
       "0                                                NaN   \n",
       "1  https://a0.muscache.com/im/pictures/38165109-1...   \n",
       "2  https://a0.muscache.com/im/pictures/df7f56e6-7...   \n",
       "3  https://a0.muscache.com/im/pictures/2b5214b8-2...   \n",
       "4  https://a0.muscache.com/im/pictures/100627966/...   \n",
       "\n",
       "                                          medium_url  \\\n",
       "0                                                NaN   \n",
       "1  https://a0.muscache.com/im/pictures/38165109-1...   \n",
       "2  https://a0.muscache.com/im/pictures/df7f56e6-7...   \n",
       "3  https://a0.muscache.com/im/pictures/2b5214b8-2...   \n",
       "4  https://a0.muscache.com/im/pictures/100627966/...   \n",
       "\n",
       "                                         picture_url  \\\n",
       "0  https://a0.muscache.com/im/pictures/dd850460-4...   \n",
       "1  https://a0.muscache.com/im/pictures/38165109-1...   \n",
       "2  https://a0.muscache.com/im/pictures/df7f56e6-7...   \n",
       "3  https://a0.muscache.com/im/pictures/2b5214b8-2...   \n",
       "4  https://a0.muscache.com/im/pictures/100627966/...   \n",
       "\n",
       "                                      xl_picture_url   host_id  \\\n",
       "0                                                NaN  54345288   \n",
       "1  https://a0.muscache.com/im/pictures/38165109-1...  44800067   \n",
       "2  https://a0.muscache.com/im/pictures/df7f56e6-7...  84615808   \n",
       "3  https://a0.muscache.com/im/pictures/2b5214b8-2...  71743973   \n",
       "4  https://a0.muscache.com/im/pictures/100627966/...  41646908   \n",
       "\n",
       "                                     host_url host_name  host_since  \\\n",
       "0  https://www.airbnb.com/users/show/54345288    Robert  2016-01-12   \n",
       "1  https://www.airbnb.com/users/show/44800067     Kevin  2015-09-22   \n",
       "2  https://www.airbnb.com/users/show/84615808   Kirsten  2016-07-19   \n",
       "3  https://www.airbnb.com/users/show/71743973   Beverly  2016-05-12   \n",
       "4  https://www.airbnb.com/users/show/41646908       Ian  2015-08-16   \n",
       "\n",
       "                            host_location  \\\n",
       "0  Los Angeles, California, United States   \n",
       "1        Acton, California, United States   \n",
       "2     Palmdale, California, United States   \n",
       "3                                      US   \n",
       "4                                      US   \n",
       "\n",
       "                                          host_about  host_response_time  \\\n",
       "0  Thank You for considering my house for your ne...  a few days or more   \n",
       "1                                                NaN      within an hour   \n",
       "2                                                NaN      within an hour   \n",
       "3                                                NaN      within an hour   \n",
       "4                                                NaN                 NaN   \n",
       "\n",
       "  host_response_rate  host_acceptance_rate host_is_superhost  \\\n",
       "0                25%                   NaN                 f   \n",
       "1               100%                   NaN                 t   \n",
       "2               100%                   NaN                 t   \n",
       "3               100%                   NaN                 t   \n",
       "4                NaN                   NaN                 f   \n",
       "\n",
       "                                  host_thumbnail_url  \\\n",
       "0  https://a0.muscache.com/im/pictures/1977b9db-1...   \n",
       "1  https://a0.muscache.com/im/pictures/287ea76c-1...   \n",
       "2  https://a0.muscache.com/im/pictures/e2731361-7...   \n",
       "3  https://a0.muscache.com/im/pictures/5e68ffdf-6...   \n",
       "4  https://a0.muscache.com/im/users/41646908/prof...   \n",
       "\n",
       "                                    host_picture_url host_neighbourhood  \\\n",
       "0  https://a0.muscache.com/im/pictures/1977b9db-1...                NaN   \n",
       "1  https://a0.muscache.com/im/pictures/287ea76c-1...                NaN   \n",
       "2  https://a0.muscache.com/im/pictures/e2731361-7...                NaN   \n",
       "3  https://a0.muscache.com/im/pictures/5e68ffdf-6...                NaN   \n",
       "4  https://a0.muscache.com/im/users/41646908/prof...         West Adams   \n",
       "\n",
       "   host_listings_count  host_total_listings_count  \\\n",
       "0                  1.0                        1.0   \n",
       "1                  1.0                        1.0   \n",
       "2                  1.0                        1.0   \n",
       "3                  1.0                        1.0   \n",
       "4                  1.0                        1.0   \n",
       "\n",
       "                                  host_verifications host_has_profile_pic  \\\n",
       "0                      ['email', 'phone', 'reviews']                    t   \n",
       "1                      ['email', 'phone', 'reviews']                    t   \n",
       "2  ['email', 'phone', 'facebook', 'reviews', 'jum...                    t   \n",
       "3                      ['email', 'phone', 'reviews']                    t   \n",
       "4             ['email', 'phone', 'reviews', 'jumio']                    t   \n",
       "\n",
       "  host_identity_verified                                            street  \\\n",
       "0                      f                    Acton, CA 93510, United States   \n",
       "1                      f                 Palmdale, CA 93550, United States   \n",
       "2                      t                    Acton, CA 93510, United States   \n",
       "3                      f                    Acton, CA 93510, United States   \n",
       "4                      t  West Adams, Los Angeles, CA 90007, United States   \n",
       "\n",
       "  neighbourhood neighbourhood_cleansed  neighbourhood_group_cleansed  \\\n",
       "0           NaN                  Acton                           NaN   \n",
       "1           NaN                  Acton                           NaN   \n",
       "2           NaN                  Acton                           NaN   \n",
       "3           NaN                  Acton                           NaN   \n",
       "4    West Adams        Adams-Normandie                           NaN   \n",
       "\n",
       "          city state zipcode            market   smart_location country_code  \\\n",
       "0        Acton    CA   93510  Other (Domestic)        Acton, CA           US   \n",
       "1     Palmdale    CA   93550  Other (Domestic)     Palmdale, CA           US   \n",
       "2        Acton    CA   93510  Other (Domestic)        Acton, CA           US   \n",
       "3        Acton    CA   93510  Other (Domestic)        Acton, CA           US   \n",
       "4  Los Angeles    CA   90007       Los Angeles  Los Angeles, CA           US   \n",
       "\n",
       "         country   latitude   longitude is_location_exact property_type  \\\n",
       "0  United States  34.530350 -118.227088                 t         House   \n",
       "1  United States  34.485431 -118.125380                 f         House   \n",
       "2  United States  34.510130 -118.212407                 t         House   \n",
       "3  United States  34.515486 -118.230742                 t         Other   \n",
       "4  United States  34.031419 -118.299016                 t     Apartment   \n",
       "\n",
       "         room_type  accommodates  bathrooms  bedrooms  beds  bed_type  \\\n",
       "0  Entire home/apt            10        7.0       5.0   5.0  Real Bed   \n",
       "1     Private room             2        1.0       1.0   1.0  Real Bed   \n",
       "2     Private room             2        1.0       1.0   1.0  Real Bed   \n",
       "3  Entire home/apt             6        1.0       1.0   3.0  Real Bed   \n",
       "4     Private room             1        1.0       1.0   1.0  Real Bed   \n",
       "\n",
       "                                           amenities  square_feet      price  \\\n",
       "0  {\"Wireless Internet\",\"Air conditioning\",Pool,K...          NaN  $3,000.00   \n",
       "1                                                 {}          NaN     $50.00   \n",
       "2  {\"Wireless Internet\",\"Air conditioning\",\"Wheel...          NaN     $55.00   \n",
       "3  {TV,\"Wireless Internet\",\"Air conditioning\",Poo...          NaN    $150.00   \n",
       "4  {Internet,\"Wireless Internet\",Kitchen,\"Free pa...          NaN     $30.00   \n",
       "\n",
       "  weekly_price monthly_price security_deposit cleaning_fee  guests_included  \\\n",
       "0          NaN           NaN        $2,000.00      $200.00                1   \n",
       "1          NaN           NaN              NaN          NaN                1   \n",
       "2          NaN           NaN              NaN          NaN                1   \n",
       "3          NaN           NaN              NaN       $35.00                1   \n",
       "4          NaN           NaN              NaN        $5.00                1   \n",
       "\n",
       "  extra_people  minimum_nights  maximum_nights calendar_updated  \\\n",
       "0        $0.00               1            1125     5 months ago   \n",
       "1        $0.00               1            1125     2 months ago   \n",
       "2       $10.00               1            1125      2 weeks ago   \n",
       "3        $0.00               1               2       5 days ago   \n",
       "4       $10.00               1              90    15 months ago   \n",
       "\n",
       "   has_availability  availability_30  availability_60  availability_90  \\\n",
       "0               NaN               27               53               82   \n",
       "1               NaN               29               45               75   \n",
       "2               NaN               18               43               73   \n",
       "3               NaN                3               17               30   \n",
       "4               NaN                0                0                0   \n",
       "\n",
       "   availability_365 calendar_last_scraped  number_of_reviews first_review  \\\n",
       "0               352            2017-05-03                  0          NaN   \n",
       "1               350            2017-05-03                 33   2015-12-04   \n",
       "2               348            2017-05-03                 14   2016-09-02   \n",
       "3                87            2017-05-03                 22   2016-06-27   \n",
       "4                 0            2017-05-03                  3   2015-12-14   \n",
       "\n",
       "  last_review  review_scores_rating  review_scores_accuracy  \\\n",
       "0         NaN                   NaN                     NaN   \n",
       "1  2017-04-22                  93.0                    10.0   \n",
       "2  2017-04-29                 100.0                    10.0   \n",
       "3  2017-04-30                 100.0                    10.0   \n",
       "4  2015-12-26                  93.0                    10.0   \n",
       "\n",
       "   review_scores_cleanliness  review_scores_checkin  \\\n",
       "0                        NaN                    NaN   \n",
       "1                       10.0                   10.0   \n",
       "2                       10.0                   10.0   \n",
       "3                       10.0                   10.0   \n",
       "4                        9.0                   10.0   \n",
       "\n",
       "   review_scores_communication  review_scores_location  review_scores_value  \\\n",
       "0                          NaN                     NaN                  NaN   \n",
       "1                         10.0                     9.0                  9.0   \n",
       "2                         10.0                    10.0                 10.0   \n",
       "3                         10.0                    10.0                 10.0   \n",
       "4                         10.0                     9.0                 10.0   \n",
       "\n",
       "  requires_license license       jurisdiction_names instant_bookable  \\\n",
       "0                f     NaN                      NaN                t   \n",
       "1                f     NaN                      NaN                f   \n",
       "2                f     NaN                      NaN                f   \n",
       "3                f     NaN                      NaN                t   \n",
       "4                f     NaN  City of Los Angeles, CA                f   \n",
       "\n",
       "  cancellation_policy require_guest_profile_picture  \\\n",
       "0              strict                             f   \n",
       "1            flexible                             f   \n",
       "2            flexible                             f   \n",
       "3            flexible                             f   \n",
       "4            flexible                             f   \n",
       "\n",
       "  require_guest_phone_verification  calculated_host_listings_count  \\\n",
       "0                                f                               1   \n",
       "1                                f                               1   \n",
       "2                                f                               1   \n",
       "3                                f                               1   \n",
       "4                                f                               1   \n",
       "\n",
       "   reviews_per_month  \n",
       "0                NaN  \n",
       "1               1.91  \n",
       "2               1.72  \n",
       "3               2.12  \n",
       "4               0.18  "
      ]
     },
     "execution_count": 4,
     "metadata": {},
     "output_type": "execute_result"
    }
   ],
   "source": [
    "pd.set_option(\"display.max_columns\", None)\n",
    "df.head()"
   ]
  },
  {
   "cell_type": "markdown",
   "id": "e575ac47-2f71-4099-a4ef-ae4b500a59a5",
   "metadata": {},
   "source": [
    "### 1. Check nulls and drop columns"
   ]
  },
  {
   "cell_type": "code",
   "execution_count": 5,
   "id": "6cef0338-ea27-4f8c-abc4-5ce6f553612c",
   "metadata": {},
   "outputs": [
    {
     "data": {
      "text/plain": [
       "notes                           17438\n",
       "host_acceptance_rate            31253\n",
       "neighbourhood_group_cleansed    31253\n",
       "square_feet                     30869\n",
       "weekly_price                    23823\n",
       "monthly_price                   24620\n",
       "has_availability                31253\n",
       "license                         31206\n",
       "dtype: int64"
      ]
     },
     "execution_count": 5,
     "metadata": {},
     "output_type": "execute_result"
    }
   ],
   "source": [
    "# Nulls in each column.\n",
    "var = df.isnull().sum()\n",
    "\n",
    "# Nulls are more than half of the rows.\n",
    "var[var > 15000]"
   ]
  },
  {
   "cell_type": "code",
   "execution_count": 6,
   "id": "22857bd3-ba0b-4f56-936e-c84512db633c",
   "metadata": {},
   "outputs": [],
   "source": [
    "# Drop columns.\n",
    "df = df.drop(['notes','host_acceptance_rate', 'neighbourhood_group_cleansed', 'square_feet',\n",
    "              'has_availability', 'license','weekly_price', 'monthly_price'], axis=1)"
   ]
  },
  {
   "cell_type": "code",
   "execution_count": 7,
   "id": "9ee79234-05e3-40bb-b5fa-1ced57fd1517",
   "metadata": {},
   "outputs": [
    {
     "data": {
      "text/plain": [
       "(31253, 87)"
      ]
     },
     "execution_count": 7,
     "metadata": {},
     "output_type": "execute_result"
    }
   ],
   "source": [
    "df.shape"
   ]
  },
  {
   "cell_type": "markdown",
   "id": "9901d4f1-deac-4d08-ae0f-443755f99201",
   "metadata": {},
   "source": [
    "### 2. Initial Selection"
   ]
  },
  {
   "cell_type": "code",
   "execution_count": 8,
   "id": "132f7e4a-be5a-4cca-a640-4fe288616386",
   "metadata": {},
   "outputs": [
    {
     "data": {
      "text/html": [
       "<div>\n",
       "<style scoped>\n",
       "    .dataframe tbody tr th:only-of-type {\n",
       "        vertical-align: middle;\n",
       "    }\n",
       "\n",
       "    .dataframe tbody tr th {\n",
       "        vertical-align: top;\n",
       "    }\n",
       "\n",
       "    .dataframe thead th {\n",
       "        text-align: right;\n",
       "    }\n",
       "</style>\n",
       "<table border=\"1\" class=\"dataframe\">\n",
       "  <thead>\n",
       "    <tr style=\"text-align: right;\">\n",
       "      <th></th>\n",
       "      <th>host_response_rate</th>\n",
       "      <th>host_is_superhost</th>\n",
       "      <th>host_listings_count</th>\n",
       "      <th>host_total_listings_count</th>\n",
       "      <th>host_has_profile_pic</th>\n",
       "      <th>host_identity_verified</th>\n",
       "      <th>neighbourhood_cleansed</th>\n",
       "      <th>is_location_exact</th>\n",
       "      <th>property_type</th>\n",
       "      <th>room_type</th>\n",
       "      <th>accommodates</th>\n",
       "      <th>bathrooms</th>\n",
       "      <th>bedrooms</th>\n",
       "      <th>beds</th>\n",
       "      <th>bed_type</th>\n",
       "      <th>price</th>\n",
       "      <th>security_deposit</th>\n",
       "      <th>cleaning_fee</th>\n",
       "      <th>guests_included</th>\n",
       "      <th>extra_people</th>\n",
       "      <th>minimum_nights</th>\n",
       "      <th>maximum_nights</th>\n",
       "      <th>availability_30</th>\n",
       "      <th>availability_60</th>\n",
       "      <th>availability_90</th>\n",
       "      <th>availability_365</th>\n",
       "      <th>number_of_reviews</th>\n",
       "      <th>review_scores_rating</th>\n",
       "      <th>review_scores_accuracy</th>\n",
       "      <th>review_scores_cleanliness</th>\n",
       "      <th>review_scores_checkin</th>\n",
       "      <th>review_scores_communication</th>\n",
       "      <th>review_scores_location</th>\n",
       "      <th>review_scores_value</th>\n",
       "      <th>requires_license</th>\n",
       "      <th>instant_bookable</th>\n",
       "      <th>cancellation_policy</th>\n",
       "      <th>require_guest_profile_picture</th>\n",
       "      <th>require_guest_phone_verification</th>\n",
       "      <th>calculated_host_listings_count</th>\n",
       "      <th>reviews_per_month</th>\n",
       "    </tr>\n",
       "  </thead>\n",
       "  <tbody>\n",
       "    <tr>\n",
       "      <th>0</th>\n",
       "      <td>25%</td>\n",
       "      <td>f</td>\n",
       "      <td>1.0</td>\n",
       "      <td>1.0</td>\n",
       "      <td>t</td>\n",
       "      <td>f</td>\n",
       "      <td>Acton</td>\n",
       "      <td>t</td>\n",
       "      <td>House</td>\n",
       "      <td>Entire home/apt</td>\n",
       "      <td>10</td>\n",
       "      <td>7.0</td>\n",
       "      <td>5.0</td>\n",
       "      <td>5.0</td>\n",
       "      <td>Real Bed</td>\n",
       "      <td>$3,000.00</td>\n",
       "      <td>$2,000.00</td>\n",
       "      <td>$200.00</td>\n",
       "      <td>1</td>\n",
       "      <td>$0.00</td>\n",
       "      <td>1</td>\n",
       "      <td>1125</td>\n",
       "      <td>27</td>\n",
       "      <td>53</td>\n",
       "      <td>82</td>\n",
       "      <td>352</td>\n",
       "      <td>0</td>\n",
       "      <td>NaN</td>\n",
       "      <td>NaN</td>\n",
       "      <td>NaN</td>\n",
       "      <td>NaN</td>\n",
       "      <td>NaN</td>\n",
       "      <td>NaN</td>\n",
       "      <td>NaN</td>\n",
       "      <td>f</td>\n",
       "      <td>t</td>\n",
       "      <td>strict</td>\n",
       "      <td>f</td>\n",
       "      <td>f</td>\n",
       "      <td>1</td>\n",
       "      <td>NaN</td>\n",
       "    </tr>\n",
       "    <tr>\n",
       "      <th>1</th>\n",
       "      <td>100%</td>\n",
       "      <td>t</td>\n",
       "      <td>1.0</td>\n",
       "      <td>1.0</td>\n",
       "      <td>t</td>\n",
       "      <td>f</td>\n",
       "      <td>Acton</td>\n",
       "      <td>f</td>\n",
       "      <td>House</td>\n",
       "      <td>Private room</td>\n",
       "      <td>2</td>\n",
       "      <td>1.0</td>\n",
       "      <td>1.0</td>\n",
       "      <td>1.0</td>\n",
       "      <td>Real Bed</td>\n",
       "      <td>$50.00</td>\n",
       "      <td>NaN</td>\n",
       "      <td>NaN</td>\n",
       "      <td>1</td>\n",
       "      <td>$0.00</td>\n",
       "      <td>1</td>\n",
       "      <td>1125</td>\n",
       "      <td>29</td>\n",
       "      <td>45</td>\n",
       "      <td>75</td>\n",
       "      <td>350</td>\n",
       "      <td>33</td>\n",
       "      <td>93.0</td>\n",
       "      <td>10.0</td>\n",
       "      <td>10.0</td>\n",
       "      <td>10.0</td>\n",
       "      <td>10.0</td>\n",
       "      <td>9.0</td>\n",
       "      <td>9.0</td>\n",
       "      <td>f</td>\n",
       "      <td>f</td>\n",
       "      <td>flexible</td>\n",
       "      <td>f</td>\n",
       "      <td>f</td>\n",
       "      <td>1</td>\n",
       "      <td>1.91</td>\n",
       "    </tr>\n",
       "    <tr>\n",
       "      <th>2</th>\n",
       "      <td>100%</td>\n",
       "      <td>t</td>\n",
       "      <td>1.0</td>\n",
       "      <td>1.0</td>\n",
       "      <td>t</td>\n",
       "      <td>t</td>\n",
       "      <td>Acton</td>\n",
       "      <td>t</td>\n",
       "      <td>House</td>\n",
       "      <td>Private room</td>\n",
       "      <td>2</td>\n",
       "      <td>1.0</td>\n",
       "      <td>1.0</td>\n",
       "      <td>1.0</td>\n",
       "      <td>Real Bed</td>\n",
       "      <td>$55.00</td>\n",
       "      <td>NaN</td>\n",
       "      <td>NaN</td>\n",
       "      <td>1</td>\n",
       "      <td>$10.00</td>\n",
       "      <td>1</td>\n",
       "      <td>1125</td>\n",
       "      <td>18</td>\n",
       "      <td>43</td>\n",
       "      <td>73</td>\n",
       "      <td>348</td>\n",
       "      <td>14</td>\n",
       "      <td>100.0</td>\n",
       "      <td>10.0</td>\n",
       "      <td>10.0</td>\n",
       "      <td>10.0</td>\n",
       "      <td>10.0</td>\n",
       "      <td>10.0</td>\n",
       "      <td>10.0</td>\n",
       "      <td>f</td>\n",
       "      <td>f</td>\n",
       "      <td>flexible</td>\n",
       "      <td>f</td>\n",
       "      <td>f</td>\n",
       "      <td>1</td>\n",
       "      <td>1.72</td>\n",
       "    </tr>\n",
       "    <tr>\n",
       "      <th>3</th>\n",
       "      <td>100%</td>\n",
       "      <td>t</td>\n",
       "      <td>1.0</td>\n",
       "      <td>1.0</td>\n",
       "      <td>t</td>\n",
       "      <td>f</td>\n",
       "      <td>Acton</td>\n",
       "      <td>t</td>\n",
       "      <td>Other</td>\n",
       "      <td>Entire home/apt</td>\n",
       "      <td>6</td>\n",
       "      <td>1.0</td>\n",
       "      <td>1.0</td>\n",
       "      <td>3.0</td>\n",
       "      <td>Real Bed</td>\n",
       "      <td>$150.00</td>\n",
       "      <td>NaN</td>\n",
       "      <td>$35.00</td>\n",
       "      <td>1</td>\n",
       "      <td>$0.00</td>\n",
       "      <td>1</td>\n",
       "      <td>2</td>\n",
       "      <td>3</td>\n",
       "      <td>17</td>\n",
       "      <td>30</td>\n",
       "      <td>87</td>\n",
       "      <td>22</td>\n",
       "      <td>100.0</td>\n",
       "      <td>10.0</td>\n",
       "      <td>10.0</td>\n",
       "      <td>10.0</td>\n",
       "      <td>10.0</td>\n",
       "      <td>10.0</td>\n",
       "      <td>10.0</td>\n",
       "      <td>f</td>\n",
       "      <td>t</td>\n",
       "      <td>flexible</td>\n",
       "      <td>f</td>\n",
       "      <td>f</td>\n",
       "      <td>1</td>\n",
       "      <td>2.12</td>\n",
       "    </tr>\n",
       "    <tr>\n",
       "      <th>4</th>\n",
       "      <td>NaN</td>\n",
       "      <td>f</td>\n",
       "      <td>1.0</td>\n",
       "      <td>1.0</td>\n",
       "      <td>t</td>\n",
       "      <td>t</td>\n",
       "      <td>Adams-Normandie</td>\n",
       "      <td>t</td>\n",
       "      <td>Apartment</td>\n",
       "      <td>Private room</td>\n",
       "      <td>1</td>\n",
       "      <td>1.0</td>\n",
       "      <td>1.0</td>\n",
       "      <td>1.0</td>\n",
       "      <td>Real Bed</td>\n",
       "      <td>$30.00</td>\n",
       "      <td>NaN</td>\n",
       "      <td>$5.00</td>\n",
       "      <td>1</td>\n",
       "      <td>$10.00</td>\n",
       "      <td>1</td>\n",
       "      <td>90</td>\n",
       "      <td>0</td>\n",
       "      <td>0</td>\n",
       "      <td>0</td>\n",
       "      <td>0</td>\n",
       "      <td>3</td>\n",
       "      <td>93.0</td>\n",
       "      <td>10.0</td>\n",
       "      <td>9.0</td>\n",
       "      <td>10.0</td>\n",
       "      <td>10.0</td>\n",
       "      <td>9.0</td>\n",
       "      <td>10.0</td>\n",
       "      <td>f</td>\n",
       "      <td>f</td>\n",
       "      <td>flexible</td>\n",
       "      <td>f</td>\n",
       "      <td>f</td>\n",
       "      <td>1</td>\n",
       "      <td>0.18</td>\n",
       "    </tr>\n",
       "  </tbody>\n",
       "</table>\n",
       "</div>"
      ],
      "text/plain": [
       "  host_response_rate host_is_superhost  host_listings_count  \\\n",
       "0                25%                 f                  1.0   \n",
       "1               100%                 t                  1.0   \n",
       "2               100%                 t                  1.0   \n",
       "3               100%                 t                  1.0   \n",
       "4                NaN                 f                  1.0   \n",
       "\n",
       "   host_total_listings_count host_has_profile_pic host_identity_verified  \\\n",
       "0                        1.0                    t                      f   \n",
       "1                        1.0                    t                      f   \n",
       "2                        1.0                    t                      t   \n",
       "3                        1.0                    t                      f   \n",
       "4                        1.0                    t                      t   \n",
       "\n",
       "  neighbourhood_cleansed is_location_exact property_type        room_type  \\\n",
       "0                  Acton                 t         House  Entire home/apt   \n",
       "1                  Acton                 f         House     Private room   \n",
       "2                  Acton                 t         House     Private room   \n",
       "3                  Acton                 t         Other  Entire home/apt   \n",
       "4        Adams-Normandie                 t     Apartment     Private room   \n",
       "\n",
       "   accommodates  bathrooms  bedrooms  beds  bed_type      price  \\\n",
       "0            10        7.0       5.0   5.0  Real Bed  $3,000.00   \n",
       "1             2        1.0       1.0   1.0  Real Bed     $50.00   \n",
       "2             2        1.0       1.0   1.0  Real Bed     $55.00   \n",
       "3             6        1.0       1.0   3.0  Real Bed    $150.00   \n",
       "4             1        1.0       1.0   1.0  Real Bed     $30.00   \n",
       "\n",
       "  security_deposit cleaning_fee  guests_included extra_people  minimum_nights  \\\n",
       "0        $2,000.00      $200.00                1        $0.00               1   \n",
       "1              NaN          NaN                1        $0.00               1   \n",
       "2              NaN          NaN                1       $10.00               1   \n",
       "3              NaN       $35.00                1        $0.00               1   \n",
       "4              NaN        $5.00                1       $10.00               1   \n",
       "\n",
       "   maximum_nights  availability_30  availability_60  availability_90  \\\n",
       "0            1125               27               53               82   \n",
       "1            1125               29               45               75   \n",
       "2            1125               18               43               73   \n",
       "3               2                3               17               30   \n",
       "4              90                0                0                0   \n",
       "\n",
       "   availability_365  number_of_reviews  review_scores_rating  \\\n",
       "0               352                  0                   NaN   \n",
       "1               350                 33                  93.0   \n",
       "2               348                 14                 100.0   \n",
       "3                87                 22                 100.0   \n",
       "4                 0                  3                  93.0   \n",
       "\n",
       "   review_scores_accuracy  review_scores_cleanliness  review_scores_checkin  \\\n",
       "0                     NaN                        NaN                    NaN   \n",
       "1                    10.0                       10.0                   10.0   \n",
       "2                    10.0                       10.0                   10.0   \n",
       "3                    10.0                       10.0                   10.0   \n",
       "4                    10.0                        9.0                   10.0   \n",
       "\n",
       "   review_scores_communication  review_scores_location  review_scores_value  \\\n",
       "0                          NaN                     NaN                  NaN   \n",
       "1                         10.0                     9.0                  9.0   \n",
       "2                         10.0                    10.0                 10.0   \n",
       "3                         10.0                    10.0                 10.0   \n",
       "4                         10.0                     9.0                 10.0   \n",
       "\n",
       "  requires_license instant_bookable cancellation_policy  \\\n",
       "0                f                t              strict   \n",
       "1                f                f            flexible   \n",
       "2                f                f            flexible   \n",
       "3                f                t            flexible   \n",
       "4                f                f            flexible   \n",
       "\n",
       "  require_guest_profile_picture require_guest_phone_verification  \\\n",
       "0                             f                                f   \n",
       "1                             f                                f   \n",
       "2                             f                                f   \n",
       "3                             f                                f   \n",
       "4                             f                                f   \n",
       "\n",
       "   calculated_host_listings_count  reviews_per_month  \n",
       "0                               1                NaN  \n",
       "1                               1               1.91  \n",
       "2                               1               1.72  \n",
       "3                               1               2.12  \n",
       "4                               1               0.18  "
      ]
     },
     "execution_count": 8,
     "metadata": {},
     "output_type": "execute_result"
    }
   ],
   "source": [
    "# Initial selection of relevant columns.\n",
    "new_df = df[['host_response_rate','host_is_superhost','host_listings_count',\n",
    "    'host_total_listings_count','host_has_profile_pic','host_identity_verified',\n",
    "    'neighbourhood_cleansed','is_location_exact', 'property_type','room_type',\n",
    "    'accommodates','bathrooms','bedrooms','beds','bed_type','price','security_deposit',\n",
    "    'cleaning_fee','guests_included','extra_people','minimum_nights','maximum_nights', \n",
    "    'availability_30', 'availability_60','availability_90', 'availability_365',\n",
    "    'number_of_reviews','review_scores_rating', 'review_scores_accuracy',\n",
    "    'review_scores_cleanliness', 'review_scores_checkin','review_scores_communication',\n",
    "    'review_scores_location','review_scores_value', 'requires_license','instant_bookable',\n",
    "    'cancellation_policy', 'require_guest_profile_picture', \n",
    "    'require_guest_phone_verification','calculated_host_listings_count','reviews_per_month']]\n",
    "\n",
    "new_df.head()"
   ]
  },
  {
   "cell_type": "code",
   "execution_count": 9,
   "id": "594ee662-7422-4bc5-a1c5-b42c7371b86a",
   "metadata": {},
   "outputs": [],
   "source": [
    "# print(new_df.columns)"
   ]
  },
  {
   "cell_type": "code",
   "execution_count": 10,
   "id": "499f2f3d-077e-468e-90b2-2b1d8b01b811",
   "metadata": {},
   "outputs": [],
   "source": [
    "# new_df.shape"
   ]
  },
  {
   "cell_type": "markdown",
   "id": "192c6cb7-a284-4be6-a5cd-10eaea13bb4e",
   "metadata": {},
   "source": [
    "### 3. Drop null values"
   ]
  },
  {
   "cell_type": "code",
   "execution_count": 11,
   "id": "0100dca5-9508-4e33-badb-c339a4e6f42f",
   "metadata": {},
   "outputs": [
    {
     "name": "stdout",
     "output_type": "stream",
     "text": [
      "host_response_rate                   5561\n",
      "host_is_superhost                      14\n",
      "host_listings_count                    14\n",
      "host_total_listings_count              14\n",
      "host_has_profile_pic                   14\n",
      "host_identity_verified                 14\n",
      "neighbourhood_cleansed                  0\n",
      "is_location_exact                       0\n",
      "property_type                           0\n",
      "room_type                               0\n",
      "accommodates                            0\n",
      "bathrooms                              97\n",
      "bedrooms                               35\n",
      "beds                                   59\n",
      "bed_type                                0\n",
      "price                                   0\n",
      "security_deposit                    14397\n",
      "cleaning_fee                         6974\n",
      "guests_included                         0\n",
      "extra_people                            0\n",
      "minimum_nights                          0\n",
      "maximum_nights                          0\n",
      "availability_30                         0\n",
      "availability_60                         0\n",
      "availability_90                         0\n",
      "availability_365                        0\n",
      "number_of_reviews                       0\n",
      "review_scores_rating                 7527\n",
      "review_scores_accuracy               7564\n",
      "review_scores_cleanliness            7565\n",
      "review_scores_checkin                7592\n",
      "review_scores_communication          7563\n",
      "review_scores_location               7593\n",
      "review_scores_value                  7605\n",
      "requires_license                        0\n",
      "instant_bookable                        0\n",
      "cancellation_policy                     0\n",
      "require_guest_profile_picture           0\n",
      "require_guest_phone_verification        0\n",
      "calculated_host_listings_count          0\n",
      "reviews_per_month                    7223\n"
     ]
    }
   ],
   "source": [
    "# Nulls in each column.\n",
    "var = new_df.isnull().sum()\n",
    "print(var.to_string())"
   ]
  },
  {
   "cell_type": "code",
   "execution_count": 12,
   "id": "9cdb2d71-1be5-4320-86b3-3a37049a11f8",
   "metadata": {},
   "outputs": [],
   "source": [
    "# Drop all the nulls.\n",
    "new_df = new_df.dropna()"
   ]
  },
  {
   "cell_type": "code",
   "execution_count": 13,
   "id": "6ee27c7e-db95-48ae-a00c-4b90c1b3c311",
   "metadata": {},
   "outputs": [],
   "source": [
    "# Double check the nulls.\n",
    "# new_df.isnull().sum()"
   ]
  },
  {
   "cell_type": "code",
   "execution_count": 14,
   "id": "a01157a2-0233-43eb-9203-604dd7b2d857",
   "metadata": {},
   "outputs": [
    {
     "data": {
      "text/plain": [
       "host_response_rate                   object\n",
       "host_is_superhost                    object\n",
       "host_listings_count                 float64\n",
       "host_total_listings_count           float64\n",
       "host_has_profile_pic                 object\n",
       "host_identity_verified               object\n",
       "neighbourhood_cleansed               object\n",
       "is_location_exact                    object\n",
       "property_type                        object\n",
       "room_type                            object\n",
       "accommodates                          int64\n",
       "bathrooms                           float64\n",
       "bedrooms                            float64\n",
       "beds                                float64\n",
       "bed_type                             object\n",
       "price                                object\n",
       "security_deposit                     object\n",
       "cleaning_fee                         object\n",
       "guests_included                       int64\n",
       "extra_people                         object\n",
       "minimum_nights                        int64\n",
       "maximum_nights                        int64\n",
       "availability_30                       int64\n",
       "availability_60                       int64\n",
       "availability_90                       int64\n",
       "availability_365                      int64\n",
       "number_of_reviews                     int64\n",
       "review_scores_rating                float64\n",
       "review_scores_accuracy              float64\n",
       "review_scores_cleanliness           float64\n",
       "review_scores_checkin               float64\n",
       "review_scores_communication         float64\n",
       "review_scores_location              float64\n",
       "review_scores_value                 float64\n",
       "requires_license                     object\n",
       "instant_bookable                     object\n",
       "cancellation_policy                  object\n",
       "require_guest_profile_picture        object\n",
       "require_guest_phone_verification     object\n",
       "calculated_host_listings_count        int64\n",
       "reviews_per_month                   float64\n",
       "dtype: object"
      ]
     },
     "execution_count": 14,
     "metadata": {},
     "output_type": "execute_result"
    }
   ],
   "source": [
    "# Check for data types.\n",
    "new_df.dtypes"
   ]
  },
  {
   "cell_type": "code",
   "execution_count": 15,
   "id": "db903eea-1f4b-4cb2-ae87-42ef7225e900",
   "metadata": {},
   "outputs": [],
   "source": [
    "# Drop duplicates.\n",
    "# new_df.drop_duplicates"
   ]
  },
  {
   "cell_type": "code",
   "execution_count": 16,
   "id": "09f2fe0d-e9e7-4b21-bc7f-1aba6847e9ad",
   "metadata": {},
   "outputs": [
    {
     "data": {
      "text/plain": [
       "(11745, 41)"
      ]
     },
     "execution_count": 16,
     "metadata": {},
     "output_type": "execute_result"
    }
   ],
   "source": [
    "new_df.shape"
   ]
  },
  {
   "cell_type": "code",
   "execution_count": 18,
   "id": "a67eb1c1-7d88-4b9a-b090-443a208a75e6",
   "metadata": {},
   "outputs": [
    {
     "data": {
      "text/plain": [
       "array(['80%', '96%', '100%', '97%', '82%', '40%', '90%', '94%', '11%',\n",
       "       '95%', '99%', '93%', '98%', '87%', '83%', '0%', '67%', '75%',\n",
       "       '50%', '92%', '70%', '33%', '86%', '30%', '43%', '88%', '10%',\n",
       "       '84%', '89%', '60%', '76%', '29%', '44%', '91%', '63%', '56%',\n",
       "       '25%', '62%', '78%', '71%', '74%', '65%', '64%', '20%', '81%',\n",
       "       '72%', '79%', '57%', '69%', '85%', '73%', '17%', '61%', '35%',\n",
       "       '22%', '68%', '77%', '58%', '39%', '53%', '27%'], dtype=object)"
      ]
     },
     "execution_count": 18,
     "metadata": {},
     "output_type": "execute_result"
    }
   ],
   "source": [
    "new_df['host_response_rate'].unique()"
   ]
  },
  {
   "cell_type": "code",
   "execution_count": 19,
   "id": "1c710725-8228-4237-92c6-f6784c78c561",
   "metadata": {},
   "outputs": [],
   "source": [
    "# Convert into a list.\n",
    "lis = new_df['host_response_rate'].tolist()\n",
    "\n",
    "# Create a new list.\n",
    "nlist = []\n",
    "\n",
    "# Remove % and turn into numeric.\n",
    "for x in lis:\n",
    "    nlist.append(int(x.replace(x[-1], ''))/100)\n",
    "\n",
    "new_df['host_response'] = nlist"
   ]
  },
  {
   "cell_type": "markdown",
   "id": "3a7a3a27-b3d1-443a-96c0-f34096456590",
   "metadata": {},
   "source": [
    "#### price"
   ]
  },
  {
   "cell_type": "code",
   "execution_count": 20,
   "id": "97b9f1aa-f325-4393-bef9-30c5c7019e89",
   "metadata": {},
   "outputs": [],
   "source": [
    "lis = new_df['price'].tolist()\n",
    "\n",
    "nlist = [int(x.replace(x[0], '').replace('.00', '').replace(',', '')) for x in lis]\n",
    "             \n",
    "new_df['Price'] = nlist"
   ]
  },
  {
   "cell_type": "markdown",
   "id": "342d9e6b-c54a-4d1b-af65-0b8b4c63be6c",
   "metadata": {},
   "source": [
    "#### security_deposit"
   ]
  },
  {
   "cell_type": "code",
   "execution_count": 21,
   "id": "db2f731a-4df2-48b2-a06d-084b37a8bf9b",
   "metadata": {},
   "outputs": [],
   "source": [
    "lis = new_df['security_deposit'].tolist()\n",
    "\n",
    "nlist = [int(x.replace(x[0], '').replace('.00', '').replace(',', '')) for x in lis]\n",
    "             \n",
    "new_df['Security_deposit'] = nlist"
   ]
  },
  {
   "cell_type": "markdown",
   "id": "3f7af170-eb2e-4aee-91f6-f7ccfa9c571c",
   "metadata": {},
   "source": [
    "#### cleaning_fee"
   ]
  },
  {
   "cell_type": "code",
   "execution_count": 22,
   "id": "302c9fc4-5755-41d3-b226-b6545f7c74a6",
   "metadata": {},
   "outputs": [],
   "source": [
    "lis = new_df['cleaning_fee'].tolist()\n",
    "\n",
    "nlist = [int(x.replace(x[0], '').replace('.00', '').replace(',', '')) for x in lis]\n",
    "             \n",
    "new_df['Cleaning_fee'] = nlist"
   ]
  },
  {
   "cell_type": "markdown",
   "id": "dd766ad1-e60a-471a-a4a1-b2bc1c8bf498",
   "metadata": {},
   "source": [
    "#### extra_people"
   ]
  },
  {
   "cell_type": "code",
   "execution_count": 23,
   "id": "6b23be7d-4d26-4a21-a3c0-2f6835a32479",
   "metadata": {},
   "outputs": [],
   "source": [
    "lis = new_df['extra_people'].tolist()\n",
    "\n",
    "nlist = [int(x.replace(x[0], '').replace('.00', '').replace(',', '')) for x in lis]\n",
    "             \n",
    "new_df['Extra_people'] = nlist"
   ]
  },
  {
   "cell_type": "code",
   "execution_count": 24,
   "id": "be230e88-6bae-42d5-a184-13b881ba6033",
   "metadata": {},
   "outputs": [],
   "source": [
    "# Drop the old columns.\n",
    "new_df = new_df.drop(['price', 'security_deposit', 'cleaning_fee', 'extra_people'], axis=1)"
   ]
  },
  {
   "cell_type": "markdown",
   "id": "8d8b4bea-08a0-4492-8a58-66845851ded8",
   "metadata": {},
   "source": [
    "### 5. Inspect Numeric Columns"
   ]
  },
  {
   "cell_type": "code",
   "execution_count": 25,
   "id": "2ef0066f-3a0b-46c7-9c08-0a56a9b7504c",
   "metadata": {},
   "outputs": [
    {
     "data": {
      "text/html": [
       "<div>\n",
       "<style scoped>\n",
       "    .dataframe tbody tr th:only-of-type {\n",
       "        vertical-align: middle;\n",
       "    }\n",
       "\n",
       "    .dataframe tbody tr th {\n",
       "        vertical-align: top;\n",
       "    }\n",
       "\n",
       "    .dataframe thead th {\n",
       "        text-align: right;\n",
       "    }\n",
       "</style>\n",
       "<table border=\"1\" class=\"dataframe\">\n",
       "  <thead>\n",
       "    <tr style=\"text-align: right;\">\n",
       "      <th></th>\n",
       "      <th>host_listings_count</th>\n",
       "      <th>host_total_listings_count</th>\n",
       "      <th>accommodates</th>\n",
       "      <th>bathrooms</th>\n",
       "      <th>bedrooms</th>\n",
       "      <th>beds</th>\n",
       "      <th>guests_included</th>\n",
       "      <th>minimum_nights</th>\n",
       "      <th>maximum_nights</th>\n",
       "      <th>availability_30</th>\n",
       "      <th>availability_60</th>\n",
       "      <th>availability_90</th>\n",
       "      <th>availability_365</th>\n",
       "      <th>number_of_reviews</th>\n",
       "      <th>review_scores_rating</th>\n",
       "      <th>review_scores_accuracy</th>\n",
       "      <th>review_scores_cleanliness</th>\n",
       "      <th>review_scores_checkin</th>\n",
       "      <th>review_scores_communication</th>\n",
       "      <th>review_scores_location</th>\n",
       "      <th>review_scores_value</th>\n",
       "      <th>calculated_host_listings_count</th>\n",
       "      <th>reviews_per_month</th>\n",
       "      <th>host_response</th>\n",
       "      <th>Price</th>\n",
       "      <th>Security_deposit</th>\n",
       "      <th>Cleaning_fee</th>\n",
       "      <th>Extra_people</th>\n",
       "    </tr>\n",
       "  </thead>\n",
       "  <tbody>\n",
       "    <tr>\n",
       "      <th>count</th>\n",
       "      <td>11745.000000</td>\n",
       "      <td>11745.000000</td>\n",
       "      <td>11745.000000</td>\n",
       "      <td>11745.000000</td>\n",
       "      <td>11745.000000</td>\n",
       "      <td>11745.000000</td>\n",
       "      <td>11745.000000</td>\n",
       "      <td>11745.000000</td>\n",
       "      <td>11745.000000</td>\n",
       "      <td>11745.000000</td>\n",
       "      <td>11745.000000</td>\n",
       "      <td>11745.000000</td>\n",
       "      <td>11745.000000</td>\n",
       "      <td>11745.000000</td>\n",
       "      <td>11745.000000</td>\n",
       "      <td>11745.000000</td>\n",
       "      <td>11745.000000</td>\n",
       "      <td>11745.000000</td>\n",
       "      <td>11745.000000</td>\n",
       "      <td>11745.000000</td>\n",
       "      <td>11745.000000</td>\n",
       "      <td>11745.000000</td>\n",
       "      <td>11745.000000</td>\n",
       "      <td>11745.000000</td>\n",
       "      <td>11745.000000</td>\n",
       "      <td>11745.000000</td>\n",
       "      <td>11745.000000</td>\n",
       "      <td>11745.000000</td>\n",
       "    </tr>\n",
       "    <tr>\n",
       "      <th>mean</th>\n",
       "      <td>5.656194</td>\n",
       "      <td>5.656194</td>\n",
       "      <td>4.095615</td>\n",
       "      <td>1.426479</td>\n",
       "      <td>1.496211</td>\n",
       "      <td>2.171562</td>\n",
       "      <td>2.180162</td>\n",
       "      <td>3.271775</td>\n",
       "      <td>812.492209</td>\n",
       "      <td>14.220264</td>\n",
       "      <td>32.240187</td>\n",
       "      <td>51.980247</td>\n",
       "      <td>224.656535</td>\n",
       "      <td>30.037974</td>\n",
       "      <td>94.620179</td>\n",
       "      <td>9.658408</td>\n",
       "      <td>9.511537</td>\n",
       "      <td>9.795743</td>\n",
       "      <td>9.792337</td>\n",
       "      <td>9.655428</td>\n",
       "      <td>9.499447</td>\n",
       "      <td>3.895445</td>\n",
       "      <td>1.935613</td>\n",
       "      <td>0.963401</td>\n",
       "      <td>188.714176</td>\n",
       "      <td>421.536654</td>\n",
       "      <td>87.146956</td>\n",
       "      <td>17.681652</td>\n",
       "    </tr>\n",
       "    <tr>\n",
       "      <th>std</th>\n",
       "      <td>21.776949</td>\n",
       "      <td>21.776949</td>\n",
       "      <td>2.674808</td>\n",
       "      <td>0.805997</td>\n",
       "      <td>1.101232</td>\n",
       "      <td>1.572967</td>\n",
       "      <td>1.818969</td>\n",
       "      <td>5.973677</td>\n",
       "      <td>9327.872543</td>\n",
       "      <td>10.396569</td>\n",
       "      <td>19.624206</td>\n",
       "      <td>28.821224</td>\n",
       "      <td>121.922064</td>\n",
       "      <td>40.654000</td>\n",
       "      <td>6.822503</td>\n",
       "      <td>0.684686</td>\n",
       "      <td>0.803003</td>\n",
       "      <td>0.553736</td>\n",
       "      <td>0.565115</td>\n",
       "      <td>0.652137</td>\n",
       "      <td>0.737535</td>\n",
       "      <td>5.265609</td>\n",
       "      <td>1.983548</td>\n",
       "      <td>0.117223</td>\n",
       "      <td>270.741429</td>\n",
       "      <td>568.971568</td>\n",
       "      <td>70.815829</td>\n",
       "      <td>25.925319</td>\n",
       "    </tr>\n",
       "    <tr>\n",
       "      <th>min</th>\n",
       "      <td>0.000000</td>\n",
       "      <td>0.000000</td>\n",
       "      <td>1.000000</td>\n",
       "      <td>0.000000</td>\n",
       "      <td>0.000000</td>\n",
       "      <td>1.000000</td>\n",
       "      <td>1.000000</td>\n",
       "      <td>1.000000</td>\n",
       "      <td>1.000000</td>\n",
       "      <td>0.000000</td>\n",
       "      <td>0.000000</td>\n",
       "      <td>0.000000</td>\n",
       "      <td>0.000000</td>\n",
       "      <td>1.000000</td>\n",
       "      <td>20.000000</td>\n",
       "      <td>2.000000</td>\n",
       "      <td>2.000000</td>\n",
       "      <td>2.000000</td>\n",
       "      <td>2.000000</td>\n",
       "      <td>2.000000</td>\n",
       "      <td>2.000000</td>\n",
       "      <td>1.000000</td>\n",
       "      <td>0.020000</td>\n",
       "      <td>0.000000</td>\n",
       "      <td>12.000000</td>\n",
       "      <td>0.000000</td>\n",
       "      <td>0.000000</td>\n",
       "      <td>0.000000</td>\n",
       "    </tr>\n",
       "    <tr>\n",
       "      <th>25%</th>\n",
       "      <td>1.000000</td>\n",
       "      <td>1.000000</td>\n",
       "      <td>2.000000</td>\n",
       "      <td>1.000000</td>\n",
       "      <td>1.000000</td>\n",
       "      <td>1.000000</td>\n",
       "      <td>1.000000</td>\n",
       "      <td>1.000000</td>\n",
       "      <td>41.000000</td>\n",
       "      <td>5.000000</td>\n",
       "      <td>16.000000</td>\n",
       "      <td>29.000000</td>\n",
       "      <td>107.000000</td>\n",
       "      <td>5.000000</td>\n",
       "      <td>93.000000</td>\n",
       "      <td>9.000000</td>\n",
       "      <td>9.000000</td>\n",
       "      <td>10.000000</td>\n",
       "      <td>10.000000</td>\n",
       "      <td>9.000000</td>\n",
       "      <td>9.000000</td>\n",
       "      <td>1.000000</td>\n",
       "      <td>0.540000</td>\n",
       "      <td>1.000000</td>\n",
       "      <td>88.000000</td>\n",
       "      <td>150.000000</td>\n",
       "      <td>45.000000</td>\n",
       "      <td>0.000000</td>\n",
       "    </tr>\n",
       "    <tr>\n",
       "      <th>50%</th>\n",
       "      <td>2.000000</td>\n",
       "      <td>2.000000</td>\n",
       "      <td>4.000000</td>\n",
       "      <td>1.000000</td>\n",
       "      <td>1.000000</td>\n",
       "      <td>2.000000</td>\n",
       "      <td>1.000000</td>\n",
       "      <td>2.000000</td>\n",
       "      <td>1125.000000</td>\n",
       "      <td>14.000000</td>\n",
       "      <td>32.000000</td>\n",
       "      <td>56.000000</td>\n",
       "      <td>269.000000</td>\n",
       "      <td>15.000000</td>\n",
       "      <td>96.000000</td>\n",
       "      <td>10.000000</td>\n",
       "      <td>10.000000</td>\n",
       "      <td>10.000000</td>\n",
       "      <td>10.000000</td>\n",
       "      <td>10.000000</td>\n",
       "      <td>10.000000</td>\n",
       "      <td>2.000000</td>\n",
       "      <td>1.320000</td>\n",
       "      <td>1.000000</td>\n",
       "      <td>125.000000</td>\n",
       "      <td>250.000000</td>\n",
       "      <td>75.000000</td>\n",
       "      <td>10.000000</td>\n",
       "    </tr>\n",
       "    <tr>\n",
       "      <th>75%</th>\n",
       "      <td>5.000000</td>\n",
       "      <td>5.000000</td>\n",
       "      <td>5.000000</td>\n",
       "      <td>2.000000</td>\n",
       "      <td>2.000000</td>\n",
       "      <td>3.000000</td>\n",
       "      <td>2.000000</td>\n",
       "      <td>3.000000</td>\n",
       "      <td>1125.000000</td>\n",
       "      <td>24.000000</td>\n",
       "      <td>50.000000</td>\n",
       "      <td>78.000000</td>\n",
       "      <td>336.000000</td>\n",
       "      <td>39.000000</td>\n",
       "      <td>100.000000</td>\n",
       "      <td>10.000000</td>\n",
       "      <td>10.000000</td>\n",
       "      <td>10.000000</td>\n",
       "      <td>10.000000</td>\n",
       "      <td>10.000000</td>\n",
       "      <td>10.000000</td>\n",
       "      <td>4.000000</td>\n",
       "      <td>2.830000</td>\n",
       "      <td>1.000000</td>\n",
       "      <td>199.000000</td>\n",
       "      <td>500.000000</td>\n",
       "      <td>100.000000</td>\n",
       "      <td>25.000000</td>\n",
       "    </tr>\n",
       "    <tr>\n",
       "      <th>max</th>\n",
       "      <td>479.000000</td>\n",
       "      <td>479.000000</td>\n",
       "      <td>16.000000</td>\n",
       "      <td>8.000000</td>\n",
       "      <td>10.000000</td>\n",
       "      <td>16.000000</td>\n",
       "      <td>16.000000</td>\n",
       "      <td>180.000000</td>\n",
       "      <td>1000000.000000</td>\n",
       "      <td>30.000000</td>\n",
       "      <td>60.000000</td>\n",
       "      <td>90.000000</td>\n",
       "      <td>365.000000</td>\n",
       "      <td>532.000000</td>\n",
       "      <td>100.000000</td>\n",
       "      <td>10.000000</td>\n",
       "      <td>10.000000</td>\n",
       "      <td>10.000000</td>\n",
       "      <td>10.000000</td>\n",
       "      <td>10.000000</td>\n",
       "      <td>10.000000</td>\n",
       "      <td>36.000000</td>\n",
       "      <td>90.000000</td>\n",
       "      <td>1.000000</td>\n",
       "      <td>10000.000000</td>\n",
       "      <td>5100.000000</td>\n",
       "      <td>1000.000000</td>\n",
       "      <td>300.000000</td>\n",
       "    </tr>\n",
       "  </tbody>\n",
       "</table>\n",
       "</div>"
      ],
      "text/plain": [
       "       host_listings_count  host_total_listings_count  accommodates  \\\n",
       "count         11745.000000               11745.000000  11745.000000   \n",
       "mean              5.656194                   5.656194      4.095615   \n",
       "std              21.776949                  21.776949      2.674808   \n",
       "min               0.000000                   0.000000      1.000000   \n",
       "25%               1.000000                   1.000000      2.000000   \n",
       "50%               2.000000                   2.000000      4.000000   \n",
       "75%               5.000000                   5.000000      5.000000   \n",
       "max             479.000000                 479.000000     16.000000   \n",
       "\n",
       "          bathrooms      bedrooms          beds  guests_included  \\\n",
       "count  11745.000000  11745.000000  11745.000000     11745.000000   \n",
       "mean       1.426479      1.496211      2.171562         2.180162   \n",
       "std        0.805997      1.101232      1.572967         1.818969   \n",
       "min        0.000000      0.000000      1.000000         1.000000   \n",
       "25%        1.000000      1.000000      1.000000         1.000000   \n",
       "50%        1.000000      1.000000      2.000000         1.000000   \n",
       "75%        2.000000      2.000000      3.000000         2.000000   \n",
       "max        8.000000     10.000000     16.000000        16.000000   \n",
       "\n",
       "       minimum_nights  maximum_nights  availability_30  availability_60  \\\n",
       "count    11745.000000    11745.000000     11745.000000     11745.000000   \n",
       "mean         3.271775      812.492209        14.220264        32.240187   \n",
       "std          5.973677     9327.872543        10.396569        19.624206   \n",
       "min          1.000000        1.000000         0.000000         0.000000   \n",
       "25%          1.000000       41.000000         5.000000        16.000000   \n",
       "50%          2.000000     1125.000000        14.000000        32.000000   \n",
       "75%          3.000000     1125.000000        24.000000        50.000000   \n",
       "max        180.000000  1000000.000000        30.000000        60.000000   \n",
       "\n",
       "       availability_90  availability_365  number_of_reviews  \\\n",
       "count     11745.000000      11745.000000       11745.000000   \n",
       "mean         51.980247        224.656535          30.037974   \n",
       "std          28.821224        121.922064          40.654000   \n",
       "min           0.000000          0.000000           1.000000   \n",
       "25%          29.000000        107.000000           5.000000   \n",
       "50%          56.000000        269.000000          15.000000   \n",
       "75%          78.000000        336.000000          39.000000   \n",
       "max          90.000000        365.000000         532.000000   \n",
       "\n",
       "       review_scores_rating  review_scores_accuracy  \\\n",
       "count          11745.000000            11745.000000   \n",
       "mean              94.620179                9.658408   \n",
       "std                6.822503                0.684686   \n",
       "min               20.000000                2.000000   \n",
       "25%               93.000000                9.000000   \n",
       "50%               96.000000               10.000000   \n",
       "75%              100.000000               10.000000   \n",
       "max              100.000000               10.000000   \n",
       "\n",
       "       review_scores_cleanliness  review_scores_checkin  \\\n",
       "count               11745.000000           11745.000000   \n",
       "mean                    9.511537               9.795743   \n",
       "std                     0.803003               0.553736   \n",
       "min                     2.000000               2.000000   \n",
       "25%                     9.000000              10.000000   \n",
       "50%                    10.000000              10.000000   \n",
       "75%                    10.000000              10.000000   \n",
       "max                    10.000000              10.000000   \n",
       "\n",
       "       review_scores_communication  review_scores_location  \\\n",
       "count                 11745.000000            11745.000000   \n",
       "mean                      9.792337                9.655428   \n",
       "std                       0.565115                0.652137   \n",
       "min                       2.000000                2.000000   \n",
       "25%                      10.000000                9.000000   \n",
       "50%                      10.000000               10.000000   \n",
       "75%                      10.000000               10.000000   \n",
       "max                      10.000000               10.000000   \n",
       "\n",
       "       review_scores_value  calculated_host_listings_count  reviews_per_month  \\\n",
       "count         11745.000000                    11745.000000       11745.000000   \n",
       "mean              9.499447                        3.895445           1.935613   \n",
       "std               0.737535                        5.265609           1.983548   \n",
       "min               2.000000                        1.000000           0.020000   \n",
       "25%               9.000000                        1.000000           0.540000   \n",
       "50%              10.000000                        2.000000           1.320000   \n",
       "75%              10.000000                        4.000000           2.830000   \n",
       "max              10.000000                       36.000000          90.000000   \n",
       "\n",
       "       host_response         Price  Security_deposit  Cleaning_fee  \\\n",
       "count   11745.000000  11745.000000      11745.000000  11745.000000   \n",
       "mean        0.963401    188.714176        421.536654     87.146956   \n",
       "std         0.117223    270.741429        568.971568     70.815829   \n",
       "min         0.000000     12.000000          0.000000      0.000000   \n",
       "25%         1.000000     88.000000        150.000000     45.000000   \n",
       "50%         1.000000    125.000000        250.000000     75.000000   \n",
       "75%         1.000000    199.000000        500.000000    100.000000   \n",
       "max         1.000000  10000.000000       5100.000000   1000.000000   \n",
       "\n",
       "       Extra_people  \n",
       "count  11745.000000  \n",
       "mean      17.681652  \n",
       "std       25.925319  \n",
       "min        0.000000  \n",
       "25%        0.000000  \n",
       "50%       10.000000  \n",
       "75%       25.000000  \n",
       "max      300.000000  "
      ]
     },
     "execution_count": 25,
     "metadata": {},
     "output_type": "execute_result"
    }
   ],
   "source": [
    "# Quantitative Statistics\n",
    "new_df.describe()"
   ]
  },
  {
   "cell_type": "code",
   "execution_count": 159,
   "id": "b7bb44e8-36a5-4bd1-bbef-9ff4482b8194",
   "metadata": {},
   "outputs": [
    {
     "data": {
      "image/png": "[encoded data removed]",
      "text/plain": [
       "<Figure size 1152x360 with 1 Axes>"
      ]
     },
     "metadata": {
      "needs_background": "light"
     },
     "output_type": "display_data"
    }
   ],
   "source": [
    "df_1 = new_df[['host_listings_count', 'host_total_listings_count', 'availability_365', 'minimum_nights',\n",
    "               'number_of_reviews', 'Extra_people']]\n",
    "plt.rcParams[\"figure.figsize\"] = (16, 5)\n",
    "sns.boxplot(data=df_1)\n",
    "plt.show()"
   ]
  },
  {
   "cell_type": "code",
   "execution_count": 160,
   "id": "6af534bd-8396-4248-8926-ed754800280b",
   "metadata": {},
   "outputs": [
    {
     "data": {
      "image/png": "[encoded data removed]",
      "text/plain": [
       "<Figure size 1152x360 with 1 Axes>"
      ]
     },
     "metadata": {
      "needs_background": "light"
     },
     "output_type": "display_data"
    }
   ],
   "source": [
    "df_2 = new_df[['accommodates', 'bathrooms', 'bedrooms', 'beds', 'guests_included']]\n",
    "sns.boxplot(data=df_2)\n",
    "plt.show()"
   ]
  },
  {
   "cell_type": "code",
   "execution_count": 161,
   "id": "2c4ea6bc-032f-48e5-805a-12d54c474309",
   "metadata": {},
   "outputs": [
    {
     "data": {
      "image/png": "[encoded data removed]",
      "text/plain": [
       "<Figure size 1152x360 with 1 Axes>"
      ]
     },
     "metadata": {
      "needs_background": "light"
     },
     "output_type": "display_data"
    }
   ],
   "source": [
    "df_3 = new_df[['availability_30', 'availability_60', 'availability_90', 'reviews_per_month', \n",
    "               'calculated_host_listings_count']]\n",
    "sns.boxplot(data=df_3)\n",
    "plt.show()"
   ]
  },
  {
   "cell_type": "code",
   "execution_count": 162,
   "id": "b72c7e95-4428-40b2-a348-bf6c2d218fe8",
   "metadata": {},
   "outputs": [
    {
     "data": {
      "image/png": "[encoded data removed]",
      "text/plain": [
       "<Figure size 1152x360 with 1 Axes>"
      ]
     },
     "metadata": {
      "needs_background": "light"
     },
     "output_type": "display_data"
    }
   ],
   "source": [
    "df_4 = new_df[['review_scores_accuracy', 'review_scores_cleanliness', 'review_scores_checkin', \n",
    "               'review_scores_communication', 'review_scores_location', 'review_scores_value']]\n",
    "sns.boxplot(data=df_4)\n",
    "plt.show()"
   ]
  },
  {
   "cell_type": "code",
   "execution_count": 173,
   "id": "495cb7e0-53c8-45bd-b87d-592d46b0c699",
   "metadata": {},
   "outputs": [
    {
     "data": {
      "image/png": "[encoded data removed]",
      "text/plain": [
       "<Figure size 504x360 with 1 Axes>"
      ]
     },
     "metadata": {
      "needs_background": "light"
     },
     "output_type": "display_data"
    }
   ],
   "source": [
    "sns.boxplot('maximum_nights', data=new_df)\n",
    "plt.rcParams[\"figure.figsize\"] = (8, 5)\n",
    "plt.show()"
   ]
  },
  {
   "cell_type": "code",
   "execution_count": 174,
   "id": "afdb4efe-fea9-4a51-9357-f04ae27a8a36",
   "metadata": {},
   "outputs": [
    {
     "data": {
      "image/png": "[encoded data removed]",
      "text/plain": [
       "<Figure size 576x360 with 1 Axes>"
      ]
     },
     "metadata": {
      "needs_background": "light"
     },
     "output_type": "display_data"
    }
   ],
   "source": [
    "sns.boxplot('Price', data=new_df)\n",
    "plt.show()"
   ]
  },
  {
   "cell_type": "code",
   "execution_count": 175,
   "id": "9606098b-0ff9-4f06-9f4d-2b4593a7f1ec",
   "metadata": {},
   "outputs": [
    {
     "data": {
      "image/png": "[encoded data removed]",
      "text/plain": [
       "<Figure size 576x360 with 1 Axes>"
      ]
     },
     "metadata": {
      "needs_background": "light"
     },
     "output_type": "display_data"
    }
   ],
   "source": [
    "sns.boxplot('Security_deposit', data=new_df)\n",
    "plt.show()"
   ]
  },
  {
   "cell_type": "code",
   "execution_count": 176,
   "id": "2086b6f7-9504-413d-8784-a0dffd04ebb8",
   "metadata": {},
   "outputs": [
    {
     "data": {
      "image/png": "[encoded data removed]",
      "text/plain": [
       "<Figure size 576x360 with 1 Axes>"
      ]
     },
     "metadata": {
      "needs_background": "light"
     },
     "output_type": "display_data"
    }
   ],
   "source": [
    "sns.boxplot('Cleaning_fee', data=new_df)\n",
    "plt.show()"
   ]
  },
  {
   "cell_type": "code",
   "execution_count": 177,
   "id": "ecb64ceb-b054-401c-a4bf-b1dd4b1d973c",
   "metadata": {},
   "outputs": [
    {
     "data": {
      "text/plain": [
       "(11739, 42)"
      ]
     },
     "execution_count": 177,
     "metadata": {},
     "output_type": "execute_result"
    }
   ],
   "source": [
    "# Filter dataframe.\n",
    "fil_df = new_df[(new_df.maximum_nights<36500) & (new_df.Price<6000)]\n",
    "fil_df.shape"
   ]
  },
  {
   "cell_type": "code",
   "execution_count": 178,
   "id": "1ee9ced5-ec7c-4b83-a7ca-1a6e3158c5f2",
   "metadata": {},
   "outputs": [
    {
     "data": {
      "image/png": "[encoded data removed]",
      "text/plain": [
       "<Figure size 576x360 with 1 Axes>"
      ]
     },
     "metadata": {
      "needs_background": "light"
     },
     "output_type": "display_data"
    }
   ],
   "source": [
    "sns.boxplot('maximum_nights', data=fil_df)\n",
    "plt.show()"
   ]
  },
  {
   "cell_type": "code",
   "execution_count": 179,
   "id": "ca5962c2-15c4-40dc-ac0e-62e93ed2a041",
   "metadata": {},
   "outputs": [
    {
     "data": {
      "image/png": "[encoded data removed]",
      "text/plain": [
       "<Figure size 576x360 with 1 Axes>"
      ]
     },
     "metadata": {
      "needs_background": "light"
     },
     "output_type": "display_data"
    }
   ],
   "source": [
    "sns.boxplot('Price', data=fil_df)\n",
    "plt.show()"
   ]
  },
  {
   "cell_type": "markdown",
   "id": "04c6c7da-5663-41a4-afe5-8c12d2a4af7f",
   "metadata": {},
   "source": [
    "### 6. Inspect categorical columns"
   ]
  },
  {
   "cell_type": "code",
   "execution_count": 37,
   "id": "6d363124-3e5c-49c6-815e-1eefafbda789",
   "metadata": {},
   "outputs": [
    {
     "data": {
      "image/png": "[encoded data removed]",
      "text/plain": [
       "<Figure size 720x288 with 2 Axes>"
      ]
     },
     "metadata": {
      "needs_background": "light"
     },
     "output_type": "display_data"
    }
   ],
   "source": [
    "fig, (ax1, ax2) = plt.subplots(1,2, figsize=(10,4))\n",
    "sns.countplot('host_is_superhost', data=fil_df, ax=ax1)\n",
    "sns.countplot('host_has_profile_pic', data=fil_df, ax=ax2)\n",
    "plt.show()"
   ]
  },
  {
   "cell_type": "code",
   "execution_count": 38,
   "id": "75efb62c-c2b7-4b98-820f-4d64ab9fe469",
   "metadata": {},
   "outputs": [
    {
     "data": {
      "image/png": "[encoded data removed]",
      "text/plain": [
       "<Figure size 720x288 with 2 Axes>"
      ]
     },
     "metadata": {
      "needs_background": "light"
     },
     "output_type": "display_data"
    }
   ],
   "source": [
    "fig, (ax1, ax2) = plt.subplots(1,2, figsize=(10,4))\n",
    "sns.countplot('host_identity_verified', data=fil_df, ax=ax1)\n",
    "sns.countplot('is_location_exact', data=fil_df, ax=ax2)\n",
    "plt.show()"
   ]
  },
  {
   "cell_type": "code",
   "execution_count": 39,
   "id": "5a7d59d3-edaa-49d8-bd23-a5606b0d4738",
   "metadata": {},
   "outputs": [
    {
     "data": {
      "image/png": "[encoded data removed]",
      "text/plain": [
       "<Figure size 720x288 with 2 Axes>"
      ]
     },
     "metadata": {
      "needs_background": "light"
     },
     "output_type": "display_data"
    }
   ],
   "source": [
    "fig, (ax1, ax2) = plt.subplots(1,2, figsize=(10,4))\n",
    "sns.countplot('requires_license', data=fil_df, ax=ax1)\n",
    "sns.countplot('instant_bookable', data=fil_df, ax=ax2)\n",
    "plt.show()"
   ]
  },
  {
   "cell_type": "code",
   "execution_count": 40,
   "id": "53189744-ef2e-4822-82f0-00277536bc9b",
   "metadata": {},
   "outputs": [
    {
     "data": {
      "image/png": "[encoded data removed]",
      "text/plain": [
       "<Figure size 720x288 with 2 Axes>"
      ]
     },
     "metadata": {
      "needs_background": "light"
     },
     "output_type": "display_data"
    }
   ],
   "source": [
    "fig, (ax1, ax2) = plt.subplots(1,2, figsize=(10,4))\n",
    "sns.countplot('require_guest_profile_picture', data=fil_df, ax=ax1)\n",
    "sns.countplot('require_guest_phone_verification', data=fil_df, ax=ax2)\n",
    "plt.show()"
   ]
  },
  {
   "cell_type": "code",
   "execution_count": 41,
   "id": "2d40ee28-6576-43a5-805a-eed8a34f2e6d",
   "metadata": {},
   "outputs": [
    {
     "data": {
      "image/png": "[encoded data removed]",
      "text/plain": [
       "<Figure size 720x288 with 2 Axes>"
      ]
     },
     "metadata": {
      "needs_background": "light"
     },
     "output_type": "display_data"
    }
   ],
   "source": [
    "fig, (ax1, ax2) = plt.subplots(1,2, figsize=(10,4))\n",
    "sns.countplot('bed_type', data=fil_df, ax=ax1)\n",
    "sns.countplot('cancellation_policy', data=fil_df, ax=ax2)\n",
    "plt.show()"
   ]
  },
  {
   "cell_type": "code",
   "execution_count": 42,
   "id": "31c3bd3f-df8c-4e69-b683-223435570011",
   "metadata": {},
   "outputs": [
    {
     "data": {
      "image/png": "[encoded data removed]",
      "text/plain": [
       "<Figure size 432x288 with 1 Axes>"
      ]
     },
     "metadata": {
      "needs_background": "light"
     },
     "output_type": "display_data"
    }
   ],
   "source": [
    "sns.countplot('room_type', data=fil_df)\n",
    "plt.show()"
   ]
  },
  {
   "cell_type": "markdown",
   "id": "d182e170-7013-4357-886e-2c0617912e52",
   "metadata": {},
   "source": [
    "### 7. Encode categorical to numeric"
   ]
  },
  {
   "cell_type": "code",
   "execution_count": 43,
   "id": "34d1bb81-1594-4f10-abd0-70e082df946a",
   "metadata": {},
   "outputs": [],
   "source": [
    "# Binary encoding. \n",
    "encode_df = pd.get_dummies(fil_df, columns=['host_is_superhost', 'host_has_profile_pic', \"host_identity_verified\", \n",
    "                                            'is_location_exact', 'requires_license', \"instant_bookable\", \n",
    "                                            \"require_guest_profile_picture\", \"require_guest_phone_verification\"])\n",
    "\n",
    "# Ordinal Encoding.\n",
    "ord_enc = OrdinalEncoder()\n",
    "\n",
    "encode_df[\"Neighbourhood_cleansed\"] = ord_enc.fit_transform(encode_df[[\"neighbourhood_cleansed\"]])\n",
    "\n",
    "encode_df[\"Property_type\"] = ord_enc.fit_transform(encode_df[[\"property_type\"]])\n",
    "\n",
    "encode_df[\"Room_type\"] = ord_enc.fit_transform(encode_df[[\"room_type\"]])\n",
    "\n",
    "encode_df[\"Bed_type\"] = ord_enc.fit_transform(encode_df[[\"bed_type\"]])\n",
    "\n",
    "encode_df[\"Cancellation_policy\"] = ord_enc.fit_transform(encode_df[[\"cancellation_policy\"]])"
   ]
  },
  {
   "cell_type": "code",
   "execution_count": 44,
   "id": "20820e7b-b604-45f6-bead-2bf4b37422c0",
   "metadata": {},
   "outputs": [],
   "source": [
    "# Drop unconverted columns.\n",
    "encode_df = encode_df.drop(['host_response_rate', 'neighbourhood_cleansed', 'property_type', 'room_type', \n",
    "                            'bed_type','cancellation_policy', 'host_is_superhost_f', 'host_has_profile_pic_f',\n",
    "                            'host_identity_verified_f', 'is_location_exact_f', 'requires_license_f', 'instant_bookable_f', \n",
    "                            'require_guest_profile_picture_f', 'require_guest_phone_verification_f'], axis=1)"
   ]
  },
  {
   "cell_type": "code",
   "execution_count": 135,
   "id": "8f1960d4-e71a-44a5-820b-b8b336f8d8c5",
   "metadata": {},
   "outputs": [
    {
     "data": {
      "text/html": [
       "<div>\n",
       "<style scoped>\n",
       "    .dataframe tbody tr th:only-of-type {\n",
       "        vertical-align: middle;\n",
       "    }\n",
       "\n",
       "    .dataframe tbody tr th {\n",
       "        vertical-align: top;\n",
       "    }\n",
       "\n",
       "    .dataframe thead th {\n",
       "        text-align: right;\n",
       "    }\n",
       "</style>\n",
       "<table border=\"1\" class=\"dataframe\">\n",
       "  <thead>\n",
       "    <tr style=\"text-align: right;\">\n",
       "      <th></th>\n",
       "      <th>host_listings_count</th>\n",
       "      <th>host_total_listings_count</th>\n",
       "      <th>accommodates</th>\n",
       "      <th>bathrooms</th>\n",
       "      <th>bedrooms</th>\n",
       "      <th>beds</th>\n",
       "      <th>guests_included</th>\n",
       "      <th>minimum_nights</th>\n",
       "      <th>maximum_nights</th>\n",
       "      <th>availability_30</th>\n",
       "      <th>availability_60</th>\n",
       "      <th>availability_90</th>\n",
       "      <th>availability_365</th>\n",
       "      <th>number_of_reviews</th>\n",
       "      <th>review_scores_rating</th>\n",
       "      <th>review_scores_accuracy</th>\n",
       "      <th>review_scores_cleanliness</th>\n",
       "      <th>review_scores_checkin</th>\n",
       "      <th>review_scores_communication</th>\n",
       "      <th>review_scores_location</th>\n",
       "      <th>review_scores_value</th>\n",
       "      <th>calculated_host_listings_count</th>\n",
       "      <th>reviews_per_month</th>\n",
       "      <th>host_response</th>\n",
       "      <th>Price</th>\n",
       "      <th>Security_deposit</th>\n",
       "      <th>Cleaning_fee</th>\n",
       "      <th>Extra_people</th>\n",
       "      <th>host_is_superhost_t</th>\n",
       "      <th>host_has_profile_pic_t</th>\n",
       "      <th>host_identity_verified_t</th>\n",
       "      <th>is_location_exact_t</th>\n",
       "      <th>requires_license_t</th>\n",
       "      <th>instant_bookable_t</th>\n",
       "      <th>require_guest_profile_picture_t</th>\n",
       "      <th>require_guest_phone_verification_t</th>\n",
       "      <th>Neighbourhood_cleansed</th>\n",
       "      <th>Property_type</th>\n",
       "      <th>Room_type</th>\n",
       "      <th>Bed_type</th>\n",
       "      <th>Cancellation_policy</th>\n",
       "    </tr>\n",
       "  </thead>\n",
       "  <tbody>\n",
       "    <tr>\n",
       "      <th>10</th>\n",
       "      <td>1.0</td>\n",
       "      <td>1.0</td>\n",
       "      <td>2</td>\n",
       "      <td>1.0</td>\n",
       "      <td>1.0</td>\n",
       "      <td>1.0</td>\n",
       "      <td>1</td>\n",
       "      <td>1</td>\n",
       "      <td>14</td>\n",
       "      <td>0</td>\n",
       "      <td>6</td>\n",
       "      <td>20</td>\n",
       "      <td>106</td>\n",
       "      <td>15</td>\n",
       "      <td>99.0</td>\n",
       "      <td>10.0</td>\n",
       "      <td>10.0</td>\n",
       "      <td>10.0</td>\n",
       "      <td>10.0</td>\n",
       "      <td>9.0</td>\n",
       "      <td>10.0</td>\n",
       "      <td>1</td>\n",
       "      <td>1.96</td>\n",
       "      <td>0.80</td>\n",
       "      <td>120</td>\n",
       "      <td>100</td>\n",
       "      <td>20</td>\n",
       "      <td>0</td>\n",
       "      <td>0</td>\n",
       "      <td>1</td>\n",
       "      <td>1</td>\n",
       "      <td>1</td>\n",
       "      <td>0</td>\n",
       "      <td>0</td>\n",
       "      <td>0</td>\n",
       "      <td>0</td>\n",
       "      <td>0.0</td>\n",
       "      <td>14.0</td>\n",
       "      <td>0.0</td>\n",
       "      <td>4.0</td>\n",
       "      <td>1.0</td>\n",
       "    </tr>\n",
       "    <tr>\n",
       "      <th>12</th>\n",
       "      <td>23.0</td>\n",
       "      <td>23.0</td>\n",
       "      <td>1</td>\n",
       "      <td>0.0</td>\n",
       "      <td>1.0</td>\n",
       "      <td>1.0</td>\n",
       "      <td>1</td>\n",
       "      <td>1</td>\n",
       "      <td>1125</td>\n",
       "      <td>20</td>\n",
       "      <td>46</td>\n",
       "      <td>76</td>\n",
       "      <td>351</td>\n",
       "      <td>19</td>\n",
       "      <td>89.0</td>\n",
       "      <td>9.0</td>\n",
       "      <td>9.0</td>\n",
       "      <td>9.0</td>\n",
       "      <td>9.0</td>\n",
       "      <td>8.0</td>\n",
       "      <td>9.0</td>\n",
       "      <td>19</td>\n",
       "      <td>0.53</td>\n",
       "      <td>0.96</td>\n",
       "      <td>50</td>\n",
       "      <td>100</td>\n",
       "      <td>20</td>\n",
       "      <td>0</td>\n",
       "      <td>0</td>\n",
       "      <td>1</td>\n",
       "      <td>1</td>\n",
       "      <td>1</td>\n",
       "      <td>0</td>\n",
       "      <td>0</td>\n",
       "      <td>0</td>\n",
       "      <td>0</td>\n",
       "      <td>0.0</td>\n",
       "      <td>16.0</td>\n",
       "      <td>1.0</td>\n",
       "      <td>4.0</td>\n",
       "      <td>2.0</td>\n",
       "    </tr>\n",
       "    <tr>\n",
       "      <th>15</th>\n",
       "      <td>2.0</td>\n",
       "      <td>2.0</td>\n",
       "      <td>2</td>\n",
       "      <td>1.5</td>\n",
       "      <td>1.0</td>\n",
       "      <td>1.0</td>\n",
       "      <td>2</td>\n",
       "      <td>2</td>\n",
       "      <td>1125</td>\n",
       "      <td>17</td>\n",
       "      <td>41</td>\n",
       "      <td>41</td>\n",
       "      <td>41</td>\n",
       "      <td>27</td>\n",
       "      <td>96.0</td>\n",
       "      <td>10.0</td>\n",
       "      <td>10.0</td>\n",
       "      <td>10.0</td>\n",
       "      <td>10.0</td>\n",
       "      <td>9.0</td>\n",
       "      <td>10.0</td>\n",
       "      <td>2</td>\n",
       "      <td>1.55</td>\n",
       "      <td>1.00</td>\n",
       "      <td>55</td>\n",
       "      <td>100</td>\n",
       "      <td>25</td>\n",
       "      <td>50</td>\n",
       "      <td>1</td>\n",
       "      <td>1</td>\n",
       "      <td>1</td>\n",
       "      <td>0</td>\n",
       "      <td>0</td>\n",
       "      <td>0</td>\n",
       "      <td>0</td>\n",
       "      <td>0</td>\n",
       "      <td>0.0</td>\n",
       "      <td>16.0</td>\n",
       "      <td>1.0</td>\n",
       "      <td>4.0</td>\n",
       "      <td>2.0</td>\n",
       "    </tr>\n",
       "    <tr>\n",
       "      <th>19</th>\n",
       "      <td>4.0</td>\n",
       "      <td>4.0</td>\n",
       "      <td>3</td>\n",
       "      <td>1.0</td>\n",
       "      <td>1.0</td>\n",
       "      <td>1.0</td>\n",
       "      <td>2</td>\n",
       "      <td>1</td>\n",
       "      <td>1125</td>\n",
       "      <td>29</td>\n",
       "      <td>59</td>\n",
       "      <td>89</td>\n",
       "      <td>360</td>\n",
       "      <td>4</td>\n",
       "      <td>80.0</td>\n",
       "      <td>8.0</td>\n",
       "      <td>8.0</td>\n",
       "      <td>10.0</td>\n",
       "      <td>10.0</td>\n",
       "      <td>10.0</td>\n",
       "      <td>8.0</td>\n",
       "      <td>1</td>\n",
       "      <td>0.96</td>\n",
       "      <td>0.97</td>\n",
       "      <td>75</td>\n",
       "      <td>300</td>\n",
       "      <td>75</td>\n",
       "      <td>40</td>\n",
       "      <td>0</td>\n",
       "      <td>1</td>\n",
       "      <td>1</td>\n",
       "      <td>1</td>\n",
       "      <td>0</td>\n",
       "      <td>0</td>\n",
       "      <td>0</td>\n",
       "      <td>0</td>\n",
       "      <td>0.0</td>\n",
       "      <td>16.0</td>\n",
       "      <td>1.0</td>\n",
       "      <td>4.0</td>\n",
       "      <td>2.0</td>\n",
       "    </tr>\n",
       "    <tr>\n",
       "      <th>20</th>\n",
       "      <td>3.0</td>\n",
       "      <td>3.0</td>\n",
       "      <td>4</td>\n",
       "      <td>2.0</td>\n",
       "      <td>1.0</td>\n",
       "      <td>2.0</td>\n",
       "      <td>1</td>\n",
       "      <td>3</td>\n",
       "      <td>1125</td>\n",
       "      <td>24</td>\n",
       "      <td>48</td>\n",
       "      <td>75</td>\n",
       "      <td>75</td>\n",
       "      <td>16</td>\n",
       "      <td>88.0</td>\n",
       "      <td>9.0</td>\n",
       "      <td>8.0</td>\n",
       "      <td>10.0</td>\n",
       "      <td>10.0</td>\n",
       "      <td>9.0</td>\n",
       "      <td>9.0</td>\n",
       "      <td>3</td>\n",
       "      <td>0.89</td>\n",
       "      <td>1.00</td>\n",
       "      <td>59</td>\n",
       "      <td>150</td>\n",
       "      <td>25</td>\n",
       "      <td>15</td>\n",
       "      <td>0</td>\n",
       "      <td>1</td>\n",
       "      <td>1</td>\n",
       "      <td>1</td>\n",
       "      <td>0</td>\n",
       "      <td>0</td>\n",
       "      <td>0</td>\n",
       "      <td>0</td>\n",
       "      <td>0.0</td>\n",
       "      <td>16.0</td>\n",
       "      <td>1.0</td>\n",
       "      <td>4.0</td>\n",
       "      <td>1.0</td>\n",
       "    </tr>\n",
       "  </tbody>\n",
       "</table>\n",
       "</div>"
      ],
      "text/plain": [
       "    host_listings_count  host_total_listings_count  accommodates  bathrooms  \\\n",
       "10                  1.0                        1.0             2        1.0   \n",
       "12                 23.0                       23.0             1        0.0   \n",
       "15                  2.0                        2.0             2        1.5   \n",
       "19                  4.0                        4.0             3        1.0   \n",
       "20                  3.0                        3.0             4        2.0   \n",
       "\n",
       "    bedrooms  beds  guests_included  minimum_nights  maximum_nights  \\\n",
       "10       1.0   1.0                1               1              14   \n",
       "12       1.0   1.0                1               1            1125   \n",
       "15       1.0   1.0                2               2            1125   \n",
       "19       1.0   1.0                2               1            1125   \n",
       "20       1.0   2.0                1               3            1125   \n",
       "\n",
       "    availability_30  availability_60  availability_90  availability_365  \\\n",
       "10                0                6               20               106   \n",
       "12               20               46               76               351   \n",
       "15               17               41               41                41   \n",
       "19               29               59               89               360   \n",
       "20               24               48               75                75   \n",
       "\n",
       "    number_of_reviews  review_scores_rating  review_scores_accuracy  \\\n",
       "10                 15                  99.0                    10.0   \n",
       "12                 19                  89.0                     9.0   \n",
       "15                 27                  96.0                    10.0   \n",
       "19                  4                  80.0                     8.0   \n",
       "20                 16                  88.0                     9.0   \n",
       "\n",
       "    review_scores_cleanliness  review_scores_checkin  \\\n",
       "10                       10.0                   10.0   \n",
       "12                        9.0                    9.0   \n",
       "15                       10.0                   10.0   \n",
       "19                        8.0                   10.0   \n",
       "20                        8.0                   10.0   \n",
       "\n",
       "    review_scores_communication  review_scores_location  review_scores_value  \\\n",
       "10                         10.0                     9.0                 10.0   \n",
       "12                          9.0                     8.0                  9.0   \n",
       "15                         10.0                     9.0                 10.0   \n",
       "19                         10.0                    10.0                  8.0   \n",
       "20                         10.0                     9.0                  9.0   \n",
       "\n",
       "    calculated_host_listings_count  reviews_per_month  host_response  Price  \\\n",
       "10                               1               1.96           0.80    120   \n",
       "12                              19               0.53           0.96     50   \n",
       "15                               2               1.55           1.00     55   \n",
       "19                               1               0.96           0.97     75   \n",
       "20                               3               0.89           1.00     59   \n",
       "\n",
       "    Security_deposit  Cleaning_fee  Extra_people  host_is_superhost_t  \\\n",
       "10               100            20             0                    0   \n",
       "12               100            20             0                    0   \n",
       "15               100            25            50                    1   \n",
       "19               300            75            40                    0   \n",
       "20               150            25            15                    0   \n",
       "\n",
       "    host_has_profile_pic_t  host_identity_verified_t  is_location_exact_t  \\\n",
       "10                       1                         1                    1   \n",
       "12                       1                         1                    1   \n",
       "15                       1                         1                    0   \n",
       "19                       1                         1                    1   \n",
       "20                       1                         1                    1   \n",
       "\n",
       "    requires_license_t  instant_bookable_t  require_guest_profile_picture_t  \\\n",
       "10                   0                   0                                0   \n",
       "12                   0                   0                                0   \n",
       "15                   0                   0                                0   \n",
       "19                   0                   0                                0   \n",
       "20                   0                   0                                0   \n",
       "\n",
       "    require_guest_phone_verification_t  Neighbourhood_cleansed  Property_type  \\\n",
       "10                                   0                     0.0           14.0   \n",
       "12                                   0                     0.0           16.0   \n",
       "15                                   0                     0.0           16.0   \n",
       "19                                   0                     0.0           16.0   \n",
       "20                                   0                     0.0           16.0   \n",
       "\n",
       "    Room_type  Bed_type  Cancellation_policy  \n",
       "10        0.0       4.0                  1.0  \n",
       "12        1.0       4.0                  2.0  \n",
       "15        1.0       4.0                  2.0  \n",
       "19        1.0       4.0                  2.0  \n",
       "20        1.0       4.0                  1.0  "
      ]
     },
     "execution_count": 135,
     "metadata": {},
     "output_type": "execute_result"
    }
   ],
   "source": [
    "encode_df.head()"
   ]
  },
  {
   "cell_type": "markdown",
   "id": "17ff3034-0eee-497d-a452-30e339b81477",
   "metadata": {},
   "source": [
    "## Multiple Linear Regression"
   ]
  },
  {
   "cell_type": "code",
   "execution_count": 46,
   "id": "9057b391-230c-4300-8cb4-c4f3435dea30",
   "metadata": {},
   "outputs": [
    {
     "data": {
      "text/plain": [
       "Price                                 1.000000\n",
       "Cleaning_fee                          0.710443\n",
       "bathrooms                             0.661170\n",
       "Security_deposit                      0.633242\n",
       "bedrooms                              0.578733\n",
       "accommodates                          0.536682\n",
       "beds                                  0.486481\n",
       "guests_included                       0.345914\n",
       "Extra_people                          0.210176\n",
       "Property_type                         0.200222\n",
       "availability_30                       0.139961\n",
       "Cancellation_policy                   0.128707\n",
       "availability_60                       0.128240\n",
       "availability_90                       0.100220\n",
       "availability_365                      0.099888\n",
       "review_scores_location                0.070928\n",
       "maximum_nights                        0.057394\n",
       "Bed_type                              0.045198\n",
       "review_scores_rating                  0.044529\n",
       "review_scores_cleanliness             0.033480\n",
       "is_location_exact_t                   0.032954\n",
       "host_identity_verified_t              0.025811\n",
       "requires_license_t                    0.014892\n",
       "calculated_host_listings_count        0.013859\n",
       "host_listings_count                   0.013131\n",
       "host_total_listings_count             0.013131\n",
       "review_scores_accuracy                0.012374\n",
       "minimum_nights                        0.007755\n",
       "Neighbourhood_cleansed                0.000246\n",
       "require_guest_phone_verification_t   -0.003863\n",
       "require_guest_profile_picture_t      -0.006178\n",
       "review_scores_communication          -0.008667\n",
       "review_scores_checkin                -0.008997\n",
       "review_scores_value                  -0.018312\n",
       "host_is_superhost_t                  -0.018717\n",
       "host_response                        -0.030861\n",
       "instant_bookable_t                   -0.036191\n",
       "host_has_profile_pic_t               -0.038958\n",
       "number_of_reviews                    -0.085095\n",
       "reviews_per_month                    -0.117037\n",
       "Room_type                            -0.262935\n",
       "Name: Price, dtype: float64"
      ]
     },
     "execution_count": 46,
     "metadata": {},
     "output_type": "execute_result"
    }
   ],
   "source": [
    "# Correlation Matrix\n",
    "corr_matrix = encode_df.corr()\n",
    "corr_matrix['Price'].sort_values(ascending=False)"
   ]
  },
  {
   "cell_type": "code",
   "execution_count": 136,
   "id": "a3bad336-7eb7-491a-8fcf-49f7f3b3dc7a",
   "metadata": {},
   "outputs": [
    {
     "data": {
      "text/html": [
       "<div>\n",
       "<style scoped>\n",
       "    .dataframe tbody tr th:only-of-type {\n",
       "        vertical-align: middle;\n",
       "    }\n",
       "\n",
       "    .dataframe tbody tr th {\n",
       "        vertical-align: top;\n",
       "    }\n",
       "\n",
       "    .dataframe thead th {\n",
       "        text-align: right;\n",
       "    }\n",
       "</style>\n",
       "<table border=\"1\" class=\"dataframe\">\n",
       "  <thead>\n",
       "    <tr style=\"text-align: right;\">\n",
       "      <th></th>\n",
       "      <th>Price</th>\n",
       "      <th>Cleaning_fee</th>\n",
       "      <th>bathrooms</th>\n",
       "      <th>Security_deposit</th>\n",
       "      <th>bedrooms</th>\n",
       "      <th>accommodates</th>\n",
       "      <th>beds</th>\n",
       "      <th>guests_included</th>\n",
       "    </tr>\n",
       "  </thead>\n",
       "  <tbody>\n",
       "    <tr>\n",
       "      <th>10</th>\n",
       "      <td>120</td>\n",
       "      <td>20</td>\n",
       "      <td>1.0</td>\n",
       "      <td>100</td>\n",
       "      <td>1.0</td>\n",
       "      <td>2</td>\n",
       "      <td>1.0</td>\n",
       "      <td>1</td>\n",
       "    </tr>\n",
       "    <tr>\n",
       "      <th>12</th>\n",
       "      <td>50</td>\n",
       "      <td>20</td>\n",
       "      <td>0.0</td>\n",
       "      <td>100</td>\n",
       "      <td>1.0</td>\n",
       "      <td>1</td>\n",
       "      <td>1.0</td>\n",
       "      <td>1</td>\n",
       "    </tr>\n",
       "    <tr>\n",
       "      <th>15</th>\n",
       "      <td>55</td>\n",
       "      <td>25</td>\n",
       "      <td>1.5</td>\n",
       "      <td>100</td>\n",
       "      <td>1.0</td>\n",
       "      <td>2</td>\n",
       "      <td>1.0</td>\n",
       "      <td>2</td>\n",
       "    </tr>\n",
       "    <tr>\n",
       "      <th>19</th>\n",
       "      <td>75</td>\n",
       "      <td>75</td>\n",
       "      <td>1.0</td>\n",
       "      <td>300</td>\n",
       "      <td>1.0</td>\n",
       "      <td>3</td>\n",
       "      <td>1.0</td>\n",
       "      <td>2</td>\n",
       "    </tr>\n",
       "    <tr>\n",
       "      <th>20</th>\n",
       "      <td>59</td>\n",
       "      <td>25</td>\n",
       "      <td>2.0</td>\n",
       "      <td>150</td>\n",
       "      <td>1.0</td>\n",
       "      <td>4</td>\n",
       "      <td>2.0</td>\n",
       "      <td>1</td>\n",
       "    </tr>\n",
       "  </tbody>\n",
       "</table>\n",
       "</div>"
      ],
      "text/plain": [
       "    Price  Cleaning_fee  bathrooms  Security_deposit  bedrooms  accommodates  \\\n",
       "10    120            20        1.0               100       1.0             2   \n",
       "12     50            20        0.0               100       1.0             1   \n",
       "15     55            25        1.5               100       1.0             2   \n",
       "19     75            75        1.0               300       1.0             3   \n",
       "20     59            25        2.0               150       1.0             4   \n",
       "\n",
       "    beds  guests_included  \n",
       "10   1.0                1  \n",
       "12   1.0                1  \n",
       "15   1.0                2  \n",
       "19   1.0                2  \n",
       "20   2.0                1  "
      ]
     },
     "execution_count": 136,
     "metadata": {},
     "output_type": "execute_result"
    }
   ],
   "source": [
    "# Select variables that are correlated with price.\n",
    "lr_df = encode_df[['Price', 'Cleaning_fee', 'bathrooms', 'Security_deposit', 'bedrooms', 'accommodates', 'beds', 'guests_included']]\n",
    "lr_df.head()"
   ]
  },
  {
   "cell_type": "code",
   "execution_count": 48,
   "id": "9456b6bf-2f6e-4f44-ae40-590e0ecde9bc",
   "metadata": {},
   "outputs": [
    {
     "data": {
      "text/html": [
       "<div>\n",
       "<style scoped>\n",
       "    .dataframe tbody tr th:only-of-type {\n",
       "        vertical-align: middle;\n",
       "    }\n",
       "\n",
       "    .dataframe tbody tr th {\n",
       "        vertical-align: top;\n",
       "    }\n",
       "\n",
       "    .dataframe thead th {\n",
       "        text-align: right;\n",
       "    }\n",
       "</style>\n",
       "<table border=\"1\" class=\"dataframe\">\n",
       "  <thead>\n",
       "    <tr style=\"text-align: right;\">\n",
       "      <th></th>\n",
       "      <th>Price</th>\n",
       "      <th>Cleaning_fee</th>\n",
       "      <th>bathrooms</th>\n",
       "      <th>Security_deposit</th>\n",
       "      <th>bedrooms</th>\n",
       "      <th>accommodates</th>\n",
       "      <th>beds</th>\n",
       "      <th>guests_included</th>\n",
       "    </tr>\n",
       "  </thead>\n",
       "  <tbody>\n",
       "    <tr>\n",
       "      <th>Price</th>\n",
       "      <td>1.000000</td>\n",
       "      <td>0.710443</td>\n",
       "      <td>0.661170</td>\n",
       "      <td>0.633242</td>\n",
       "      <td>0.578733</td>\n",
       "      <td>0.536682</td>\n",
       "      <td>0.486481</td>\n",
       "      <td>0.345914</td>\n",
       "    </tr>\n",
       "    <tr>\n",
       "      <th>Cleaning_fee</th>\n",
       "      <td>0.710443</td>\n",
       "      <td>1.000000</td>\n",
       "      <td>0.659220</td>\n",
       "      <td>0.630258</td>\n",
       "      <td>0.641167</td>\n",
       "      <td>0.588941</td>\n",
       "      <td>0.543835</td>\n",
       "      <td>0.420838</td>\n",
       "    </tr>\n",
       "    <tr>\n",
       "      <th>bathrooms</th>\n",
       "      <td>0.661170</td>\n",
       "      <td>0.659220</td>\n",
       "      <td>1.000000</td>\n",
       "      <td>0.504352</td>\n",
       "      <td>0.767341</td>\n",
       "      <td>0.653737</td>\n",
       "      <td>0.644597</td>\n",
       "      <td>0.466099</td>\n",
       "    </tr>\n",
       "    <tr>\n",
       "      <th>Security_deposit</th>\n",
       "      <td>0.633242</td>\n",
       "      <td>0.630258</td>\n",
       "      <td>0.504352</td>\n",
       "      <td>1.000000</td>\n",
       "      <td>0.441549</td>\n",
       "      <td>0.349473</td>\n",
       "      <td>0.320704</td>\n",
       "      <td>0.259051</td>\n",
       "    </tr>\n",
       "    <tr>\n",
       "      <th>bedrooms</th>\n",
       "      <td>0.578733</td>\n",
       "      <td>0.641167</td>\n",
       "      <td>0.767341</td>\n",
       "      <td>0.441549</td>\n",
       "      <td>1.000000</td>\n",
       "      <td>0.772641</td>\n",
       "      <td>0.763579</td>\n",
       "      <td>0.557262</td>\n",
       "    </tr>\n",
       "    <tr>\n",
       "      <th>accommodates</th>\n",
       "      <td>0.536682</td>\n",
       "      <td>0.588941</td>\n",
       "      <td>0.653737</td>\n",
       "      <td>0.349473</td>\n",
       "      <td>0.772641</td>\n",
       "      <td>1.000000</td>\n",
       "      <td>0.849013</td>\n",
       "      <td>0.606964</td>\n",
       "    </tr>\n",
       "    <tr>\n",
       "      <th>beds</th>\n",
       "      <td>0.486481</td>\n",
       "      <td>0.543835</td>\n",
       "      <td>0.644597</td>\n",
       "      <td>0.320704</td>\n",
       "      <td>0.763579</td>\n",
       "      <td>0.849013</td>\n",
       "      <td>1.000000</td>\n",
       "      <td>0.566642</td>\n",
       "    </tr>\n",
       "    <tr>\n",
       "      <th>guests_included</th>\n",
       "      <td>0.345914</td>\n",
       "      <td>0.420838</td>\n",
       "      <td>0.466099</td>\n",
       "      <td>0.259051</td>\n",
       "      <td>0.557262</td>\n",
       "      <td>0.606964</td>\n",
       "      <td>0.566642</td>\n",
       "      <td>1.000000</td>\n",
       "    </tr>\n",
       "  </tbody>\n",
       "</table>\n",
       "</div>"
      ],
      "text/plain": [
       "                     Price  Cleaning_fee  bathrooms  Security_deposit  \\\n",
       "Price             1.000000      0.710443   0.661170          0.633242   \n",
       "Cleaning_fee      0.710443      1.000000   0.659220          0.630258   \n",
       "bathrooms         0.661170      0.659220   1.000000          0.504352   \n",
       "Security_deposit  0.633242      0.630258   0.504352          1.000000   \n",
       "bedrooms          0.578733      0.641167   0.767341          0.441549   \n",
       "accommodates      0.536682      0.588941   0.653737          0.349473   \n",
       "beds              0.486481      0.543835   0.644597          0.320704   \n",
       "guests_included   0.345914      0.420838   0.466099          0.259051   \n",
       "\n",
       "                  bedrooms  accommodates      beds  guests_included  \n",
       "Price             0.578733      0.536682  0.486481         0.345914  \n",
       "Cleaning_fee      0.641167      0.588941  0.543835         0.420838  \n",
       "bathrooms         0.767341      0.653737  0.644597         0.466099  \n",
       "Security_deposit  0.441549      0.349473  0.320704         0.259051  \n",
       "bedrooms          1.000000      0.772641  0.763579         0.557262  \n",
       "accommodates      0.772641      1.000000  0.849013         0.606964  \n",
       "beds              0.763579      0.849013  1.000000         0.566642  \n",
       "guests_included   0.557262      0.606964  0.566642         1.000000  "
      ]
     },
     "execution_count": 48,
     "metadata": {},
     "output_type": "execute_result"
    }
   ],
   "source": [
    "# Check for collinearity.\n",
    "lr_df.corr()"
   ]
  },
  {
   "cell_type": "code",
   "execution_count": 137,
   "id": "65b7ac5d-b318-4f67-a699-0b0b08312b9c",
   "metadata": {},
   "outputs": [],
   "source": [
    "# bathrooms bedrooms\n",
    "# bedrooms accommodates beds\n",
    "lr_df = lr_df.drop(['bathrooms', 'accommodates', 'beds'], axis=1)"
   ]
  },
  {
   "cell_type": "code",
   "execution_count": 138,
   "id": "0917bbee-4262-48cc-9632-759d5308cee7",
   "metadata": {},
   "outputs": [
    {
     "data": {
      "text/html": [
       "<div>\n",
       "<style scoped>\n",
       "    .dataframe tbody tr th:only-of-type {\n",
       "        vertical-align: middle;\n",
       "    }\n",
       "\n",
       "    .dataframe tbody tr th {\n",
       "        vertical-align: top;\n",
       "    }\n",
       "\n",
       "    .dataframe thead th {\n",
       "        text-align: right;\n",
       "    }\n",
       "</style>\n",
       "<table border=\"1\" class=\"dataframe\">\n",
       "  <thead>\n",
       "    <tr style=\"text-align: right;\">\n",
       "      <th></th>\n",
       "      <th>Price</th>\n",
       "      <th>Cleaning_fee</th>\n",
       "      <th>Security_deposit</th>\n",
       "      <th>bedrooms</th>\n",
       "      <th>guests_included</th>\n",
       "    </tr>\n",
       "  </thead>\n",
       "  <tbody>\n",
       "    <tr>\n",
       "      <th>10</th>\n",
       "      <td>120</td>\n",
       "      <td>20</td>\n",
       "      <td>100</td>\n",
       "      <td>1.0</td>\n",
       "      <td>1</td>\n",
       "    </tr>\n",
       "    <tr>\n",
       "      <th>12</th>\n",
       "      <td>50</td>\n",
       "      <td>20</td>\n",
       "      <td>100</td>\n",
       "      <td>1.0</td>\n",
       "      <td>1</td>\n",
       "    </tr>\n",
       "    <tr>\n",
       "      <th>15</th>\n",
       "      <td>55</td>\n",
       "      <td>25</td>\n",
       "      <td>100</td>\n",
       "      <td>1.0</td>\n",
       "      <td>2</td>\n",
       "    </tr>\n",
       "    <tr>\n",
       "      <th>19</th>\n",
       "      <td>75</td>\n",
       "      <td>75</td>\n",
       "      <td>300</td>\n",
       "      <td>1.0</td>\n",
       "      <td>2</td>\n",
       "    </tr>\n",
       "    <tr>\n",
       "      <th>20</th>\n",
       "      <td>59</td>\n",
       "      <td>25</td>\n",
       "      <td>150</td>\n",
       "      <td>1.0</td>\n",
       "      <td>1</td>\n",
       "    </tr>\n",
       "  </tbody>\n",
       "</table>\n",
       "</div>"
      ],
      "text/plain": [
       "    Price  Cleaning_fee  Security_deposit  bedrooms  guests_included\n",
       "10    120            20               100       1.0                1\n",
       "12     50            20               100       1.0                1\n",
       "15     55            25               100       1.0                2\n",
       "19     75            75               300       1.0                2\n",
       "20     59            25               150       1.0                1"
      ]
     },
     "execution_count": 138,
     "metadata": {},
     "output_type": "execute_result"
    }
   ],
   "source": [
    "lr_df.head()"
   ]
  },
  {
   "cell_type": "markdown",
   "id": "c16cd8bd-2ab9-4087-a2f2-07cf940cb5ed",
   "metadata": {},
   "source": [
    "### QQ Plot & Shapiro-Wilk Test"
   ]
  },
  {
   "cell_type": "code",
   "execution_count": 50,
   "id": "499645a0-0b51-4515-bb68-c22efd098644",
   "metadata": {},
   "outputs": [
    {
     "data": {
      "image/png": "[encoded data removed]",
      "text/plain": [
       "<Figure size 432x288 with 1 Axes>"
      ]
     },
     "metadata": {
      "needs_background": "light"
     },
     "output_type": "display_data"
    }
   ],
   "source": [
    "fig = sm.qqplot(lr_df, line='45')\n",
    "plt.show()"
   ]
  },
  {
   "cell_type": "code",
   "execution_count": 51,
   "id": "dae8476a-082c-4035-abb8-2edf18967fe8",
   "metadata": {},
   "outputs": [
    {
     "data": {
      "text/plain": [
       "ShapiroResult(statistic=0.40516597032546997, pvalue=0.0)"
      ]
     },
     "execution_count": 51,
     "metadata": {},
     "output_type": "execute_result"
    }
   ],
   "source": [
    "stats.shapiro(lr_df)"
   ]
  },
  {
   "cell_type": "markdown",
   "id": "3da136c4-7332-4220-8f2f-647b64796227",
   "metadata": {},
   "source": [
    "### Linear Regression Model 1"
   ]
  },
  {
   "cell_type": "code",
   "execution_count": 145,
   "id": "afd45993-fd44-4fde-a9d6-a9093f7b0ffe",
   "metadata": {},
   "outputs": [],
   "source": [
    "# Define X and y\n",
    "X = lr_df.drop('Price', axis=1)\n",
    "\n",
    "# Add constant to predictor variables\n",
    "X = sm.add_constant(X)\n",
    "\n",
    "y = lr_df.Price\n",
    "\n",
    "# Split the data.\n",
    "X_train, X_test, y_train, y_test = train_test_split(X, y, test_size=0.25, random_state=12)"
   ]
  },
  {
   "cell_type": "code",
   "execution_count": 146,
   "id": "fbba7b7e-07c9-42d8-a43b-833cdc3153fa",
   "metadata": {},
   "outputs": [],
   "source": [
    "# Fit linear regression model\n",
    "lr_model = sm.OLS(y_train, X_train).fit()"
   ]
  },
  {
   "cell_type": "code",
   "execution_count": 147,
   "id": "402efd8c-8ffa-423f-aacc-c9c47acdaa84",
   "metadata": {},
   "outputs": [
    {
     "name": "stdout",
     "output_type": "stream",
     "text": [
      "                            OLS Regression Results                            \n",
      "==============================================================================\n",
      "Dep. Variable:                  Price   R-squared:                       0.609\n",
      "Model:                            OLS   Adj. R-squared:                  0.609\n",
      "Method:                 Least Squares   F-statistic:                     3432.\n",
      "Date:                Sat, 06 Aug 2022   Prob (F-statistic):               0.00\n",
      "Time:                        15:42:39   Log-Likelihood:                -56449.\n",
      "No. Observations:                8804   AIC:                         1.129e+05\n",
      "Df Residuals:                    8799   BIC:                         1.129e+05\n",
      "Df Model:                           4                                         \n",
      "Covariance Type:            nonrobust                                         \n",
      "====================================================================================\n",
      "                       coef    std err          t      P>|t|      [0.025      0.975]\n",
      "------------------------------------------------------------------------------------\n",
      "const              -46.5588      2.860    -16.281      0.000     -52.165     -40.953\n",
      "Cleaning_fee         1.3907      0.034     40.823      0.000       1.324       1.457\n",
      "Security_deposit     0.1261      0.004     35.446      0.000       0.119       0.133\n",
      "bedrooms            39.2985      2.032     19.341      0.000      35.316      43.281\n",
      "guests_included      0.2524      1.045      0.241      0.809      -1.797       2.301\n",
      "==============================================================================\n",
      "Omnibus:                    11558.564   Durbin-Watson:                   1.985\n",
      "Prob(Omnibus):                  0.000   Jarque-Bera (JB):          5451759.891\n",
      "Skew:                           7.033   Prob(JB):                         0.00\n",
      "Kurtosis:                     124.094   Cond. No.                     1.35e+03\n",
      "==============================================================================\n",
      "\n",
      "Notes:\n",
      "[1] Standard Errors assume that the covariance matrix of the errors is correctly specified.\n",
      "[2] The condition number is large, 1.35e+03. This might indicate that there are\n",
      "strong multicollinearity or other numerical problems.\n"
     ]
    }
   ],
   "source": [
    "print(lr_model.summary())"
   ]
  },
  {
   "cell_type": "code",
   "execution_count": 148,
   "id": "fa0a4300-2bca-43b6-8ff4-b3647bea7157",
   "metadata": {},
   "outputs": [
    {
     "data": {
      "text/plain": [
       "28321.222819952258"
      ]
     },
     "execution_count": 148,
     "metadata": {},
     "output_type": "execute_result"
    }
   ],
   "source": [
    "# Predictions.\n",
    "y_pred = lr_model.predict(X_test)\n",
    "\n",
    "# Mean Squared Error.\n",
    "MSE(y_test, y_pred)"
   ]
  },
  {
   "cell_type": "code",
   "execution_count": 149,
   "id": "c361e5dd-ac53-4946-b1e2-acabfb013ff5",
   "metadata": {},
   "outputs": [
    {
     "data": {
      "text/plain": [
       "73.04543123509119"
      ]
     },
     "execution_count": 149,
     "metadata": {},
     "output_type": "execute_result"
    }
   ],
   "source": [
    "np.mean(abs(lr_df.Price - y_pred))"
   ]
  },
  {
   "cell_type": "code",
   "execution_count": 150,
   "id": "03a5e953-b981-457a-be00-c4a13357f25e",
   "metadata": {},
   "outputs": [
    {
     "data": {
      "text/plain": [
       "21723.661036944177"
      ]
     },
     "execution_count": 150,
     "metadata": {},
     "output_type": "execute_result"
    }
   ],
   "source": [
    "lr_model.mse_resid"
   ]
  },
  {
   "cell_type": "code",
   "execution_count": 151,
   "id": "508ee940-eca4-419a-8741-0c5545b67b58",
   "metadata": {},
   "outputs": [
    {
     "data": {
      "text/plain": [
       "147.38948753877997"
      ]
     },
     "execution_count": 151,
     "metadata": {},
     "output_type": "execute_result"
    }
   ],
   "source": [
    "# Residual Standard Error.\n",
    "np.sqrt(lr_model.mse_resid)"
   ]
  },
  {
   "cell_type": "code",
   "execution_count": 152,
   "id": "7289391b-2fb9-4fd5-9e84-bdd947e6b77a",
   "metadata": {},
   "outputs": [
    {
     "data": {
      "text/plain": [
       "0.6021905941590899"
      ]
     },
     "execution_count": 152,
     "metadata": {},
     "output_type": "execute_result"
    }
   ],
   "source": [
    "# Multiple R-squared with cross-validation.\n",
    "model = LinearRegression()\n",
    "cv_res = cross_val_score(model, X_train, y_train, cv=5)\n",
    "\n",
    "# Compute the mean.\n",
    "np.mean(cv_res)"
   ]
  },
  {
   "cell_type": "code",
   "execution_count": 153,
   "id": "cfda02d3-7184-4f6f-b4fa-433766dc0eb1",
   "metadata": {},
   "outputs": [
    {
     "data": {
      "image/png": "[encoded data removed]",
      "text/plain": [
       "<Figure size 360x432 with 1 Axes>"
      ]
     },
     "metadata": {
      "needs_background": "light"
     },
     "output_type": "display_data"
    }
   ],
   "source": [
    "# Actual vs. Predicted Value.\n",
    "plt.figure(figsize=(5, 6))\n",
    "\n",
    "ax = sns.distplot(y_test, hist=False, color=\"r\", label=\"Actual Value\")\n",
    "sns.distplot(y_pred, hist=False, color=\"b\", label=\"Predicted Values\", ax=ax)\n",
    "\n",
    "plt.title('Linear Regression Actual vs Predicted values')\n",
    "plt.legend()\n",
    "plt.show()"
   ]
  },
  {
   "cell_type": "markdown",
   "id": "aa036f04-a7f7-494f-9c8a-8d5bce4d5418",
   "metadata": {},
   "source": [
    "### Linear Regression Model 2"
   ]
  },
  {
   "cell_type": "code",
   "execution_count": 139,
   "id": "7fd78353-2791-402e-8561-6bd9c496cd62",
   "metadata": {},
   "outputs": [],
   "source": [
    "# Define X and y\n",
    "X = lr_df.drop(['Price', 'guests_included'], axis=1)\n",
    "\n",
    "# Add constant to predictor variables\n",
    "X = sm.add_constant(X)\n",
    "\n",
    "y = lr_df.Price\n",
    "\n",
    "# Split the data.\n",
    "X_train, X_test, y_train, y_test = train_test_split(X, y, test_size=0.25, random_state=12)"
   ]
  },
  {
   "cell_type": "code",
   "execution_count": 140,
   "id": "feab9d4f-a160-4bdd-a48c-fd4f55bcdc77",
   "metadata": {},
   "outputs": [],
   "source": [
    "# Scale the data.\n",
    "X_train = StandardScaler().fit_transform(X_train)\n",
    "X_test = StandardScaler().fit_transform(X_test)"
   ]
  },
  {
   "cell_type": "code",
   "execution_count": 141,
   "id": "730ec803-2541-4c1c-81cd-58a8348ee81b",
   "metadata": {},
   "outputs": [
    {
     "name": "stdout",
     "output_type": "stream",
     "text": [
      "                                 OLS Regression Results                                \n",
      "=======================================================================================\n",
      "Dep. Variable:                  Price   R-squared (uncentered):                   0.373\n",
      "Model:                            OLS   Adj. R-squared (uncentered):              0.373\n",
      "Method:                 Least Squares   F-statistic:                              1748.\n",
      "Date:                Sat, 06 Aug 2022   Prob (F-statistic):                        0.00\n",
      "Time:                        15:40:34   Log-Likelihood:                         -60686.\n",
      "No. Observations:                8804   AIC:                                  1.214e+05\n",
      "Df Residuals:                    8801   BIC:                                  1.214e+05\n",
      "Df Model:                           3                                                  \n",
      "Covariance Type:            nonrobust                                                  \n",
      "==============================================================================\n",
      "                 coef    std err          t      P>|t|      [0.025      0.975]\n",
      "------------------------------------------------------------------------------\n",
      "const               0          0        nan        nan           0           0\n",
      "x1            97.8023      3.849     25.411      0.000      90.258     105.347\n",
      "x2            72.1893      3.293     21.923      0.000      65.734      78.644\n",
      "x3            43.6923      3.309     13.204      0.000      37.206      50.179\n",
      "==============================================================================\n",
      "Omnibus:                    11552.463   Durbin-Watson:                   0.758\n",
      "Prob(Omnibus):                  0.000   Jarque-Bera (JB):          5436719.311\n",
      "Skew:                           7.026   Prob(JB):                         0.00\n",
      "Kurtosis:                     123.926   Cond. No.                          inf\n",
      "==============================================================================\n",
      "\n",
      "Notes:\n",
      "[1] R² is computed without centering (uncentered) since the model does not contain a constant.\n",
      "[2] Standard Errors assume that the covariance matrix of the errors is correctly specified.\n",
      "[3] The smallest eigenvalue is      0. This might indicate that there are\n",
      "strong multicollinearity problems or that the design matrix is singular.\n"
     ]
    }
   ],
   "source": [
    "lr = sm.OLS(y_train, X_train).fit()\n",
    "print(lr.summary())"
   ]
  },
  {
   "cell_type": "code",
   "execution_count": 143,
   "id": "afc9ec5e-229f-4585-bb50-b700c2c61da3",
   "metadata": {},
   "outputs": [
    {
     "data": {
      "text/plain": [
       "62396.99222240908"
      ]
     },
     "execution_count": 143,
     "metadata": {},
     "output_type": "execute_result"
    }
   ],
   "source": [
    "# Predictions.\n",
    "y_pred = lr.predict(X_test)\n",
    "MSE(y_test, y_pred)"
   ]
  },
  {
   "cell_type": "markdown",
   "id": "bea9e467-5e73-49ff-a6c3-075b4b660564",
   "metadata": {},
   "source": [
    "## Feature Selection"
   ]
  },
  {
   "cell_type": "code",
   "execution_count": 115,
   "id": "817f0467-ae94-4b0c-923d-5ba8483cc0fd",
   "metadata": {},
   "outputs": [],
   "source": [
    "X = encode_df.drop('Price', axis=1)\n",
    "y = encode_df.Price\n",
    "\n",
    "# Split the data.\n",
    "X_train, X_test, y_train, y_test = train_test_split(X, y, test_size=0.25, random_state=12)"
   ]
  },
  {
   "cell_type": "markdown",
   "id": "2e90547c-dcae-4c85-92eb-17ee9b805b99",
   "metadata": {},
   "source": [
    "### 1. Random Forest Regressor"
   ]
  },
  {
   "cell_type": "code",
   "execution_count": 66,
   "id": "5d6ccc69-7b87-40df-a1a4-e7ff4323c4e9",
   "metadata": {},
   "outputs": [
    {
     "data": {
      "text/html": [
       "<style>#sk-container-id-1 {color: black;background-color: white;}#sk-container-id-1 pre{padding: 0;}#sk-container-id-1 div.sk-toggleable {background-color: white;}#sk-container-id-1 label.sk-toggleable__label {cursor: pointer;display: block;width: 100%;margin-bottom: 0;padding: 0.3em;box-sizing: border-box;text-align: center;}#sk-container-id-1 label.sk-toggleable__label-arrow:before {content: \"▸\";float: left;margin-right: 0.25em;color: #696969;}#sk-container-id-1 label.sk-toggleable__label-arrow:hover:before {color: black;}#sk-container-id-1 div.sk-estimator:hover label.sk-toggleable__label-arrow:before {color: black;}#sk-container-id-1 div.sk-toggleable__content {max-height: 0;max-width: 0;overflow: hidden;text-align: left;background-color: #f0f8ff;}#sk-container-id-1 div.sk-toggleable__content pre {margin: 0.2em;color: black;border-radius: 0.25em;background-color: #f0f8ff;}#sk-container-id-1 input.sk-toggleable__control:checked~div.sk-toggleable__content {max-height: 200px;max-width: 100%;overflow: auto;}#sk-container-id-1 input.sk-toggleable__control:checked~label.sk-toggleable__label-arrow:before {content: \"▾\";}#sk-container-id-1 div.sk-estimator input.sk-toggleable__control:checked~label.sk-toggleable__label {background-color: #d4ebff;}#sk-container-id-1 div.sk-label input.sk-toggleable__control:checked~label.sk-toggleable__label {background-color: #d4ebff;}#sk-container-id-1 input.sk-hidden--visually {border: 0;clip: rect(1px 1px 1px 1px);clip: rect(1px, 1px, 1px, 1px);height: 1px;margin: -1px;overflow: hidden;padding: 0;position: absolute;width: 1px;}#sk-container-id-1 div.sk-estimator {font-family: monospace;background-color: #f0f8ff;border: 1px dotted black;border-radius: 0.25em;box-sizing: border-box;margin-bottom: 0.5em;}#sk-container-id-1 div.sk-estimator:hover {background-color: #d4ebff;}#sk-container-id-1 div.sk-parallel-item::after {content: \"\";width: 100%;border-bottom: 1px solid gray;flex-grow: 1;}#sk-container-id-1 div.sk-label:hover label.sk-toggleable__label {background-color: #d4ebff;}#sk-container-id-1 div.sk-serial::before {content: \"\";position: absolute;border-left: 1px solid gray;box-sizing: border-box;top: 0;bottom: 0;left: 50%;z-index: 0;}#sk-container-id-1 div.sk-serial {display: flex;flex-direction: column;align-items: center;background-color: white;padding-right: 0.2em;padding-left: 0.2em;position: relative;}#sk-container-id-1 div.sk-item {position: relative;z-index: 1;}#sk-container-id-1 div.sk-parallel {display: flex;align-items: stretch;justify-content: center;background-color: white;position: relative;}#sk-container-id-1 div.sk-item::before, #sk-container-id-1 div.sk-parallel-item::before {content: \"\";position: absolute;border-left: 1px solid gray;box-sizing: border-box;top: 0;bottom: 0;left: 50%;z-index: -1;}#sk-container-id-1 div.sk-parallel-item {display: flex;flex-direction: column;z-index: 1;position: relative;background-color: white;}#sk-container-id-1 div.sk-parallel-item:first-child::after {align-self: flex-end;width: 50%;}#sk-container-id-1 div.sk-parallel-item:last-child::after {align-self: flex-start;width: 50%;}#sk-container-id-1 div.sk-parallel-item:only-child::after {width: 0;}#sk-container-id-1 div.sk-dashed-wrapped {border: 1px dashed gray;margin: 0 0.4em 0.5em 0.4em;box-sizing: border-box;padding-bottom: 0.4em;background-color: white;}#sk-container-id-1 div.sk-label label {font-family: monospace;font-weight: bold;display: inline-block;line-height: 1.2em;}#sk-container-id-1 div.sk-label-container {text-align: center;}#sk-container-id-1 div.sk-container {/* jupyter's `normalize.less` sets `[hidden] { display: none; }` but bootstrap.min.css set `[hidden] { display: none !important; }` so we also need the `!important` here to be able to override the default hidden behavior on the sphinx rendered scikit-learn.org. See: https://github.com/scikit-learn/scikit-learn/issues/21755 */display: inline-block !important;position: relative;}#sk-container-id-1 div.sk-text-repr-fallback {display: none;}</style><div id=\"sk-container-id-1\" class=\"sk-top-container\"><div class=\"sk-text-repr-fallback\"><pre>RandomForestRegressor(min_samples_leaf=0.1, n_estimators=1000)</pre><b>In a Jupyter environment, please rerun this cell to show the HTML representation or trust the notebook. <br />On GitHub, the HTML representation is unable to render, please try loading this page with nbviewer.org.</b></div><div class=\"sk-container\" hidden><div class=\"sk-item\"><div class=\"sk-estimator sk-toggleable\"><input class=\"sk-toggleable__control sk-hidden--visually\" id=\"sk-estimator-id-1\" type=\"checkbox\" checked><label for=\"sk-estimator-id-1\" class=\"sk-toggleable__label sk-toggleable__label-arrow\">RandomForestRegressor</label><div class=\"sk-toggleable__content\"><pre>RandomForestRegressor(min_samples_leaf=0.1, n_estimators=1000)</pre></div></div></div></div></div>"
      ],
      "text/plain": [
       "RandomForestRegressor(min_samples_leaf=0.1, n_estimators=1000)"
      ]
     },
     "execution_count": 66,
     "metadata": {},
     "output_type": "execute_result"
    }
   ],
   "source": [
    "rf = RandomForestRegressor(n_estimators=1000, min_samples_leaf=0.1)\n",
    "rf.fit(X_train, y_train)"
   ]
  },
  {
   "cell_type": "code",
   "execution_count": 67,
   "id": "ccd8176d-7ff1-4c10-839e-781addb1eadb",
   "metadata": {},
   "outputs": [
    {
     "data": {
      "text/plain": [
       "0.3216313640958105"
      ]
     },
     "execution_count": 67,
     "metadata": {},
     "output_type": "execute_result"
    }
   ],
   "source": [
    "rf.score(X_train, y_train)"
   ]
  },
  {
   "cell_type": "code",
   "execution_count": 68,
   "id": "43ebe324-e909-48bc-b2ff-fd9e38d48a1d",
   "metadata": {},
   "outputs": [
    {
     "data": {
      "text/plain": [
       "0.2941453682838918"
      ]
     },
     "execution_count": 68,
     "metadata": {},
     "output_type": "execute_result"
    }
   ],
   "source": [
    "rf.score(X_test, y_test)"
   ]
  },
  {
   "cell_type": "code",
   "execution_count": 69,
   "id": "7a4ae117-05f0-4888-aad7-3637d9567036",
   "metadata": {},
   "outputs": [
    {
     "data": {
      "text/plain": [
       "40461.43771115184"
      ]
     },
     "execution_count": 69,
     "metadata": {},
     "output_type": "execute_result"
    }
   ],
   "source": [
    "# Testing Set Mean Squared Error.\n",
    "y_pred = rf.predict(X_test)\n",
    "MSE(y_test, y_pred)"
   ]
  },
  {
   "cell_type": "code",
   "execution_count": 70,
   "id": "8596302c-18f0-40b8-be21-9a08124d1497",
   "metadata": {},
   "outputs": [
    {
     "data": {
      "image/png": "[encoded data removed]",
      "text/plain": [
       "<Figure size 360x576 with 1 Axes>"
      ]
     },
     "metadata": {
      "needs_background": "light"
     },
     "output_type": "display_data"
    }
   ],
   "source": [
    "# Feature Importance.\n",
    "im_rf = pd.Series(rf.feature_importances_, index=X.columns)\n",
    "\n",
    "sort_im = im_rf.sort_values()\n",
    "plt.figure(figsize=(5,8))\n",
    "sort_im.plot(kind='barh')\n",
    "plt.show()"
   ]
  },
  {
   "cell_type": "markdown",
   "id": "838c8500-2662-4a6f-af3d-05423a07db4e",
   "metadata": {},
   "source": [
    "### 2. Lasso Regression"
   ]
  },
  {
   "cell_type": "code",
   "execution_count": 116,
   "id": "f268a6fc-fd93-4e9d-8006-0eabf44a65b1",
   "metadata": {},
   "outputs": [
    {
     "data": {
      "text/html": [
       "<style>#sk-container-id-11 {color: black;background-color: white;}#sk-container-id-11 pre{padding: 0;}#sk-container-id-11 div.sk-toggleable {background-color: white;}#sk-container-id-11 label.sk-toggleable__label {cursor: pointer;display: block;width: 100%;margin-bottom: 0;padding: 0.3em;box-sizing: border-box;text-align: center;}#sk-container-id-11 label.sk-toggleable__label-arrow:before {content: \"▸\";float: left;margin-right: 0.25em;color: #696969;}#sk-container-id-11 label.sk-toggleable__label-arrow:hover:before {color: black;}#sk-container-id-11 div.sk-estimator:hover label.sk-toggleable__label-arrow:before {color: black;}#sk-container-id-11 div.sk-toggleable__content {max-height: 0;max-width: 0;overflow: hidden;text-align: left;background-color: #f0f8ff;}#sk-container-id-11 div.sk-toggleable__content pre {margin: 0.2em;color: black;border-radius: 0.25em;background-color: #f0f8ff;}#sk-container-id-11 input.sk-toggleable__control:checked~div.sk-toggleable__content {max-height: 200px;max-width: 100%;overflow: auto;}#sk-container-id-11 input.sk-toggleable__control:checked~label.sk-toggleable__label-arrow:before {content: \"▾\";}#sk-container-id-11 div.sk-estimator input.sk-toggleable__control:checked~label.sk-toggleable__label {background-color: #d4ebff;}#sk-container-id-11 div.sk-label input.sk-toggleable__control:checked~label.sk-toggleable__label {background-color: #d4ebff;}#sk-container-id-11 input.sk-hidden--visually {border: 0;clip: rect(1px 1px 1px 1px);clip: rect(1px, 1px, 1px, 1px);height: 1px;margin: -1px;overflow: hidden;padding: 0;position: absolute;width: 1px;}#sk-container-id-11 div.sk-estimator {font-family: monospace;background-color: #f0f8ff;border: 1px dotted black;border-radius: 0.25em;box-sizing: border-box;margin-bottom: 0.5em;}#sk-container-id-11 div.sk-estimator:hover {background-color: #d4ebff;}#sk-container-id-11 div.sk-parallel-item::after {content: \"\";width: 100%;border-bottom: 1px solid gray;flex-grow: 1;}#sk-container-id-11 div.sk-label:hover label.sk-toggleable__label {background-color: #d4ebff;}#sk-container-id-11 div.sk-serial::before {content: \"\";position: absolute;border-left: 1px solid gray;box-sizing: border-box;top: 0;bottom: 0;left: 50%;z-index: 0;}#sk-container-id-11 div.sk-serial {display: flex;flex-direction: column;align-items: center;background-color: white;padding-right: 0.2em;padding-left: 0.2em;position: relative;}#sk-container-id-11 div.sk-item {position: relative;z-index: 1;}#sk-container-id-11 div.sk-parallel {display: flex;align-items: stretch;justify-content: center;background-color: white;position: relative;}#sk-container-id-11 div.sk-item::before, #sk-container-id-11 div.sk-parallel-item::before {content: \"\";position: absolute;border-left: 1px solid gray;box-sizing: border-box;top: 0;bottom: 0;left: 50%;z-index: -1;}#sk-container-id-11 div.sk-parallel-item {display: flex;flex-direction: column;z-index: 1;position: relative;background-color: white;}#sk-container-id-11 div.sk-parallel-item:first-child::after {align-self: flex-end;width: 50%;}#sk-container-id-11 div.sk-parallel-item:last-child::after {align-self: flex-start;width: 50%;}#sk-container-id-11 div.sk-parallel-item:only-child::after {width: 0;}#sk-container-id-11 div.sk-dashed-wrapped {border: 1px dashed gray;margin: 0 0.4em 0.5em 0.4em;box-sizing: border-box;padding-bottom: 0.4em;background-color: white;}#sk-container-id-11 div.sk-label label {font-family: monospace;font-weight: bold;display: inline-block;line-height: 1.2em;}#sk-container-id-11 div.sk-label-container {text-align: center;}#sk-container-id-11 div.sk-container {/* jupyter's `normalize.less` sets `[hidden] { display: none; }` but bootstrap.min.css set `[hidden] { display: none !important; }` so we also need the `!important` here to be able to override the default hidden behavior on the sphinx rendered scikit-learn.org. See: https://github.com/scikit-learn/scikit-learn/issues/21755 */display: inline-block !important;position: relative;}#sk-container-id-11 div.sk-text-repr-fallback {display: none;}</style><div id=\"sk-container-id-11\" class=\"sk-top-container\"><div class=\"sk-text-repr-fallback\"><pre>Lasso(alpha=0.05)</pre><b>In a Jupyter environment, please rerun this cell to show the HTML representation or trust the notebook. <br />On GitHub, the HTML representation is unable to render, please try loading this page with nbviewer.org.</b></div><div class=\"sk-container\" hidden><div class=\"sk-item\"><div class=\"sk-estimator sk-toggleable\"><input class=\"sk-toggleable__control sk-hidden--visually\" id=\"sk-estimator-id-22\" type=\"checkbox\" checked><label for=\"sk-estimator-id-22\" class=\"sk-toggleable__label sk-toggleable__label-arrow\">Lasso</label><div class=\"sk-toggleable__content\"><pre>Lasso(alpha=0.05)</pre></div></div></div></div></div>"
      ],
      "text/plain": [
       "Lasso(alpha=0.05)"
      ]
     },
     "execution_count": 116,
     "metadata": {},
     "output_type": "execute_result"
    }
   ],
   "source": [
    "lasso = Lasso(alpha=0.05)\n",
    "lasso.fit(X_train, y_train)"
   ]
  },
  {
   "cell_type": "code",
   "execution_count": 117,
   "id": "723cdae6-a187-469e-9d1b-3bbd24c10f77",
   "metadata": {},
   "outputs": [
    {
     "data": {
      "text/html": [
       "\n",
       "    <style>\n",
       "    table.eli5-weights tr:hover {\n",
       "        filter: brightness(85%);\n",
       "    }\n",
       "</style>\n",
       "\n",
       "\n",
       "\n",
       "    \n",
       "\n",
       "    \n",
       "\n",
       "    \n",
       "\n",
       "    \n",
       "\n",
       "    \n",
       "\n",
       "    \n",
       "\n",
       "\n",
       "    \n",
       "\n",
       "    \n",
       "\n",
       "    \n",
       "\n",
       "    \n",
       "        \n",
       "\n",
       "    \n",
       "\n",
       "        \n",
       "            \n",
       "                \n",
       "                \n",
       "    \n",
       "        <p style=\"margin-bottom: 0.5em; margin-top: 0em\">\n",
       "            <b>\n",
       "    \n",
       "        y\n",
       "    \n",
       "</b>\n",
       "\n",
       "top features\n",
       "        </p>\n",
       "    \n",
       "    <table class=\"eli5-weights\"\n",
       "           style=\"border-collapse: collapse; border: none; margin-top: 0em; table-layout: auto; margin-bottom: 2em;\">\n",
       "        <thead>\n",
       "        <tr style=\"border: none;\">\n",
       "            \n",
       "                <th style=\"padding: 0 1em 0 0.5em; text-align: right; border: none;\" title=\"Feature weights. Note that weights do not account for feature value scales, so if feature values have different scales, features with highest weights might not be the most important.\">\n",
       "                    Weight<sup>?</sup>\n",
       "                </th>\n",
       "            \n",
       "            <th style=\"padding: 0 0.5em 0 0.5em; text-align: left; border: none;\">Feature</th>\n",
       "            \n",
       "        </tr>\n",
       "        </thead>\n",
       "        <tbody>\n",
       "        \n",
       "            <tr style=\"background-color: hsl(120, 100.00%, 81.48%); border: none;\">\n",
       "    <td style=\"padding: 0 1em 0 0.5em; text-align: right; border: none;\">\n",
       "        +80.988\n",
       "    </td>\n",
       "    <td style=\"padding: 0 0.5em 0 0.5em; text-align: left; border: none;\">\n",
       "        bathrooms\n",
       "    </td>\n",
       "    \n",
       "</tr>\n",
       "        \n",
       "            <tr style=\"background-color: hsl(120, 100.00%, 89.35%); border: none;\">\n",
       "    <td style=\"padding: 0 1em 0 0.5em; text-align: right; border: none;\">\n",
       "        +36.753\n",
       "    </td>\n",
       "    <td style=\"padding: 0 0.5em 0 0.5em; text-align: left; border: none;\">\n",
       "        requires_license_t\n",
       "    </td>\n",
       "    \n",
       "</tr>\n",
       "        \n",
       "            <tr style=\"background-color: hsl(120, 100.00%, 95.53%); border: none;\">\n",
       "    <td style=\"padding: 0 1em 0 0.5em; text-align: right; border: none;\">\n",
       "        +10.624\n",
       "    </td>\n",
       "    <td style=\"padding: 0 0.5em 0 0.5em; text-align: left; border: none;\">\n",
       "        accommodates\n",
       "    </td>\n",
       "    \n",
       "</tr>\n",
       "        \n",
       "            <tr style=\"background-color: hsl(120, 100.00%, 96.26%); border: none;\">\n",
       "    <td style=\"padding: 0 1em 0 0.5em; text-align: right; border: none;\">\n",
       "        +8.238\n",
       "    </td>\n",
       "    <td style=\"padding: 0 0.5em 0 0.5em; text-align: left; border: none;\">\n",
       "        review_scores_location\n",
       "    </td>\n",
       "    \n",
       "</tr>\n",
       "        \n",
       "            <tr style=\"background-color: hsl(120, 100.00%, 97.87%); border: none;\">\n",
       "    <td style=\"padding: 0 1em 0 0.5em; text-align: right; border: none;\">\n",
       "        +3.675\n",
       "    </td>\n",
       "    <td style=\"padding: 0 0.5em 0 0.5em; text-align: left; border: none;\">\n",
       "        instant_bookable_t\n",
       "    </td>\n",
       "    \n",
       "</tr>\n",
       "        \n",
       "            <tr style=\"background-color: hsl(120, 100.00%, 98.69%); border: none;\">\n",
       "    <td style=\"padding: 0 1em 0 0.5em; text-align: right; border: none;\">\n",
       "        +1.835\n",
       "    </td>\n",
       "    <td style=\"padding: 0 0.5em 0 0.5em; text-align: left; border: none;\">\n",
       "        review_scores_rating\n",
       "    </td>\n",
       "    \n",
       "</tr>\n",
       "        \n",
       "            <tr style=\"background-color: hsl(120, 100.00%, 99.04%); border: none;\">\n",
       "    <td style=\"padding: 0 1em 0 0.5em; text-align: right; border: none;\">\n",
       "        +1.175\n",
       "    </td>\n",
       "    <td style=\"padding: 0 0.5em 0 0.5em; text-align: left; border: none;\">\n",
       "        Cleaning_fee\n",
       "    </td>\n",
       "    \n",
       "</tr>\n",
       "        \n",
       "            <tr style=\"background-color: hsl(120, 100.00%, 99.16%); border: none;\">\n",
       "    <td style=\"padding: 0 1em 0 0.5em; text-align: right; border: none;\">\n",
       "        +0.983\n",
       "    </td>\n",
       "    <td style=\"padding: 0 0.5em 0 0.5em; text-align: left; border: none;\">\n",
       "        host_identity_verified_t\n",
       "    </td>\n",
       "    \n",
       "</tr>\n",
       "        \n",
       "            <tr style=\"background-color: hsl(120, 100.00%, 99.46%); border: none;\">\n",
       "    <td style=\"padding: 0 1em 0 0.5em; text-align: right; border: none;\">\n",
       "        +0.517\n",
       "    </td>\n",
       "    <td style=\"padding: 0 0.5em 0 0.5em; text-align: left; border: none;\">\n",
       "        availability_60\n",
       "    </td>\n",
       "    \n",
       "</tr>\n",
       "        \n",
       "            <tr style=\"background-color: hsl(120, 100.00%, 99.56%); border: none;\">\n",
       "    <td style=\"padding: 0 1em 0 0.5em; text-align: right; border: none;\">\n",
       "        +0.383\n",
       "    </td>\n",
       "    <td style=\"padding: 0 0.5em 0 0.5em; text-align: left; border: none;\">\n",
       "        Property_type\n",
       "    </td>\n",
       "    \n",
       "</tr>\n",
       "        \n",
       "            <tr style=\"background-color: hsl(120, 100.00%, 99.57%); border: none;\">\n",
       "    <td style=\"padding: 0 1em 0 0.5em; text-align: right; border: none;\">\n",
       "        +0.381\n",
       "    </td>\n",
       "    <td style=\"padding: 0 0.5em 0 0.5em; text-align: left; border: none;\">\n",
       "        review_scores_accuracy\n",
       "    </td>\n",
       "    \n",
       "</tr>\n",
       "        \n",
       "            <tr style=\"background-color: hsl(120, 100.00%, 99.60%); border: none;\">\n",
       "    <td style=\"padding: 0 1em 0 0.5em; text-align: right; border: none;\">\n",
       "        +0.334\n",
       "    </td>\n",
       "    <td style=\"padding: 0 0.5em 0 0.5em; text-align: left; border: none;\">\n",
       "        availability_30\n",
       "    </td>\n",
       "    \n",
       "</tr>\n",
       "        \n",
       "            <tr style=\"background-color: hsl(120, 100.00%, 99.68%); border: none;\">\n",
       "    <td style=\"padding: 0 1em 0 0.5em; text-align: right; border: none;\">\n",
       "        +0.249\n",
       "    </td>\n",
       "    <td style=\"padding: 0 0.5em 0 0.5em; text-align: left; border: none;\">\n",
       "        Extra_people\n",
       "    </td>\n",
       "    \n",
       "</tr>\n",
       "        \n",
       "            <tr style=\"background-color: hsl(120, 100.00%, 99.76%); border: none;\">\n",
       "    <td style=\"padding: 0 1em 0 0.5em; text-align: right; border: none;\">\n",
       "        +0.166\n",
       "    </td>\n",
       "    <td style=\"padding: 0 0.5em 0 0.5em; text-align: left; border: none;\">\n",
       "        number_of_reviews\n",
       "    </td>\n",
       "    \n",
       "</tr>\n",
       "        \n",
       "            <tr style=\"background-color: hsl(120, 100.00%, 99.82%); border: none;\">\n",
       "    <td style=\"padding: 0 1em 0 0.5em; text-align: right; border: none;\">\n",
       "        +0.112\n",
       "    </td>\n",
       "    <td style=\"padding: 0 0.5em 0 0.5em; text-align: left; border: none;\">\n",
       "        Security_deposit\n",
       "    </td>\n",
       "    \n",
       "</tr>\n",
       "        \n",
       "            <tr style=\"background-color: hsl(120, 100.00%, 99.95%); border: none;\">\n",
       "    <td style=\"padding: 0 1em 0 0.5em; text-align: right; border: none;\">\n",
       "        +0.017\n",
       "    </td>\n",
       "    <td style=\"padding: 0 0.5em 0 0.5em; text-align: left; border: none;\">\n",
       "        availability_365\n",
       "    </td>\n",
       "    \n",
       "</tr>\n",
       "        \n",
       "        \n",
       "\n",
       "        \n",
       "        \n",
       "            <tr style=\"background-color: hsl(0, 100.00%, 100.00%); border: none;\">\n",
       "    <td style=\"padding: 0 1em 0 0.5em; text-align: right; border: none;\">\n",
       "        -0.000\n",
       "    </td>\n",
       "    <td style=\"padding: 0 0.5em 0 0.5em; text-align: left; border: none;\">\n",
       "        host_total_listings_count\n",
       "    </td>\n",
       "    \n",
       "</tr>\n",
       "        \n",
       "            <tr style=\"background-color: hsl(0, 100.00%, 100.00%); border: none;\">\n",
       "    <td style=\"padding: 0 1em 0 0.5em; text-align: right; border: none;\">\n",
       "        -0.000\n",
       "    </td>\n",
       "    <td style=\"padding: 0 0.5em 0 0.5em; text-align: left; border: none;\">\n",
       "        reviews_per_month\n",
       "    </td>\n",
       "    \n",
       "</tr>\n",
       "        \n",
       "            <tr style=\"background-color: hsl(0, 100.00%, 99.99%); border: none;\">\n",
       "    <td style=\"padding: 0 1em 0 0.5em; text-align: right; border: none;\">\n",
       "        -0.002\n",
       "    </td>\n",
       "    <td style=\"padding: 0 0.5em 0 0.5em; text-align: left; border: none;\">\n",
       "        maximum_nights\n",
       "    </td>\n",
       "    \n",
       "</tr>\n",
       "        \n",
       "            <tr style=\"background-color: hsl(0, 100.00%, 99.90%); border: none;\">\n",
       "    <td style=\"padding: 0 1em 0 0.5em; text-align: right; border: none;\">\n",
       "        -0.045\n",
       "    </td>\n",
       "    <td style=\"padding: 0 0.5em 0 0.5em; text-align: left; border: none;\">\n",
       "        host_listings_count\n",
       "    </td>\n",
       "    \n",
       "</tr>\n",
       "        \n",
       "            <tr style=\"background-color: hsl(0, 100.00%, 99.84%); border: none;\">\n",
       "    <td style=\"padding: 0 1em 0 0.5em; text-align: right; border: none;\">\n",
       "        -0.092\n",
       "    </td>\n",
       "    <td style=\"padding: 0 0.5em 0 0.5em; text-align: left; border: none;\">\n",
       "        Neighbourhood_cleansed\n",
       "    </td>\n",
       "    \n",
       "</tr>\n",
       "        \n",
       "            <tr style=\"background-color: hsl(0, 100.00%, 99.76%); border: none;\">\n",
       "    <td style=\"padding: 0 1em 0 0.5em; text-align: right; border: none;\">\n",
       "        -0.167\n",
       "    </td>\n",
       "    <td style=\"padding: 0 0.5em 0 0.5em; text-align: left; border: none;\">\n",
       "        availability_90\n",
       "    </td>\n",
       "    \n",
       "</tr>\n",
       "        \n",
       "            <tr style=\"background-color: hsl(0, 100.00%, 99.65%); border: none;\">\n",
       "    <td style=\"padding: 0 1em 0 0.5em; text-align: right; border: none;\">\n",
       "        -0.275\n",
       "    </td>\n",
       "    <td style=\"padding: 0 0.5em 0 0.5em; text-align: left; border: none;\">\n",
       "        review_scores_communication\n",
       "    </td>\n",
       "    \n",
       "</tr>\n",
       "        \n",
       "            <tr style=\"background-color: hsl(0, 100.00%, 98.71%); border: none;\">\n",
       "    <td style=\"padding: 0 1em 0 0.5em; text-align: right; border: none;\">\n",
       "        -1.797\n",
       "    </td>\n",
       "    <td style=\"padding: 0 0.5em 0 0.5em; text-align: left; border: none;\">\n",
       "        calculated_host_listings_count\n",
       "    </td>\n",
       "    \n",
       "</tr>\n",
       "        \n",
       "            <tr style=\"background-color: hsl(0, 100.00%, 98.67%); border: none;\">\n",
       "    <td style=\"padding: 0 1em 0 0.5em; text-align: right; border: none;\">\n",
       "        -1.885\n",
       "    </td>\n",
       "    <td style=\"padding: 0 0.5em 0 0.5em; text-align: left; border: none;\">\n",
       "        beds\n",
       "    </td>\n",
       "    \n",
       "</tr>\n",
       "        \n",
       "            <tr style=\"background-color: hsl(0, 100.00%, 98.44%); border: none;\">\n",
       "    <td style=\"padding: 0 1em 0 0.5em; text-align: right; border: none;\">\n",
       "        -2.356\n",
       "    </td>\n",
       "    <td style=\"padding: 0 0.5em 0 0.5em; text-align: left; border: none;\">\n",
       "        host_is_superhost_t\n",
       "    </td>\n",
       "    \n",
       "</tr>\n",
       "        \n",
       "            <tr style=\"background-color: hsl(0, 100.00%, 98.21%); border: none;\">\n",
       "    <td style=\"padding: 0 1em 0 0.5em; text-align: right; border: none;\">\n",
       "        -2.870\n",
       "    </td>\n",
       "    <td style=\"padding: 0 0.5em 0 0.5em; text-align: left; border: none;\">\n",
       "        minimum_nights\n",
       "    </td>\n",
       "    \n",
       "</tr>\n",
       "        \n",
       "            <tr style=\"background-color: hsl(0, 100.00%, 97.73%); border: none;\">\n",
       "    <td style=\"padding: 0 1em 0 0.5em; text-align: right; border: none;\">\n",
       "        -4.048\n",
       "    </td>\n",
       "    <td style=\"padding: 0 0.5em 0 0.5em; text-align: left; border: none;\">\n",
       "        review_scores_checkin\n",
       "    </td>\n",
       "    \n",
       "</tr>\n",
       "        \n",
       "            <tr style=\"background-color: hsl(0, 100.00%, 97.24%); border: none;\">\n",
       "    <td style=\"padding: 0 1em 0 0.5em; text-align: right; border: none;\">\n",
       "        -5.347\n",
       "    </td>\n",
       "    <td style=\"padding: 0 0.5em 0 0.5em; text-align: left; border: none;\">\n",
       "        require_guest_phone_verification_t\n",
       "    </td>\n",
       "    \n",
       "</tr>\n",
       "        \n",
       "            <tr style=\"background-color: hsl(0, 100.00%, 97.05%); border: none;\">\n",
       "    <td style=\"padding: 0 1em 0 0.5em; text-align: right; border: none;\">\n",
       "        -5.860\n",
       "    </td>\n",
       "    <td style=\"padding: 0 0.5em 0 0.5em; text-align: left; border: none;\">\n",
       "        Bed_type\n",
       "    </td>\n",
       "    \n",
       "</tr>\n",
       "        \n",
       "            <tr style=\"background-color: hsl(0, 100.00%, 96.90%); border: none;\">\n",
       "    <td style=\"padding: 0 1em 0 0.5em; text-align: right; border: none;\">\n",
       "        -6.289\n",
       "    </td>\n",
       "    <td style=\"padding: 0 0.5em 0 0.5em; text-align: left; border: none;\">\n",
       "        bedrooms\n",
       "    </td>\n",
       "    \n",
       "</tr>\n",
       "        \n",
       "            <tr style=\"background-color: hsl(0, 100.00%, 96.85%); border: none;\">\n",
       "    <td style=\"padding: 0 1em 0 0.5em; text-align: right; border: none;\">\n",
       "        -6.445\n",
       "    </td>\n",
       "    <td style=\"padding: 0 0.5em 0 0.5em; text-align: left; border: none;\">\n",
       "        require_guest_profile_picture_t\n",
       "    </td>\n",
       "    \n",
       "</tr>\n",
       "        \n",
       "            <tr style=\"background-color: hsl(0, 100.00%, 96.80%); border: none;\">\n",
       "    <td style=\"padding: 0 1em 0 0.5em; text-align: right; border: none;\">\n",
       "        -6.587\n",
       "    </td>\n",
       "    <td style=\"padding: 0 0.5em 0 0.5em; text-align: left; border: none;\">\n",
       "        guests_included\n",
       "    </td>\n",
       "    \n",
       "</tr>\n",
       "        \n",
       "            <tr style=\"background-color: hsl(0, 100.00%, 96.65%); border: none;\">\n",
       "    <td style=\"padding: 0 1em 0 0.5em; text-align: right; border: none;\">\n",
       "        -7.030\n",
       "    </td>\n",
       "    <td style=\"padding: 0 0.5em 0 0.5em; text-align: left; border: none;\">\n",
       "        is_location_exact_t\n",
       "    </td>\n",
       "    \n",
       "</tr>\n",
       "        \n",
       "            <tr style=\"background-color: hsl(0, 100.00%, 96.45%); border: none;\">\n",
       "    <td style=\"padding: 0 1em 0 0.5em; text-align: right; border: none;\">\n",
       "        -7.663\n",
       "    </td>\n",
       "    <td style=\"padding: 0 0.5em 0 0.5em; text-align: left; border: none;\">\n",
       "        Room_type\n",
       "    </td>\n",
       "    \n",
       "</tr>\n",
       "        \n",
       "            <tr style=\"background-color: hsl(0, 100.00%, 96.15%); border: none;\">\n",
       "    <td style=\"padding: 0 1em 0 0.5em; text-align: right; border: none;\">\n",
       "        -8.584\n",
       "    </td>\n",
       "    <td style=\"padding: 0 0.5em 0 0.5em; text-align: left; border: none;\">\n",
       "        Cancellation_policy\n",
       "    </td>\n",
       "    \n",
       "</tr>\n",
       "        \n",
       "            <tr style=\"background-color: hsl(0, 100.00%, 95.12%); border: none;\">\n",
       "    <td style=\"padding: 0 1em 0 0.5em; text-align: right; border: none;\">\n",
       "        -12.057\n",
       "    </td>\n",
       "    <td style=\"padding: 0 0.5em 0 0.5em; text-align: left; border: none;\">\n",
       "        review_scores_value\n",
       "    </td>\n",
       "    \n",
       "</tr>\n",
       "        \n",
       "            <tr style=\"background-color: hsl(0, 100.00%, 94.65%); border: none;\">\n",
       "    <td style=\"padding: 0 1em 0 0.5em; text-align: right; border: none;\">\n",
       "        -13.757\n",
       "    </td>\n",
       "    <td style=\"padding: 0 0.5em 0 0.5em; text-align: left; border: none;\">\n",
       "        host_response\n",
       "    </td>\n",
       "    \n",
       "</tr>\n",
       "        \n",
       "            <tr style=\"background-color: hsl(0, 100.00%, 86.98%); border: none;\">\n",
       "    <td style=\"padding: 0 1em 0 0.5em; text-align: right; border: none;\">\n",
       "        -48.969\n",
       "    </td>\n",
       "    <td style=\"padding: 0 0.5em 0 0.5em; text-align: left; border: none;\">\n",
       "        host_has_profile_pic_t\n",
       "    </td>\n",
       "    \n",
       "</tr>\n",
       "        \n",
       "            <tr style=\"background-color: hsl(0, 100.00%, 80.00%); border: none;\">\n",
       "    <td style=\"padding: 0 1em 0 0.5em; text-align: right; border: none;\">\n",
       "        -90.411\n",
       "    </td>\n",
       "    <td style=\"padding: 0 0.5em 0 0.5em; text-align: left; border: none;\">\n",
       "        &lt;BIAS&gt;\n",
       "    </td>\n",
       "    \n",
       "</tr>\n",
       "        \n",
       "\n",
       "        </tbody>\n",
       "    </table>\n",
       "\n",
       "            \n",
       "        \n",
       "\n",
       "        \n",
       "\n",
       "\n",
       "\n",
       "    \n",
       "\n",
       "    \n",
       "\n",
       "    \n",
       "\n",
       "    \n",
       "\n",
       "\n",
       "    \n",
       "\n",
       "    \n",
       "\n",
       "    \n",
       "\n",
       "    \n",
       "\n",
       "    \n",
       "\n",
       "    \n",
       "\n",
       "\n",
       "    \n",
       "\n",
       "    \n",
       "\n",
       "    \n",
       "\n",
       "    \n",
       "\n",
       "    \n",
       "\n",
       "    \n",
       "\n",
       "\n",
       "\n"
      ],
      "text/plain": [
       "<IPython.core.display.HTML object>"
      ]
     },
     "execution_count": 117,
     "metadata": {},
     "output_type": "execute_result"
    }
   ],
   "source": [
    "eli5.show_weights(lasso, top=-1, feature_names = X_train.columns.tolist())"
   ]
  },
  {
   "cell_type": "code",
   "execution_count": 118,
   "id": "096c69f1-ff9c-4373-86ef-011d5d0f8607",
   "metadata": {},
   "outputs": [
    {
     "data": {
      "image/png": "[encoded data removed]",
      "text/plain": [
       "<Figure size 1152x360 with 1 Axes>"
      ]
     },
     "metadata": {
      "needs_background": "light"
     },
     "output_type": "display_data"
    }
   ],
   "source": [
    "names = X.columns\n",
    "plt.plot(range(len(names)), lasso.coef_)\n",
    "plt.rcParams[\"figure.figsize\"] = (16, 5)\n",
    "plt.xticks(range(len(names)), names, rotation=60)\n",
    "plt.ylabel('Coefficients')\n",
    "plt.show()"
   ]
  },
  {
   "cell_type": "markdown",
   "id": "7773aa06-3ec8-48d1-aa8f-4207876cd161",
   "metadata": {},
   "source": [
    "## More models"
   ]
  },
  {
   "cell_type": "code",
   "execution_count": 121,
   "id": "864ab34a-950b-4d0c-b0a9-2eed8e563707",
   "metadata": {},
   "outputs": [
    {
     "data": {
      "text/html": [
       "<div>\n",
       "<style scoped>\n",
       "    .dataframe tbody tr th:only-of-type {\n",
       "        vertical-align: middle;\n",
       "    }\n",
       "\n",
       "    .dataframe tbody tr th {\n",
       "        vertical-align: top;\n",
       "    }\n",
       "\n",
       "    .dataframe thead th {\n",
       "        text-align: right;\n",
       "    }\n",
       "</style>\n",
       "<table border=\"1\" class=\"dataframe\">\n",
       "  <thead>\n",
       "    <tr style=\"text-align: right;\">\n",
       "      <th></th>\n",
       "      <th>Cleaning_fee</th>\n",
       "      <th>bedrooms</th>\n",
       "      <th>bathrooms</th>\n",
       "      <th>requires_license_t</th>\n",
       "      <th>Price</th>\n",
       "    </tr>\n",
       "  </thead>\n",
       "  <tbody>\n",
       "    <tr>\n",
       "      <th>10</th>\n",
       "      <td>20</td>\n",
       "      <td>1.0</td>\n",
       "      <td>1.0</td>\n",
       "      <td>0</td>\n",
       "      <td>120</td>\n",
       "    </tr>\n",
       "    <tr>\n",
       "      <th>12</th>\n",
       "      <td>20</td>\n",
       "      <td>1.0</td>\n",
       "      <td>0.0</td>\n",
       "      <td>0</td>\n",
       "      <td>50</td>\n",
       "    </tr>\n",
       "    <tr>\n",
       "      <th>15</th>\n",
       "      <td>25</td>\n",
       "      <td>1.0</td>\n",
       "      <td>1.5</td>\n",
       "      <td>0</td>\n",
       "      <td>55</td>\n",
       "    </tr>\n",
       "    <tr>\n",
       "      <th>19</th>\n",
       "      <td>75</td>\n",
       "      <td>1.0</td>\n",
       "      <td>1.0</td>\n",
       "      <td>0</td>\n",
       "      <td>75</td>\n",
       "    </tr>\n",
       "    <tr>\n",
       "      <th>20</th>\n",
       "      <td>25</td>\n",
       "      <td>1.0</td>\n",
       "      <td>2.0</td>\n",
       "      <td>0</td>\n",
       "      <td>59</td>\n",
       "    </tr>\n",
       "  </tbody>\n",
       "</table>\n",
       "</div>"
      ],
      "text/plain": [
       "    Cleaning_fee  bedrooms  bathrooms  requires_license_t  Price\n",
       "10            20       1.0        1.0                   0    120\n",
       "12            20       1.0        0.0                   0     50\n",
       "15            25       1.0        1.5                   0     55\n",
       "19            75       1.0        1.0                   0     75\n",
       "20            25       1.0        2.0                   0     59"
      ]
     },
     "execution_count": 121,
     "metadata": {},
     "output_type": "execute_result"
    }
   ],
   "source": [
    "# Selected columns.\n",
    "sel_df = encode_df[['Cleaning_fee', 'bedrooms', 'bathrooms', 'requires_license_t', 'Price']]\n",
    "sel_df.head()"
   ]
  },
  {
   "cell_type": "code",
   "execution_count": 122,
   "id": "277a879e-ba44-44c0-9bf8-25f0d42b5ee5",
   "metadata": {},
   "outputs": [],
   "source": [
    "X = sel_df.drop('Price', axis=1)\n",
    "y = sel_df.Price\n",
    "\n",
    "X_train, X_test, y_train, y_test = train_test_split(X, y, test_size=0.25, random_state=12)"
   ]
  },
  {
   "cell_type": "markdown",
   "id": "2512dc1d-832c-4d2b-bea1-282d00f47dc8",
   "metadata": {},
   "source": [
    "### 1. Ada Boost"
   ]
  },
  {
   "cell_type": "code",
   "execution_count": 76,
   "id": "3d36d0ca-8ca6-41d5-9ce4-da393cd5e863",
   "metadata": {},
   "outputs": [
    {
     "data": {
      "text/html": [
       "<style>#sk-container-id-3 {color: black;background-color: white;}#sk-container-id-3 pre{padding: 0;}#sk-container-id-3 div.sk-toggleable {background-color: white;}#sk-container-id-3 label.sk-toggleable__label {cursor: pointer;display: block;width: 100%;margin-bottom: 0;padding: 0.3em;box-sizing: border-box;text-align: center;}#sk-container-id-3 label.sk-toggleable__label-arrow:before {content: \"▸\";float: left;margin-right: 0.25em;color: #696969;}#sk-container-id-3 label.sk-toggleable__label-arrow:hover:before {color: black;}#sk-container-id-3 div.sk-estimator:hover label.sk-toggleable__label-arrow:before {color: black;}#sk-container-id-3 div.sk-toggleable__content {max-height: 0;max-width: 0;overflow: hidden;text-align: left;background-color: #f0f8ff;}#sk-container-id-3 div.sk-toggleable__content pre {margin: 0.2em;color: black;border-radius: 0.25em;background-color: #f0f8ff;}#sk-container-id-3 input.sk-toggleable__control:checked~div.sk-toggleable__content {max-height: 200px;max-width: 100%;overflow: auto;}#sk-container-id-3 input.sk-toggleable__control:checked~label.sk-toggleable__label-arrow:before {content: \"▾\";}#sk-container-id-3 div.sk-estimator input.sk-toggleable__control:checked~label.sk-toggleable__label {background-color: #d4ebff;}#sk-container-id-3 div.sk-label input.sk-toggleable__control:checked~label.sk-toggleable__label {background-color: #d4ebff;}#sk-container-id-3 input.sk-hidden--visually {border: 0;clip: rect(1px 1px 1px 1px);clip: rect(1px, 1px, 1px, 1px);height: 1px;margin: -1px;overflow: hidden;padding: 0;position: absolute;width: 1px;}#sk-container-id-3 div.sk-estimator {font-family: monospace;background-color: #f0f8ff;border: 1px dotted black;border-radius: 0.25em;box-sizing: border-box;margin-bottom: 0.5em;}#sk-container-id-3 div.sk-estimator:hover {background-color: #d4ebff;}#sk-container-id-3 div.sk-parallel-item::after {content: \"\";width: 100%;border-bottom: 1px solid gray;flex-grow: 1;}#sk-container-id-3 div.sk-label:hover label.sk-toggleable__label {background-color: #d4ebff;}#sk-container-id-3 div.sk-serial::before {content: \"\";position: absolute;border-left: 1px solid gray;box-sizing: border-box;top: 0;bottom: 0;left: 50%;z-index: 0;}#sk-container-id-3 div.sk-serial {display: flex;flex-direction: column;align-items: center;background-color: white;padding-right: 0.2em;padding-left: 0.2em;position: relative;}#sk-container-id-3 div.sk-item {position: relative;z-index: 1;}#sk-container-id-3 div.sk-parallel {display: flex;align-items: stretch;justify-content: center;background-color: white;position: relative;}#sk-container-id-3 div.sk-item::before, #sk-container-id-3 div.sk-parallel-item::before {content: \"\";position: absolute;border-left: 1px solid gray;box-sizing: border-box;top: 0;bottom: 0;left: 50%;z-index: -1;}#sk-container-id-3 div.sk-parallel-item {display: flex;flex-direction: column;z-index: 1;position: relative;background-color: white;}#sk-container-id-3 div.sk-parallel-item:first-child::after {align-self: flex-end;width: 50%;}#sk-container-id-3 div.sk-parallel-item:last-child::after {align-self: flex-start;width: 50%;}#sk-container-id-3 div.sk-parallel-item:only-child::after {width: 0;}#sk-container-id-3 div.sk-dashed-wrapped {border: 1px dashed gray;margin: 0 0.4em 0.5em 0.4em;box-sizing: border-box;padding-bottom: 0.4em;background-color: white;}#sk-container-id-3 div.sk-label label {font-family: monospace;font-weight: bold;display: inline-block;line-height: 1.2em;}#sk-container-id-3 div.sk-label-container {text-align: center;}#sk-container-id-3 div.sk-container {/* jupyter's `normalize.less` sets `[hidden] { display: none; }` but bootstrap.min.css set `[hidden] { display: none !important; }` so we also need the `!important` here to be able to override the default hidden behavior on the sphinx rendered scikit-learn.org. See: https://github.com/scikit-learn/scikit-learn/issues/21755 */display: inline-block !important;position: relative;}#sk-container-id-3 div.sk-text-repr-fallback {display: none;}</style><div id=\"sk-container-id-3\" class=\"sk-top-container\"><div class=\"sk-text-repr-fallback\"><pre>AdaBoostRegressor(base_estimator=RandomForestRegressor(), n_estimators=600)</pre><b>In a Jupyter environment, please rerun this cell to show the HTML representation or trust the notebook. <br />On GitHub, the HTML representation is unable to render, please try loading this page with nbviewer.org.</b></div><div class=\"sk-container\" hidden><div class=\"sk-item sk-dashed-wrapped\"><div class=\"sk-label-container\"><div class=\"sk-label sk-toggleable\"><input class=\"sk-toggleable__control sk-hidden--visually\" id=\"sk-estimator-id-3\" type=\"checkbox\" ><label for=\"sk-estimator-id-3\" class=\"sk-toggleable__label sk-toggleable__label-arrow\">AdaBoostRegressor</label><div class=\"sk-toggleable__content\"><pre>AdaBoostRegressor(base_estimator=RandomForestRegressor(), n_estimators=600)</pre></div></div></div><div class=\"sk-parallel\"><div class=\"sk-parallel-item\"><div class=\"sk-item\"><div class=\"sk-label-container\"><div class=\"sk-label sk-toggleable\"><input class=\"sk-toggleable__control sk-hidden--visually\" id=\"sk-estimator-id-4\" type=\"checkbox\" ><label for=\"sk-estimator-id-4\" class=\"sk-toggleable__label sk-toggleable__label-arrow\">base_estimator: RandomForestRegressor</label><div class=\"sk-toggleable__content\"><pre>RandomForestRegressor()</pre></div></div></div><div class=\"sk-serial\"><div class=\"sk-item\"><div class=\"sk-estimator sk-toggleable\"><input class=\"sk-toggleable__control sk-hidden--visually\" id=\"sk-estimator-id-5\" type=\"checkbox\" ><label for=\"sk-estimator-id-5\" class=\"sk-toggleable__label sk-toggleable__label-arrow\">RandomForestRegressor</label><div class=\"sk-toggleable__content\"><pre>RandomForestRegressor()</pre></div></div></div></div></div></div></div></div></div></div>"
      ],
      "text/plain": [
       "AdaBoostRegressor(base_estimator=RandomForestRegressor(), n_estimators=600)"
      ]
     },
     "execution_count": 76,
     "metadata": {},
     "output_type": "execute_result"
    }
   ],
   "source": [
    "rf = RandomForestRegressor()\n",
    "\n",
    "ada = AdaBoostRegressor(base_estimator=rf, n_estimators=600)\n",
    "ada.fit(X_train, y_train)"
   ]
  },
  {
   "cell_type": "code",
   "execution_count": 77,
   "id": "c34999ad-9408-4814-a1f9-84fd26022b9c",
   "metadata": {},
   "outputs": [
    {
     "data": {
      "text/plain": [
       "0.8141029195251646"
      ]
     },
     "execution_count": 77,
     "metadata": {},
     "output_type": "execute_result"
    }
   ],
   "source": [
    "ada.score(X_train, y_train)"
   ]
  },
  {
   "cell_type": "code",
   "execution_count": 78,
   "id": "e0ece7f5-c4a3-43b0-8845-3ee94ed3d480",
   "metadata": {},
   "outputs": [
    {
     "data": {
      "text/plain": [
       "0.4134121042368719"
      ]
     },
     "execution_count": 78,
     "metadata": {},
     "output_type": "execute_result"
    }
   ],
   "source": [
    "ada.score(X_test, y_test)"
   ]
  },
  {
   "cell_type": "code",
   "execution_count": 80,
   "id": "a50f4043-a1e6-4d23-9f90-6089f78ec88e",
   "metadata": {},
   "outputs": [
    {
     "data": {
      "text/plain": [
       "33624.755778440835"
      ]
     },
     "execution_count": 80,
     "metadata": {},
     "output_type": "execute_result"
    }
   ],
   "source": [
    "# Mean Squared Error.\n",
    "y_pred = ada.predict(X_test)\n",
    "MSE(y_test, y_pred)"
   ]
  },
  {
   "cell_type": "markdown",
   "id": "707919cf-b261-4838-b754-9fd3a50efcc7",
   "metadata": {},
   "source": [
    "### 2. Gradient Boost"
   ]
  },
  {
   "cell_type": "code",
   "execution_count": 81,
   "id": "3dc274e2-bed0-4552-a319-8506bf62e05a",
   "metadata": {},
   "outputs": [
    {
     "data": {
      "text/html": [
       "<style>#sk-container-id-4 {color: black;background-color: white;}#sk-container-id-4 pre{padding: 0;}#sk-container-id-4 div.sk-toggleable {background-color: white;}#sk-container-id-4 label.sk-toggleable__label {cursor: pointer;display: block;width: 100%;margin-bottom: 0;padding: 0.3em;box-sizing: border-box;text-align: center;}#sk-container-id-4 label.sk-toggleable__label-arrow:before {content: \"▸\";float: left;margin-right: 0.25em;color: #696969;}#sk-container-id-4 label.sk-toggleable__label-arrow:hover:before {color: black;}#sk-container-id-4 div.sk-estimator:hover label.sk-toggleable__label-arrow:before {color: black;}#sk-container-id-4 div.sk-toggleable__content {max-height: 0;max-width: 0;overflow: hidden;text-align: left;background-color: #f0f8ff;}#sk-container-id-4 div.sk-toggleable__content pre {margin: 0.2em;color: black;border-radius: 0.25em;background-color: #f0f8ff;}#sk-container-id-4 input.sk-toggleable__control:checked~div.sk-toggleable__content {max-height: 200px;max-width: 100%;overflow: auto;}#sk-container-id-4 input.sk-toggleable__control:checked~label.sk-toggleable__label-arrow:before {content: \"▾\";}#sk-container-id-4 div.sk-estimator input.sk-toggleable__control:checked~label.sk-toggleable__label {background-color: #d4ebff;}#sk-container-id-4 div.sk-label input.sk-toggleable__control:checked~label.sk-toggleable__label {background-color: #d4ebff;}#sk-container-id-4 input.sk-hidden--visually {border: 0;clip: rect(1px 1px 1px 1px);clip: rect(1px, 1px, 1px, 1px);height: 1px;margin: -1px;overflow: hidden;padding: 0;position: absolute;width: 1px;}#sk-container-id-4 div.sk-estimator {font-family: monospace;background-color: #f0f8ff;border: 1px dotted black;border-radius: 0.25em;box-sizing: border-box;margin-bottom: 0.5em;}#sk-container-id-4 div.sk-estimator:hover {background-color: #d4ebff;}#sk-container-id-4 div.sk-parallel-item::after {content: \"\";width: 100%;border-bottom: 1px solid gray;flex-grow: 1;}#sk-container-id-4 div.sk-label:hover label.sk-toggleable__label {background-color: #d4ebff;}#sk-container-id-4 div.sk-serial::before {content: \"\";position: absolute;border-left: 1px solid gray;box-sizing: border-box;top: 0;bottom: 0;left: 50%;z-index: 0;}#sk-container-id-4 div.sk-serial {display: flex;flex-direction: column;align-items: center;background-color: white;padding-right: 0.2em;padding-left: 0.2em;position: relative;}#sk-container-id-4 div.sk-item {position: relative;z-index: 1;}#sk-container-id-4 div.sk-parallel {display: flex;align-items: stretch;justify-content: center;background-color: white;position: relative;}#sk-container-id-4 div.sk-item::before, #sk-container-id-4 div.sk-parallel-item::before {content: \"\";position: absolute;border-left: 1px solid gray;box-sizing: border-box;top: 0;bottom: 0;left: 50%;z-index: -1;}#sk-container-id-4 div.sk-parallel-item {display: flex;flex-direction: column;z-index: 1;position: relative;background-color: white;}#sk-container-id-4 div.sk-parallel-item:first-child::after {align-self: flex-end;width: 50%;}#sk-container-id-4 div.sk-parallel-item:last-child::after {align-self: flex-start;width: 50%;}#sk-container-id-4 div.sk-parallel-item:only-child::after {width: 0;}#sk-container-id-4 div.sk-dashed-wrapped {border: 1px dashed gray;margin: 0 0.4em 0.5em 0.4em;box-sizing: border-box;padding-bottom: 0.4em;background-color: white;}#sk-container-id-4 div.sk-label label {font-family: monospace;font-weight: bold;display: inline-block;line-height: 1.2em;}#sk-container-id-4 div.sk-label-container {text-align: center;}#sk-container-id-4 div.sk-container {/* jupyter's `normalize.less` sets `[hidden] { display: none; }` but bootstrap.min.css set `[hidden] { display: none !important; }` so we also need the `!important` here to be able to override the default hidden behavior on the sphinx rendered scikit-learn.org. See: https://github.com/scikit-learn/scikit-learn/issues/21755 */display: inline-block !important;position: relative;}#sk-container-id-4 div.sk-text-repr-fallback {display: none;}</style><div id=\"sk-container-id-4\" class=\"sk-top-container\"><div class=\"sk-text-repr-fallback\"><pre>GradientBoostingRegressor(n_estimators=600)</pre><b>In a Jupyter environment, please rerun this cell to show the HTML representation or trust the notebook. <br />On GitHub, the HTML representation is unable to render, please try loading this page with nbviewer.org.</b></div><div class=\"sk-container\" hidden><div class=\"sk-item\"><div class=\"sk-estimator sk-toggleable\"><input class=\"sk-toggleable__control sk-hidden--visually\" id=\"sk-estimator-id-6\" type=\"checkbox\" checked><label for=\"sk-estimator-id-6\" class=\"sk-toggleable__label sk-toggleable__label-arrow\">GradientBoostingRegressor</label><div class=\"sk-toggleable__content\"><pre>GradientBoostingRegressor(n_estimators=600)</pre></div></div></div></div></div>"
      ],
      "text/plain": [
       "GradientBoostingRegressor(n_estimators=600)"
      ]
     },
     "execution_count": 81,
     "metadata": {},
     "output_type": "execute_result"
    }
   ],
   "source": [
    "gb = GradientBoostingRegressor(n_estimators=600, max_depth=3)\n",
    "gb.fit(X_train, y_train)"
   ]
  },
  {
   "cell_type": "code",
   "execution_count": 82,
   "id": "3ce591ec-415f-4ea8-a2d7-2a8c7ee1af63",
   "metadata": {},
   "outputs": [
    {
     "data": {
      "text/plain": [
       "0.8262573092927425"
      ]
     },
     "execution_count": 82,
     "metadata": {},
     "output_type": "execute_result"
    }
   ],
   "source": [
    "gb.score(X_train, y_train)"
   ]
  },
  {
   "cell_type": "code",
   "execution_count": 83,
   "id": "b9ab391a-6712-46c4-81e7-64874159eb5c",
   "metadata": {},
   "outputs": [
    {
     "data": {
      "text/plain": [
       "0.4638953071596942"
      ]
     },
     "execution_count": 83,
     "metadata": {},
     "output_type": "execute_result"
    }
   ],
   "source": [
    "gb.score(X_test, y_test)"
   ]
  },
  {
   "cell_type": "code",
   "execution_count": 84,
   "id": "8c1a87da-e631-4fc2-b9ff-eb4ae8bf518f",
   "metadata": {},
   "outputs": [
    {
     "data": {
      "text/plain": [
       "30730.92625782823"
      ]
     },
     "execution_count": 84,
     "metadata": {},
     "output_type": "execute_result"
    }
   ],
   "source": [
    "# Mean Squared Error.\n",
    "y_pred = gb.predict(X_test)\n",
    "MSE(y_test, y_pred)"
   ]
  },
  {
   "cell_type": "markdown",
   "id": "e14431e7-25bb-4413-b803-5c90d7a63314",
   "metadata": {},
   "source": [
    "### 3. Random Forest CV"
   ]
  },
  {
   "cell_type": "code",
   "execution_count": 123,
   "id": "6c83d895-9fa5-4273-9308-d8a09e9ab0bf",
   "metadata": {},
   "outputs": [
    {
     "name": "stdout",
     "output_type": "stream",
     "text": [
      "Fitting 10 folds for each of 10 candidates, totalling 100 fits\n"
     ]
    },
    {
     "data": {
      "text/html": [
       "<style>#sk-container-id-13 {color: black;background-color: white;}#sk-container-id-13 pre{padding: 0;}#sk-container-id-13 div.sk-toggleable {background-color: white;}#sk-container-id-13 label.sk-toggleable__label {cursor: pointer;display: block;width: 100%;margin-bottom: 0;padding: 0.3em;box-sizing: border-box;text-align: center;}#sk-container-id-13 label.sk-toggleable__label-arrow:before {content: \"▸\";float: left;margin-right: 0.25em;color: #696969;}#sk-container-id-13 label.sk-toggleable__label-arrow:hover:before {color: black;}#sk-container-id-13 div.sk-estimator:hover label.sk-toggleable__label-arrow:before {color: black;}#sk-container-id-13 div.sk-toggleable__content {max-height: 0;max-width: 0;overflow: hidden;text-align: left;background-color: #f0f8ff;}#sk-container-id-13 div.sk-toggleable__content pre {margin: 0.2em;color: black;border-radius: 0.25em;background-color: #f0f8ff;}#sk-container-id-13 input.sk-toggleable__control:checked~div.sk-toggleable__content {max-height: 200px;max-width: 100%;overflow: auto;}#sk-container-id-13 input.sk-toggleable__control:checked~label.sk-toggleable__label-arrow:before {content: \"▾\";}#sk-container-id-13 div.sk-estimator input.sk-toggleable__control:checked~label.sk-toggleable__label {background-color: #d4ebff;}#sk-container-id-13 div.sk-label input.sk-toggleable__control:checked~label.sk-toggleable__label {background-color: #d4ebff;}#sk-container-id-13 input.sk-hidden--visually {border: 0;clip: rect(1px 1px 1px 1px);clip: rect(1px, 1px, 1px, 1px);height: 1px;margin: -1px;overflow: hidden;padding: 0;position: absolute;width: 1px;}#sk-container-id-13 div.sk-estimator {font-family: monospace;background-color: #f0f8ff;border: 1px dotted black;border-radius: 0.25em;box-sizing: border-box;margin-bottom: 0.5em;}#sk-container-id-13 div.sk-estimator:hover {background-color: #d4ebff;}#sk-container-id-13 div.sk-parallel-item::after {content: \"\";width: 100%;border-bottom: 1px solid gray;flex-grow: 1;}#sk-container-id-13 div.sk-label:hover label.sk-toggleable__label {background-color: #d4ebff;}#sk-container-id-13 div.sk-serial::before {content: \"\";position: absolute;border-left: 1px solid gray;box-sizing: border-box;top: 0;bottom: 0;left: 50%;z-index: 0;}#sk-container-id-13 div.sk-serial {display: flex;flex-direction: column;align-items: center;background-color: white;padding-right: 0.2em;padding-left: 0.2em;position: relative;}#sk-container-id-13 div.sk-item {position: relative;z-index: 1;}#sk-container-id-13 div.sk-parallel {display: flex;align-items: stretch;justify-content: center;background-color: white;position: relative;}#sk-container-id-13 div.sk-item::before, #sk-container-id-13 div.sk-parallel-item::before {content: \"\";position: absolute;border-left: 1px solid gray;box-sizing: border-box;top: 0;bottom: 0;left: 50%;z-index: -1;}#sk-container-id-13 div.sk-parallel-item {display: flex;flex-direction: column;z-index: 1;position: relative;background-color: white;}#sk-container-id-13 div.sk-parallel-item:first-child::after {align-self: flex-end;width: 50%;}#sk-container-id-13 div.sk-parallel-item:last-child::after {align-self: flex-start;width: 50%;}#sk-container-id-13 div.sk-parallel-item:only-child::after {width: 0;}#sk-container-id-13 div.sk-dashed-wrapped {border: 1px dashed gray;margin: 0 0.4em 0.5em 0.4em;box-sizing: border-box;padding-bottom: 0.4em;background-color: white;}#sk-container-id-13 div.sk-label label {font-family: monospace;font-weight: bold;display: inline-block;line-height: 1.2em;}#sk-container-id-13 div.sk-label-container {text-align: center;}#sk-container-id-13 div.sk-container {/* jupyter's `normalize.less` sets `[hidden] { display: none; }` but bootstrap.min.css set `[hidden] { display: none !important; }` so we also need the `!important` here to be able to override the default hidden behavior on the sphinx rendered scikit-learn.org. See: https://github.com/scikit-learn/scikit-learn/issues/21755 */display: inline-block !important;position: relative;}#sk-container-id-13 div.sk-text-repr-fallback {display: none;}</style><div id=\"sk-container-id-13\" class=\"sk-top-container\"><div class=\"sk-text-repr-fallback\"><pre>RandomizedSearchCV(cv=10, estimator=RandomForestRegressor(), n_jobs=-1,\n",
       "                   param_distributions={&#x27;max_depth&#x27;: array([2, 3, 4, 5, 6, 7, 8, 9]),\n",
       "                                        &#x27;max_features&#x27;: [&#x27;log2&#x27;, &#x27;sqrt&#x27;],\n",
       "                                        &#x27;min_samples_leaf&#x27;: [0.1, 0.2, 0.3],\n",
       "                                        &#x27;n_estimators&#x27;: array([100, 200, 300, 400, 500, 600, 700, 800, 900])},\n",
       "                   verbose=1)</pre><b>In a Jupyter environment, please rerun this cell to show the HTML representation or trust the notebook. <br />On GitHub, the HTML representation is unable to render, please try loading this page with nbviewer.org.</b></div><div class=\"sk-container\" hidden><div class=\"sk-item sk-dashed-wrapped\"><div class=\"sk-label-container\"><div class=\"sk-label sk-toggleable\"><input class=\"sk-toggleable__control sk-hidden--visually\" id=\"sk-estimator-id-26\" type=\"checkbox\" ><label for=\"sk-estimator-id-26\" class=\"sk-toggleable__label sk-toggleable__label-arrow\">RandomizedSearchCV</label><div class=\"sk-toggleable__content\"><pre>RandomizedSearchCV(cv=10, estimator=RandomForestRegressor(), n_jobs=-1,\n",
       "                   param_distributions={&#x27;max_depth&#x27;: array([2, 3, 4, 5, 6, 7, 8, 9]),\n",
       "                                        &#x27;max_features&#x27;: [&#x27;log2&#x27;, &#x27;sqrt&#x27;],\n",
       "                                        &#x27;min_samples_leaf&#x27;: [0.1, 0.2, 0.3],\n",
       "                                        &#x27;n_estimators&#x27;: array([100, 200, 300, 400, 500, 600, 700, 800, 900])},\n",
       "                   verbose=1)</pre></div></div></div><div class=\"sk-parallel\"><div class=\"sk-parallel-item\"><div class=\"sk-item\"><div class=\"sk-label-container\"><div class=\"sk-label sk-toggleable\"><input class=\"sk-toggleable__control sk-hidden--visually\" id=\"sk-estimator-id-27\" type=\"checkbox\" ><label for=\"sk-estimator-id-27\" class=\"sk-toggleable__label sk-toggleable__label-arrow\">estimator: RandomForestRegressor</label><div class=\"sk-toggleable__content\"><pre>RandomForestRegressor()</pre></div></div></div><div class=\"sk-serial\"><div class=\"sk-item\"><div class=\"sk-estimator sk-toggleable\"><input class=\"sk-toggleable__control sk-hidden--visually\" id=\"sk-estimator-id-28\" type=\"checkbox\" ><label for=\"sk-estimator-id-28\" class=\"sk-toggleable__label sk-toggleable__label-arrow\">RandomForestRegressor</label><div class=\"sk-toggleable__content\"><pre>RandomForestRegressor()</pre></div></div></div></div></div></div></div></div></div></div>"
      ],
      "text/plain": [
       "RandomizedSearchCV(cv=10, estimator=RandomForestRegressor(), n_jobs=-1,\n",
       "                   param_distributions={'max_depth': array([2, 3, 4, 5, 6, 7, 8, 9]),\n",
       "                                        'max_features': ['log2', 'sqrt'],\n",
       "                                        'min_samples_leaf': [0.1, 0.2, 0.3],\n",
       "                                        'n_estimators': array([100, 200, 300, 400, 500, 600, 700, 800, 900])},\n",
       "                   verbose=1)"
      ]
     },
     "execution_count": 123,
     "metadata": {},
     "output_type": "execute_result"
    }
   ],
   "source": [
    "grid = {'n_estimators': np.arange(100, 1000, 100), \n",
    "        'max_depth': np.arange(2, 10),\n",
    "        'min_samples_leaf': [0.1, 0.2, 0.3],\n",
    "        'max_features': ['log2', 'sqrt']}\n",
    "\n",
    "rf = RandomForestRegressor()\n",
    "rf_cv = RandomizedSearchCV(rf, grid, cv=10, verbose=1, n_jobs=-1)\n",
    "rf_cv.fit(X_train, y_train)"
   ]
  },
  {
   "cell_type": "code",
   "execution_count": 124,
   "id": "ea82dacd-c0a3-4f50-b970-a32ef40e0806",
   "metadata": {},
   "outputs": [
    {
     "data": {
      "text/plain": [
       "0.34482257899333224"
      ]
     },
     "execution_count": 124,
     "metadata": {},
     "output_type": "execute_result"
    }
   ],
   "source": [
    "rf_cv.best_score_"
   ]
  },
  {
   "cell_type": "code",
   "execution_count": 125,
   "id": "08ebc736-22b1-4c45-897a-f9d72fa02c6d",
   "metadata": {},
   "outputs": [
    {
     "data": {
      "text/plain": [
       "0.30899604792694246"
      ]
     },
     "execution_count": 125,
     "metadata": {},
     "output_type": "execute_result"
    }
   ],
   "source": [
    "rf_cv.score(X_test, y_test)"
   ]
  },
  {
   "cell_type": "code",
   "execution_count": 126,
   "id": "6f71968c-5282-4138-a244-3ee87748e4ab",
   "metadata": {},
   "outputs": [
    {
     "data": {
      "text/plain": [
       "39610.15782667382"
      ]
     },
     "execution_count": 126,
     "metadata": {},
     "output_type": "execute_result"
    }
   ],
   "source": [
    "# Mean Squared Error.\n",
    "y_pred = rf_cv.predict(X_test)\n",
    "MSE(y_test, y_pred)"
   ]
  },
  {
   "cell_type": "code",
   "execution_count": 127,
   "id": "1d972617-8139-400d-b4d6-cada3a578651",
   "metadata": {},
   "outputs": [
    {
     "data": {
      "text/plain": [
       "199.02300828465494"
      ]
     },
     "execution_count": 127,
     "metadata": {},
     "output_type": "execute_result"
    }
   ],
   "source": [
    "# rmse.\n",
    "np.sqrt(MSE(y_test, y_pred))"
   ]
  },
  {
   "cell_type": "markdown",
   "id": "10d5156d-8dc9-4736-903a-cef42c93ce7f",
   "metadata": {},
   "source": [
    "### 4. Ridge CV"
   ]
  },
  {
   "cell_type": "code",
   "execution_count": 89,
   "id": "706cc389-5710-4dfb-80e0-1f5aa9296058",
   "metadata": {},
   "outputs": [
    {
     "name": "stdout",
     "output_type": "stream",
     "text": [
      "Fitting 10 folds for each of 10 candidates, totalling 100 fits\n"
     ]
    },
    {
     "data": {
      "text/html": [
       "<style>#sk-container-id-6 {color: black;background-color: white;}#sk-container-id-6 pre{padding: 0;}#sk-container-id-6 div.sk-toggleable {background-color: white;}#sk-container-id-6 label.sk-toggleable__label {cursor: pointer;display: block;width: 100%;margin-bottom: 0;padding: 0.3em;box-sizing: border-box;text-align: center;}#sk-container-id-6 label.sk-toggleable__label-arrow:before {content: \"▸\";float: left;margin-right: 0.25em;color: #696969;}#sk-container-id-6 label.sk-toggleable__label-arrow:hover:before {color: black;}#sk-container-id-6 div.sk-estimator:hover label.sk-toggleable__label-arrow:before {color: black;}#sk-container-id-6 div.sk-toggleable__content {max-height: 0;max-width: 0;overflow: hidden;text-align: left;background-color: #f0f8ff;}#sk-container-id-6 div.sk-toggleable__content pre {margin: 0.2em;color: black;border-radius: 0.25em;background-color: #f0f8ff;}#sk-container-id-6 input.sk-toggleable__control:checked~div.sk-toggleable__content {max-height: 200px;max-width: 100%;overflow: auto;}#sk-container-id-6 input.sk-toggleable__control:checked~label.sk-toggleable__label-arrow:before {content: \"▾\";}#sk-container-id-6 div.sk-estimator input.sk-toggleable__control:checked~label.sk-toggleable__label {background-color: #d4ebff;}#sk-container-id-6 div.sk-label input.sk-toggleable__control:checked~label.sk-toggleable__label {background-color: #d4ebff;}#sk-container-id-6 input.sk-hidden--visually {border: 0;clip: rect(1px 1px 1px 1px);clip: rect(1px, 1px, 1px, 1px);height: 1px;margin: -1px;overflow: hidden;padding: 0;position: absolute;width: 1px;}#sk-container-id-6 div.sk-estimator {font-family: monospace;background-color: #f0f8ff;border: 1px dotted black;border-radius: 0.25em;box-sizing: border-box;margin-bottom: 0.5em;}#sk-container-id-6 div.sk-estimator:hover {background-color: #d4ebff;}#sk-container-id-6 div.sk-parallel-item::after {content: \"\";width: 100%;border-bottom: 1px solid gray;flex-grow: 1;}#sk-container-id-6 div.sk-label:hover label.sk-toggleable__label {background-color: #d4ebff;}#sk-container-id-6 div.sk-serial::before {content: \"\";position: absolute;border-left: 1px solid gray;box-sizing: border-box;top: 0;bottom: 0;left: 50%;z-index: 0;}#sk-container-id-6 div.sk-serial {display: flex;flex-direction: column;align-items: center;background-color: white;padding-right: 0.2em;padding-left: 0.2em;position: relative;}#sk-container-id-6 div.sk-item {position: relative;z-index: 1;}#sk-container-id-6 div.sk-parallel {display: flex;align-items: stretch;justify-content: center;background-color: white;position: relative;}#sk-container-id-6 div.sk-item::before, #sk-container-id-6 div.sk-parallel-item::before {content: \"\";position: absolute;border-left: 1px solid gray;box-sizing: border-box;top: 0;bottom: 0;left: 50%;z-index: -1;}#sk-container-id-6 div.sk-parallel-item {display: flex;flex-direction: column;z-index: 1;position: relative;background-color: white;}#sk-container-id-6 div.sk-parallel-item:first-child::after {align-self: flex-end;width: 50%;}#sk-container-id-6 div.sk-parallel-item:last-child::after {align-self: flex-start;width: 50%;}#sk-container-id-6 div.sk-parallel-item:only-child::after {width: 0;}#sk-container-id-6 div.sk-dashed-wrapped {border: 1px dashed gray;margin: 0 0.4em 0.5em 0.4em;box-sizing: border-box;padding-bottom: 0.4em;background-color: white;}#sk-container-id-6 div.sk-label label {font-family: monospace;font-weight: bold;display: inline-block;line-height: 1.2em;}#sk-container-id-6 div.sk-label-container {text-align: center;}#sk-container-id-6 div.sk-container {/* jupyter's `normalize.less` sets `[hidden] { display: none; }` but bootstrap.min.css set `[hidden] { display: none !important; }` so we also need the `!important` here to be able to override the default hidden behavior on the sphinx rendered scikit-learn.org. See: https://github.com/scikit-learn/scikit-learn/issues/21755 */display: inline-block !important;position: relative;}#sk-container-id-6 div.sk-text-repr-fallback {display: none;}</style><div id=\"sk-container-id-6\" class=\"sk-top-container\"><div class=\"sk-text-repr-fallback\"><pre>RandomizedSearchCV(cv=10, estimator=Ridge(normalize=True), n_jobs=-1,\n",
       "                   param_distributions={&#x27;alpha&#x27;: [1e-15, 1e-10, 1e-08, 0.0009,\n",
       "                                                  0.0007, 0.0005, 0.0003,\n",
       "                                                  0.0001, 0.001, 0.05, 0.01,\n",
       "                                                  0.1, 0.3, 1, 3, 5, 10, 15, 18,\n",
       "                                                  20, 30, 50, 75, 100]},\n",
       "                   verbose=1)</pre><b>In a Jupyter environment, please rerun this cell to show the HTML representation or trust the notebook. <br />On GitHub, the HTML representation is unable to render, please try loading this page with nbviewer.org.</b></div><div class=\"sk-container\" hidden><div class=\"sk-item sk-dashed-wrapped\"><div class=\"sk-label-container\"><div class=\"sk-label sk-toggleable\"><input class=\"sk-toggleable__control sk-hidden--visually\" id=\"sk-estimator-id-10\" type=\"checkbox\" ><label for=\"sk-estimator-id-10\" class=\"sk-toggleable__label sk-toggleable__label-arrow\">RandomizedSearchCV</label><div class=\"sk-toggleable__content\"><pre>RandomizedSearchCV(cv=10, estimator=Ridge(normalize=True), n_jobs=-1,\n",
       "                   param_distributions={&#x27;alpha&#x27;: [1e-15, 1e-10, 1e-08, 0.0009,\n",
       "                                                  0.0007, 0.0005, 0.0003,\n",
       "                                                  0.0001, 0.001, 0.05, 0.01,\n",
       "                                                  0.1, 0.3, 1, 3, 5, 10, 15, 18,\n",
       "                                                  20, 30, 50, 75, 100]},\n",
       "                   verbose=1)</pre></div></div></div><div class=\"sk-parallel\"><div class=\"sk-parallel-item\"><div class=\"sk-item\"><div class=\"sk-label-container\"><div class=\"sk-label sk-toggleable\"><input class=\"sk-toggleable__control sk-hidden--visually\" id=\"sk-estimator-id-11\" type=\"checkbox\" ><label for=\"sk-estimator-id-11\" class=\"sk-toggleable__label sk-toggleable__label-arrow\">estimator: Ridge</label><div class=\"sk-toggleable__content\"><pre>Ridge(normalize=True)</pre></div></div></div><div class=\"sk-serial\"><div class=\"sk-item\"><div class=\"sk-estimator sk-toggleable\"><input class=\"sk-toggleable__control sk-hidden--visually\" id=\"sk-estimator-id-12\" type=\"checkbox\" ><label for=\"sk-estimator-id-12\" class=\"sk-toggleable__label sk-toggleable__label-arrow\">Ridge</label><div class=\"sk-toggleable__content\"><pre>Ridge(normalize=True)</pre></div></div></div></div></div></div></div></div></div></div>"
      ],
      "text/plain": [
       "RandomizedSearchCV(cv=10, estimator=Ridge(normalize=True), n_jobs=-1,\n",
       "                   param_distributions={'alpha': [1e-15, 1e-10, 1e-08, 0.0009,\n",
       "                                                  0.0007, 0.0005, 0.0003,\n",
       "                                                  0.0001, 0.001, 0.05, 0.01,\n",
       "                                                  0.1, 0.3, 1, 3, 5, 10, 15, 18,\n",
       "                                                  20, 30, 50, 75, 100]},\n",
       "                   verbose=1)"
      ]
     },
     "execution_count": 89,
     "metadata": {},
     "output_type": "execute_result"
    }
   ],
   "source": [
    "grid = {'alpha': [1e-15, 1e-10, 1e-8, 9e-4, 7e-4, 5e-4, 3e-4, 1e-4, 1e-3, 5e-2, 1e-2, 0.1, 0.3, \n",
    "              1, 3, 5, 10, 15, 18, 20, 30, 50, 75, 100]} \n",
    "ridge = Ridge(normalize=True)\n",
    "ridge_cv = RandomizedSearchCV(ridge, grid, cv=10, verbose=1, n_jobs=-1)\n",
    "ridge_cv.fit(X_train, y_train)"
   ]
  },
  {
   "cell_type": "code",
   "execution_count": 91,
   "id": "9a9ec3e2-e0d7-4b75-8da5-23e3c255feaa",
   "metadata": {},
   "outputs": [
    {
     "data": {
      "text/plain": [
       "0.492112861144268"
      ]
     },
     "execution_count": 91,
     "metadata": {},
     "output_type": "execute_result"
    }
   ],
   "source": [
    "ridge_cv.score(X_test, y_test)"
   ]
  },
  {
   "cell_type": "code",
   "execution_count": 92,
   "id": "99b734ca-a6f3-4b5a-94d3-60053dfbd639",
   "metadata": {},
   "outputs": [
    {
     "data": {
      "text/plain": [
       "0.5946205561504245"
      ]
     },
     "execution_count": 92,
     "metadata": {},
     "output_type": "execute_result"
    }
   ],
   "source": [
    "ridge_cv.best_score_"
   ]
  },
  {
   "cell_type": "code",
   "execution_count": 93,
   "id": "b84116e7-195c-48e4-b34c-bec3ed8ebb9f",
   "metadata": {},
   "outputs": [
    {
     "data": {
      "text/plain": [
       "{'alpha': 0.05}"
      ]
     },
     "execution_count": 93,
     "metadata": {},
     "output_type": "execute_result"
    }
   ],
   "source": [
    "ridge_cv.best_params_"
   ]
  },
  {
   "cell_type": "code",
   "execution_count": 94,
   "id": "e7b10024-6dc0-44d3-a620-0f336de120e9",
   "metadata": {},
   "outputs": [
    {
     "data": {
      "text/plain": [
       "29113.422098179824"
      ]
     },
     "execution_count": 94,
     "metadata": {},
     "output_type": "execute_result"
    }
   ],
   "source": [
    "# Mean Squared Error.\n",
    "y_pred = ridge_cv.predict(X_test)\n",
    "MSE(y_test, y_pred)"
   ]
  },
  {
   "cell_type": "markdown",
   "id": "cc43ff82-a9c2-4696-b4d2-dc4d4bef111c",
   "metadata": {},
   "source": [
    "### 5. Lasso CV"
   ]
  },
  {
   "cell_type": "code",
   "execution_count": 97,
   "id": "4224c5e2-298f-4522-b17f-b2852a7f8b1f",
   "metadata": {},
   "outputs": [
    {
     "name": "stdout",
     "output_type": "stream",
     "text": [
      "Fitting 10 folds for each of 10 candidates, totalling 100 fits\n"
     ]
    },
    {
     "data": {
      "text/html": [
       "<style>#sk-container-id-7 {color: black;background-color: white;}#sk-container-id-7 pre{padding: 0;}#sk-container-id-7 div.sk-toggleable {background-color: white;}#sk-container-id-7 label.sk-toggleable__label {cursor: pointer;display: block;width: 100%;margin-bottom: 0;padding: 0.3em;box-sizing: border-box;text-align: center;}#sk-container-id-7 label.sk-toggleable__label-arrow:before {content: \"▸\";float: left;margin-right: 0.25em;color: #696969;}#sk-container-id-7 label.sk-toggleable__label-arrow:hover:before {color: black;}#sk-container-id-7 div.sk-estimator:hover label.sk-toggleable__label-arrow:before {color: black;}#sk-container-id-7 div.sk-toggleable__content {max-height: 0;max-width: 0;overflow: hidden;text-align: left;background-color: #f0f8ff;}#sk-container-id-7 div.sk-toggleable__content pre {margin: 0.2em;color: black;border-radius: 0.25em;background-color: #f0f8ff;}#sk-container-id-7 input.sk-toggleable__control:checked~div.sk-toggleable__content {max-height: 200px;max-width: 100%;overflow: auto;}#sk-container-id-7 input.sk-toggleable__control:checked~label.sk-toggleable__label-arrow:before {content: \"▾\";}#sk-container-id-7 div.sk-estimator input.sk-toggleable__control:checked~label.sk-toggleable__label {background-color: #d4ebff;}#sk-container-id-7 div.sk-label input.sk-toggleable__control:checked~label.sk-toggleable__label {background-color: #d4ebff;}#sk-container-id-7 input.sk-hidden--visually {border: 0;clip: rect(1px 1px 1px 1px);clip: rect(1px, 1px, 1px, 1px);height: 1px;margin: -1px;overflow: hidden;padding: 0;position: absolute;width: 1px;}#sk-container-id-7 div.sk-estimator {font-family: monospace;background-color: #f0f8ff;border: 1px dotted black;border-radius: 0.25em;box-sizing: border-box;margin-bottom: 0.5em;}#sk-container-id-7 div.sk-estimator:hover {background-color: #d4ebff;}#sk-container-id-7 div.sk-parallel-item::after {content: \"\";width: 100%;border-bottom: 1px solid gray;flex-grow: 1;}#sk-container-id-7 div.sk-label:hover label.sk-toggleable__label {background-color: #d4ebff;}#sk-container-id-7 div.sk-serial::before {content: \"\";position: absolute;border-left: 1px solid gray;box-sizing: border-box;top: 0;bottom: 0;left: 50%;z-index: 0;}#sk-container-id-7 div.sk-serial {display: flex;flex-direction: column;align-items: center;background-color: white;padding-right: 0.2em;padding-left: 0.2em;position: relative;}#sk-container-id-7 div.sk-item {position: relative;z-index: 1;}#sk-container-id-7 div.sk-parallel {display: flex;align-items: stretch;justify-content: center;background-color: white;position: relative;}#sk-container-id-7 div.sk-item::before, #sk-container-id-7 div.sk-parallel-item::before {content: \"\";position: absolute;border-left: 1px solid gray;box-sizing: border-box;top: 0;bottom: 0;left: 50%;z-index: -1;}#sk-container-id-7 div.sk-parallel-item {display: flex;flex-direction: column;z-index: 1;position: relative;background-color: white;}#sk-container-id-7 div.sk-parallel-item:first-child::after {align-self: flex-end;width: 50%;}#sk-container-id-7 div.sk-parallel-item:last-child::after {align-self: flex-start;width: 50%;}#sk-container-id-7 div.sk-parallel-item:only-child::after {width: 0;}#sk-container-id-7 div.sk-dashed-wrapped {border: 1px dashed gray;margin: 0 0.4em 0.5em 0.4em;box-sizing: border-box;padding-bottom: 0.4em;background-color: white;}#sk-container-id-7 div.sk-label label {font-family: monospace;font-weight: bold;display: inline-block;line-height: 1.2em;}#sk-container-id-7 div.sk-label-container {text-align: center;}#sk-container-id-7 div.sk-container {/* jupyter's `normalize.less` sets `[hidden] { display: none; }` but bootstrap.min.css set `[hidden] { display: none !important; }` so we also need the `!important` here to be able to override the default hidden behavior on the sphinx rendered scikit-learn.org. See: https://github.com/scikit-learn/scikit-learn/issues/21755 */display: inline-block !important;position: relative;}#sk-container-id-7 div.sk-text-repr-fallback {display: none;}</style><div id=\"sk-container-id-7\" class=\"sk-top-container\"><div class=\"sk-text-repr-fallback\"><pre>RandomizedSearchCV(cv=10, estimator=Lasso(normalize=True), n_jobs=-1,\n",
       "                   param_distributions={&#x27;alpha&#x27;: [1e-15, 1e-10, 1e-08, 0.0009,\n",
       "                                                  0.0007, 0.0005, 0.0003,\n",
       "                                                  0.0001, 0.001, 0.05, 0.01,\n",
       "                                                  0.1, 0.3, 1, 3, 5, 10, 15, 18,\n",
       "                                                  20, 30, 50, 75, 100]},\n",
       "                   verbose=1)</pre><b>In a Jupyter environment, please rerun this cell to show the HTML representation or trust the notebook. <br />On GitHub, the HTML representation is unable to render, please try loading this page with nbviewer.org.</b></div><div class=\"sk-container\" hidden><div class=\"sk-item sk-dashed-wrapped\"><div class=\"sk-label-container\"><div class=\"sk-label sk-toggleable\"><input class=\"sk-toggleable__control sk-hidden--visually\" id=\"sk-estimator-id-13\" type=\"checkbox\" ><label for=\"sk-estimator-id-13\" class=\"sk-toggleable__label sk-toggleable__label-arrow\">RandomizedSearchCV</label><div class=\"sk-toggleable__content\"><pre>RandomizedSearchCV(cv=10, estimator=Lasso(normalize=True), n_jobs=-1,\n",
       "                   param_distributions={&#x27;alpha&#x27;: [1e-15, 1e-10, 1e-08, 0.0009,\n",
       "                                                  0.0007, 0.0005, 0.0003,\n",
       "                                                  0.0001, 0.001, 0.05, 0.01,\n",
       "                                                  0.1, 0.3, 1, 3, 5, 10, 15, 18,\n",
       "                                                  20, 30, 50, 75, 100]},\n",
       "                   verbose=1)</pre></div></div></div><div class=\"sk-parallel\"><div class=\"sk-parallel-item\"><div class=\"sk-item\"><div class=\"sk-label-container\"><div class=\"sk-label sk-toggleable\"><input class=\"sk-toggleable__control sk-hidden--visually\" id=\"sk-estimator-id-14\" type=\"checkbox\" ><label for=\"sk-estimator-id-14\" class=\"sk-toggleable__label sk-toggleable__label-arrow\">estimator: Lasso</label><div class=\"sk-toggleable__content\"><pre>Lasso(normalize=True)</pre></div></div></div><div class=\"sk-serial\"><div class=\"sk-item\"><div class=\"sk-estimator sk-toggleable\"><input class=\"sk-toggleable__control sk-hidden--visually\" id=\"sk-estimator-id-15\" type=\"checkbox\" ><label for=\"sk-estimator-id-15\" class=\"sk-toggleable__label sk-toggleable__label-arrow\">Lasso</label><div class=\"sk-toggleable__content\"><pre>Lasso(normalize=True)</pre></div></div></div></div></div></div></div></div></div></div>"
      ],
      "text/plain": [
       "RandomizedSearchCV(cv=10, estimator=Lasso(normalize=True), n_jobs=-1,\n",
       "                   param_distributions={'alpha': [1e-15, 1e-10, 1e-08, 0.0009,\n",
       "                                                  0.0007, 0.0005, 0.0003,\n",
       "                                                  0.0001, 0.001, 0.05, 0.01,\n",
       "                                                  0.1, 0.3, 1, 3, 5, 10, 15, 18,\n",
       "                                                  20, 30, 50, 75, 100]},\n",
       "                   verbose=1)"
      ]
     },
     "execution_count": 97,
     "metadata": {},
     "output_type": "execute_result"
    }
   ],
   "source": [
    "grid = {'alpha': [1e-15, 1e-10, 1e-8, 9e-4, 7e-4, 5e-4, 3e-4, 1e-4, 1e-3, 5e-2, 1e-2, 0.1, 0.3, \n",
    "              1, 3, 5, 10, 15, 18, 20, 30, 50, 75, 100]}\n",
    "\n",
    "lasso = Lasso(normalize=True)\n",
    "lasso_cv = RandomizedSearchCV(lasso, grid, cv=10, verbose=1, n_jobs=-1)\n",
    "lasso_cv.fit(X_train, y_train)"
   ]
  },
  {
   "cell_type": "code",
   "execution_count": 98,
   "id": "2353d158-9db8-4475-b088-da700dfff9cd",
   "metadata": {},
   "outputs": [
    {
     "data": {
      "text/plain": [
       "0.4894347165433881"
      ]
     },
     "execution_count": 98,
     "metadata": {},
     "output_type": "execute_result"
    }
   ],
   "source": [
    "lasso_cv.score(X_test, y_test)"
   ]
  },
  {
   "cell_type": "code",
   "execution_count": 99,
   "id": "109cda19-eb99-4dc3-bdee-b0564c4a5f7c",
   "metadata": {},
   "outputs": [
    {
     "data": {
      "text/plain": [
       "0.5940132409147802"
      ]
     },
     "execution_count": 99,
     "metadata": {},
     "output_type": "execute_result"
    }
   ],
   "source": [
    "lasso_cv.best_score_"
   ]
  },
  {
   "cell_type": "code",
   "execution_count": 100,
   "id": "778dc6d3-e11d-4a71-984e-5dbb681a6450",
   "metadata": {},
   "outputs": [
    {
     "data": {
      "text/plain": [
       "29266.940366787774"
      ]
     },
     "execution_count": 100,
     "metadata": {},
     "output_type": "execute_result"
    }
   ],
   "source": [
    "# Mean Squared Error.\n",
    "y_pred = lasso_cv.predict(X_test)\n",
    "MSE(y_test, y_pred)"
   ]
  },
  {
   "cell_type": "markdown",
   "id": "338bce21-1e72-469b-9445-24c81e407263",
   "metadata": {},
   "source": [
    "### 6. Voting Regressor"
   ]
  },
  {
   "cell_type": "code",
   "execution_count": 154,
   "id": "3fa60d1b-e01d-4956-ad84-e7aad1afe934",
   "metadata": {},
   "outputs": [
    {
     "data": {
      "text/html": [
       "<style>#sk-container-id-14 {color: black;background-color: white;}#sk-container-id-14 pre{padding: 0;}#sk-container-id-14 div.sk-toggleable {background-color: white;}#sk-container-id-14 label.sk-toggleable__label {cursor: pointer;display: block;width: 100%;margin-bottom: 0;padding: 0.3em;box-sizing: border-box;text-align: center;}#sk-container-id-14 label.sk-toggleable__label-arrow:before {content: \"▸\";float: left;margin-right: 0.25em;color: #696969;}#sk-container-id-14 label.sk-toggleable__label-arrow:hover:before {color: black;}#sk-container-id-14 div.sk-estimator:hover label.sk-toggleable__label-arrow:before {color: black;}#sk-container-id-14 div.sk-toggleable__content {max-height: 0;max-width: 0;overflow: hidden;text-align: left;background-color: #f0f8ff;}#sk-container-id-14 div.sk-toggleable__content pre {margin: 0.2em;color: black;border-radius: 0.25em;background-color: #f0f8ff;}#sk-container-id-14 input.sk-toggleable__control:checked~div.sk-toggleable__content {max-height: 200px;max-width: 100%;overflow: auto;}#sk-container-id-14 input.sk-toggleable__control:checked~label.sk-toggleable__label-arrow:before {content: \"▾\";}#sk-container-id-14 div.sk-estimator input.sk-toggleable__control:checked~label.sk-toggleable__label {background-color: #d4ebff;}#sk-container-id-14 div.sk-label input.sk-toggleable__control:checked~label.sk-toggleable__label {background-color: #d4ebff;}#sk-container-id-14 input.sk-hidden--visually {border: 0;clip: rect(1px 1px 1px 1px);clip: rect(1px, 1px, 1px, 1px);height: 1px;margin: -1px;overflow: hidden;padding: 0;position: absolute;width: 1px;}#sk-container-id-14 div.sk-estimator {font-family: monospace;background-color: #f0f8ff;border: 1px dotted black;border-radius: 0.25em;box-sizing: border-box;margin-bottom: 0.5em;}#sk-container-id-14 div.sk-estimator:hover {background-color: #d4ebff;}#sk-container-id-14 div.sk-parallel-item::after {content: \"\";width: 100%;border-bottom: 1px solid gray;flex-grow: 1;}#sk-container-id-14 div.sk-label:hover label.sk-toggleable__label {background-color: #d4ebff;}#sk-container-id-14 div.sk-serial::before {content: \"\";position: absolute;border-left: 1px solid gray;box-sizing: border-box;top: 0;bottom: 0;left: 50%;z-index: 0;}#sk-container-id-14 div.sk-serial {display: flex;flex-direction: column;align-items: center;background-color: white;padding-right: 0.2em;padding-left: 0.2em;position: relative;}#sk-container-id-14 div.sk-item {position: relative;z-index: 1;}#sk-container-id-14 div.sk-parallel {display: flex;align-items: stretch;justify-content: center;background-color: white;position: relative;}#sk-container-id-14 div.sk-item::before, #sk-container-id-14 div.sk-parallel-item::before {content: \"\";position: absolute;border-left: 1px solid gray;box-sizing: border-box;top: 0;bottom: 0;left: 50%;z-index: -1;}#sk-container-id-14 div.sk-parallel-item {display: flex;flex-direction: column;z-index: 1;position: relative;background-color: white;}#sk-container-id-14 div.sk-parallel-item:first-child::after {align-self: flex-end;width: 50%;}#sk-container-id-14 div.sk-parallel-item:last-child::after {align-self: flex-start;width: 50%;}#sk-container-id-14 div.sk-parallel-item:only-child::after {width: 0;}#sk-container-id-14 div.sk-dashed-wrapped {border: 1px dashed gray;margin: 0 0.4em 0.5em 0.4em;box-sizing: border-box;padding-bottom: 0.4em;background-color: white;}#sk-container-id-14 div.sk-label label {font-family: monospace;font-weight: bold;display: inline-block;line-height: 1.2em;}#sk-container-id-14 div.sk-label-container {text-align: center;}#sk-container-id-14 div.sk-container {/* jupyter's `normalize.less` sets `[hidden] { display: none; }` but bootstrap.min.css set `[hidden] { display: none !important; }` so we also need the `!important` here to be able to override the default hidden behavior on the sphinx rendered scikit-learn.org. See: https://github.com/scikit-learn/scikit-learn/issues/21755 */display: inline-block !important;position: relative;}#sk-container-id-14 div.sk-text-repr-fallback {display: none;}</style><div id=\"sk-container-id-14\" class=\"sk-top-container\"><div class=\"sk-text-repr-fallback\"><pre>VotingRegressor(estimators=[(&#x27;Linear Regression&#x27;, LinearRegression()),\n",
       "                            (&#x27;Random Forest&#x27;, RandomForestRegressor()),\n",
       "                            (&#x27;Gadient Boosting&#x27;, GradientBoostingRegressor())])</pre><b>In a Jupyter environment, please rerun this cell to show the HTML representation or trust the notebook. <br />On GitHub, the HTML representation is unable to render, please try loading this page with nbviewer.org.</b></div><div class=\"sk-container\" hidden><div class=\"sk-item sk-dashed-wrapped\"><div class=\"sk-label-container\"><div class=\"sk-label sk-toggleable\"><input class=\"sk-toggleable__control sk-hidden--visually\" id=\"sk-estimator-id-29\" type=\"checkbox\" ><label for=\"sk-estimator-id-29\" class=\"sk-toggleable__label sk-toggleable__label-arrow\">VotingRegressor</label><div class=\"sk-toggleable__content\"><pre>VotingRegressor(estimators=[(&#x27;Linear Regression&#x27;, LinearRegression()),\n",
       "                            (&#x27;Random Forest&#x27;, RandomForestRegressor()),\n",
       "                            (&#x27;Gadient Boosting&#x27;, GradientBoostingRegressor())])</pre></div></div></div><div class=\"sk-parallel\"><div class=\"sk-parallel-item\"><div class=\"sk-item\"><div class=\"sk-label-container\"><div class=\"sk-label sk-toggleable\"><label>Linear Regression</label></div></div><div class=\"sk-serial\"><div class=\"sk-item\"><div class=\"sk-estimator sk-toggleable\"><input class=\"sk-toggleable__control sk-hidden--visually\" id=\"sk-estimator-id-30\" type=\"checkbox\" ><label for=\"sk-estimator-id-30\" class=\"sk-toggleable__label sk-toggleable__label-arrow\">LinearRegression</label><div class=\"sk-toggleable__content\"><pre>LinearRegression()</pre></div></div></div></div></div></div><div class=\"sk-parallel-item\"><div class=\"sk-item\"><div class=\"sk-label-container\"><div class=\"sk-label sk-toggleable\"><label>Random Forest</label></div></div><div class=\"sk-serial\"><div class=\"sk-item\"><div class=\"sk-estimator sk-toggleable\"><input class=\"sk-toggleable__control sk-hidden--visually\" id=\"sk-estimator-id-31\" type=\"checkbox\" ><label for=\"sk-estimator-id-31\" class=\"sk-toggleable__label sk-toggleable__label-arrow\">RandomForestRegressor</label><div class=\"sk-toggleable__content\"><pre>RandomForestRegressor()</pre></div></div></div></div></div></div><div class=\"sk-parallel-item\"><div class=\"sk-item\"><div class=\"sk-label-container\"><div class=\"sk-label sk-toggleable\"><label>Gadient Boosting</label></div></div><div class=\"sk-serial\"><div class=\"sk-item\"><div class=\"sk-estimator sk-toggleable\"><input class=\"sk-toggleable__control sk-hidden--visually\" id=\"sk-estimator-id-32\" type=\"checkbox\" ><label for=\"sk-estimator-id-32\" class=\"sk-toggleable__label sk-toggleable__label-arrow\">GradientBoostingRegressor</label><div class=\"sk-toggleable__content\"><pre>GradientBoostingRegressor()</pre></div></div></div></div></div></div></div></div></div></div>"
      ],
      "text/plain": [
       "VotingRegressor(estimators=[('Linear Regression', LinearRegression()),\n",
       "                            ('Random Forest', RandomForestRegressor()),\n",
       "                            ('Gadient Boosting', GradientBoostingRegressor())])"
      ]
     },
     "execution_count": 154,
     "metadata": {},
     "output_type": "execute_result"
    }
   ],
   "source": [
    "lr = LinearRegression()\n",
    "rf = RandomForestRegressor()\n",
    "gb = GradientBoostingRegressor()\n",
    "\n",
    "regressor = [('Linear Regression', lr),('Random Forest', rf), ('Gadient Boosting', gb)]\n",
    "\n",
    "vc = VotingRegressor(estimators=regressor)\n",
    "vc.fit(X_train, y_train)"
   ]
  },
  {
   "cell_type": "code",
   "execution_count": 155,
   "id": "3536cd99-4eb7-48a0-9352-c002b73535df",
   "metadata": {},
   "outputs": [
    {
     "data": {
      "text/plain": [
       "0.8172237798120671"
      ]
     },
     "execution_count": 155,
     "metadata": {},
     "output_type": "execute_result"
    }
   ],
   "source": [
    "vc.score(X_train, y_train)"
   ]
  },
  {
   "cell_type": "code",
   "execution_count": 156,
   "id": "5f053b6c-c6b2-4d39-a68b-73bb5a8c1c55",
   "metadata": {},
   "outputs": [
    {
     "data": {
      "text/plain": [
       "0.5583525896280139"
      ]
     },
     "execution_count": 156,
     "metadata": {},
     "output_type": "execute_result"
    }
   ],
   "source": [
    "vc.score(X_test, y_test)"
   ]
  },
  {
   "cell_type": "code",
   "execution_count": 157,
   "id": "31226d36-a37c-413e-97b4-9291a0a76519",
   "metadata": {},
   "outputs": [
    {
     "data": {
      "text/plain": [
       "25316.387230628454"
      ]
     },
     "execution_count": 157,
     "metadata": {},
     "output_type": "execute_result"
    }
   ],
   "source": [
    "# Mean Squared Error.\n",
    "y_pred = vc.predict(X_test)\n",
    "MSE(y_test, y_pred)"
   ]
  },
  {
   "cell_type": "code",
   "execution_count": 158,
   "id": "a862cee9-849b-4fdc-81ec-17e89b05c8fe",
   "metadata": {},
   "outputs": [
    {
     "data": {
      "image/png": "[encoded data removed]",
      "text/plain": [
       "<Figure size 360x432 with 1 Axes>"
      ]
     },
     "metadata": {
      "needs_background": "light"
     },
     "output_type": "display_data"
    }
   ],
   "source": [
    "# Actual vs. Predicted Value.\n",
    "plt.figure(figsize=(5, 6))\n",
    "\n",
    "ax = sns.distplot(y_test, hist=False, color=\"r\", label=\"Actual Value\")\n",
    "sns.distplot(y_pred, hist=False, color=\"b\", label=\"Predicted Values\", ax=ax)\n",
    "\n",
    "plt.title('Voting Regression Actual vs Predicted values')\n",
    "plt.legend()\n",
    "plt.show()"
   ]
  },
  {
   "cell_type": "code",
   "execution_count": null,
   "id": "6c57ebf6-49b9-4dc8-ada0-792023c43c1e",
   "metadata": {},
   "outputs": [],
   "source": []
  }
 ],
 "metadata": {
  "kernelspec": {
   "display_name": "Python 3",
   "language": "python",
   "name": "python3"
  },
  "language_info": {
   "codemirror_mode": {
    "name": "ipython",
    "version": 3
   },
   "file_extension": ".py",
   "mimetype": "text/x-python",
   "name": "python",
   "nbconvert_exporter": "python",
   "pygments_lexer": "ipython3",
   "version": "3.8.8"
  }
 },
 "nbformat": 4,
 "nbformat_minor": 5
}
